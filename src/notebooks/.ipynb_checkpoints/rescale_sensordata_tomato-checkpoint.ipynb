{
 "cells": [
  {
   "cell_type": "code",
   "execution_count": 1,
   "id": "817a435d",
   "metadata": {
    "ExecuteTime": {
     "end_time": "2023-06-19T23:54:42.922087Z",
     "start_time": "2023-06-19T23:54:28.076558Z"
    }
   },
   "outputs": [
    {
     "name": "stderr",
     "output_type": "stream",
     "text": [
      "2023-07-18 12:33:54.286429: I tensorflow/tsl/cuda/cudart_stub.cc:28] Could not find cuda drivers on your machine, GPU will not be used.\n",
      "2023-07-18 12:33:56.024263: I tensorflow/tsl/cuda/cudart_stub.cc:28] Could not find cuda drivers on your machine, GPU will not be used.\n",
      "2023-07-18 12:33:56.030230: I tensorflow/core/platform/cpu_feature_guard.cc:182] This TensorFlow binary is optimized to use available CPU instructions in performance-critical operations.\n",
      "To enable the following instructions: AVX2 FMA, in other operations, rebuild TensorFlow with the appropriate compiler flags.\n",
      "2023-07-18 12:34:00.053897: W tensorflow/compiler/tf2tensorrt/utils/py_utils.cc:38] TF-TRT Warning: Could not find TensorRT\n"
     ]
    }
   ],
   "source": [
    "import warnings\n",
    "warnings.filterwarnings(\"ignore\")\n",
    "\n",
    "import glob \n",
    "import pandas as pd\n",
    "import numpy as np \n",
    "import matplotlib.pyplot as plt\n",
    "from pathlib import Path\n",
    "from tensorflow.keras.models import Sequential\n",
    "from tensorflow.keras.layers import Dense\n",
    "\n",
    "from sklearn.ensemble import RandomForestRegressor\n",
    "\n",
    "from sklearn.metrics import mean_absolute_error, mean_squared_error\n",
    "from sklearn.metrics import r2_score"
   ]
  },
  {
   "cell_type": "code",
   "execution_count": 2,
   "id": "33e87e98",
   "metadata": {},
   "outputs": [],
   "source": [
    "def error(df):\n",
    "    mae = mean_absolute_error(df['ytest'], df['pred'])\n",
    "    mse = mean_squared_error(df['ytest'], df['pred'])\n",
    "    var = df['pred'].var()\n",
    "    corr = df['ytest'].corr(df['pred']) \n",
    "    bias = (df['pred']-df['ytest']).sum()/(df['ytest'].sum()) *100\n",
    "    r2 = r2_score(df['ytest'], df['pred'])\n",
    "    \n",
    "    return mae"
   ]
  },
  {
   "cell_type": "code",
   "execution_count": 4,
   "id": "baacd742",
   "metadata": {
    "ExecuteTime": {
     "end_time": "2023-06-19T23:54:45.108150Z",
     "start_time": "2023-06-19T23:54:45.066313Z"
    }
   },
   "outputs": [],
   "source": [
    "files = glob.glob('../../data/raw/*/report.csv')"
   ]
  },
  {
   "cell_type": "code",
   "execution_count": 6,
   "id": "c0c577be",
   "metadata": {
    "ExecuteTime": {
     "end_time": "2023-06-19T23:54:45.958086Z",
     "start_time": "2023-06-19T23:54:45.954651Z"
    }
   },
   "outputs": [],
   "source": [
    "tomato_fids = \"68519 68513 68400 68514 68518 68517 68372 68398 68377 68403 68406 68526 68405 68399 68515 68528 68831\".split(' ') "
   ]
  },
  {
   "cell_type": "code",
   "execution_count": 18,
   "id": "cdbbeabe",
   "metadata": {
    "ExecuteTime": {
     "end_time": "2023-06-19T23:54:46.918304Z",
     "start_time": "2023-06-19T23:54:46.835445Z"
    }
   },
   "outputs": [],
   "source": [
    "data = pd.read_csv(files[0])\n"
   ]
  },
  {
   "cell_type": "markdown",
   "id": "eab82d38",
   "metadata": {},
   "source": [
    "## Rainfall"
   ]
  },
  {
   "cell_type": "code",
   "execution_count": 16,
   "id": "237e7e47",
   "metadata": {
    "ExecuteTime": {
     "end_time": "2023-06-20T00:21:16.325614Z",
     "start_time": "2023-06-20T00:21:16.312046Z"
    }
   },
   "outputs": [],
   "source": [
    "def rainfall_condtion(df, col):\n",
    "    condition = [(df[col] < 25), (df[col] >= 25) & (df[col] < 50),\n",
    "                 (df[col] >= 50) & (df[col] < 100), (df[col] >= 100)]\n",
    "\n",
    "    choices = [1, 0.9, 0.75, 0.5]\n",
    "\n",
    "    test = np.select(condition, choices)\n",
    "    return test\n",
    "\n",
    "\n",
    "\n",
    "\n",
    "def phases_condtion(ndvi_df):\n",
    "    conditions_ndvi = [ndvi_df.days<10, \n",
    "             ((ndvi_df.days >= 10) & (ndvi_df.days < 30)),\n",
    "             ((ndvi_df.days >= 30) & (ndvi_df.days < 90)),\n",
    "             ((ndvi_df.days >= 90))]\n",
    "\n",
    "    choices = ['Phase-1','Phase-2','Phase-3', 'Phase-4']\n",
    "    weights = [0.15, 0.15, 0.35, 0.35]\n",
    "    ndvi_df['Phase'] = np.select(conditions_ndvi, choices)\n",
    "    ndvi_df['Phase_weight'] = np.select(conditions_ndvi, weights)\n",
    "    \n",
    "    return ndvi_df\n",
    "\n",
    "def rainfall_prediction(data, fid):\n",
    "    data = data.loc[data['Rain fall (mm)']!='-']\n",
    "    sow = client.loc[client.fid == int(fid), 'sowingdt'].values[0]\n",
    "    data['date'] = pd.to_datetime(data['Date time (time zone: Asia/Kolkata)'])\n",
    "    data = data.loc[data['date']>= pd.to_datetime(sow)]\n",
    "    data['hours'] = data.date.apply(lambda x: x.strftime(\"%H\")).astype(int)\n",
    "    data['days'] = data.date.apply(lambda x: (x-pd.to_datetime(sow)).days)\n",
    "    data['Rain fall (mm)'] = data['Rain fall (mm)'].astype(float)\n",
    "    data['rain_loss'] = rainfall_condtion(data, 'Rain fall (mm)')\n",
    "    data = phases_condtion(data)[['Phase', 'rain_loss']]\n",
    "    data = data.groupby('Phase').sum()\n",
    "    try:\n",
    "        phase_1 = data.loc['Phase-1'].values[0]\n",
    "    except:\n",
    "        phase_1 = 1.0\n",
    "        \n",
    "    try:\n",
    "        phase_2 = data.loc['Phase-2'].values[0]\n",
    "    except:\n",
    "        phase_2 = 1.0\n",
    "        \n",
    "    try:\n",
    "        phase_3 = data.loc['Phase-3'].values[0]\n",
    "    except:\n",
    "        phase_3 = 1.0\n",
    "        \n",
    "    try:\n",
    "        phase_4 = data.loc['Phase-4'].values[0]\n",
    "    except:\n",
    "        phase_4 = 1.0\n",
    "    \n",
    "    return [phase_1, phase_2, phase_3, phase_4]\n"
   ]
  },
  {
   "cell_type": "code",
   "execution_count": 19,
   "id": "5fb16b8f",
   "metadata": {
    "ExecuteTime": {
     "end_time": "2023-06-19T23:54:49.990549Z",
     "start_time": "2023-06-19T23:54:49.954676Z"
    }
   },
   "outputs": [],
   "source": [
    "client = pd.read_csv('../../data/info/all_info.csv')\n"
   ]
  },
  {
   "cell_type": "code",
   "execution_count": 20,
   "id": "372d47ed",
   "metadata": {
    "ExecuteTime": {
     "end_time": "2023-06-19T23:54:51.527018Z",
     "start_time": "2023-06-19T23:54:51.082404Z"
    }
   },
   "outputs": [],
   "source": [
    "data['date'] = pd.to_datetime(data['Date time (time zone: Asia/Kolkata)'])\n",
    "data = data.loc[data['date']>= pd.to_datetime(\"2023-01-08\")]"
   ]
  },
  {
   "cell_type": "code",
   "execution_count": 21,
   "id": "bf96782d",
   "metadata": {
    "ExecuteTime": {
     "end_time": "2023-06-19T23:54:52.662761Z",
     "start_time": "2023-06-19T23:54:52.305758Z"
    }
   },
   "outputs": [],
   "source": [
    "data['hours'] = data.date.apply(lambda x: x.strftime(\"%H\")).astype(int)\n",
    "data['days'] = data.date.apply(lambda x: (x-pd.to_datetime(\"2023-01-08\")).days) \n",
    "data['rain_loss'] = rainfall_condtion(data, 'Rain fall (mm)')\n",
    "evening = data.loc[((data['hours']>=0)&(data['hours']<=6))|((data['hours']>=18)&(data['hours']<=23))]\n",
    "day = data.loc[~(((data['hours']>=0)&(data['hours']<=6))|((data['hours']>=18)&(data['hours']<=23)))]"
   ]
  },
  {
   "cell_type": "code",
   "execution_count": 23,
   "id": "a4128440",
   "metadata": {
    "ExecuteTime": {
     "end_time": "2023-06-19T23:54:54.152508Z",
     "start_time": "2023-06-19T23:54:54.074778Z"
    }
   },
   "outputs": [
    {
     "data": {
      "text/html": [
       "<div>\n",
       "<style scoped>\n",
       "    .dataframe tbody tr th:only-of-type {\n",
       "        vertical-align: middle;\n",
       "    }\n",
       "\n",
       "    .dataframe tbody tr th {\n",
       "        vertical-align: top;\n",
       "    }\n",
       "\n",
       "    .dataframe thead th {\n",
       "        text-align: right;\n",
       "    }\n",
       "</style>\n",
       "<table border=\"1\" class=\"dataframe\">\n",
       "  <thead>\n",
       "    <tr style=\"text-align: right;\">\n",
       "      <th></th>\n",
       "      <th>Date time (time zone: Asia/Kolkata)</th>\n",
       "      <th>Temperature (°C)</th>\n",
       "      <th>Humidity (%)</th>\n",
       "      <th>Pressure (hPa)</th>\n",
       "      <th>Wind direction</th>\n",
       "      <th>Wind Speed (kmh)</th>\n",
       "      <th>Rain fall (mm)</th>\n",
       "      <th>Leaf wetness (%)</th>\n",
       "      <th>Soil temperature (°C)</th>\n",
       "      <th>Soil moisture primary root zone (centibar)</th>\n",
       "      <th>Soil moisture secondary root zone (centibar)</th>\n",
       "      <th>Lux</th>\n",
       "      <th>Solar intensity (%)</th>\n",
       "      <th>date</th>\n",
       "      <th>hours</th>\n",
       "      <th>days</th>\n",
       "      <th>rain_loss</th>\n",
       "      <th>Phase</th>\n",
       "      <th>Phase_weight</th>\n",
       "    </tr>\n",
       "  </thead>\n",
       "  <tbody>\n",
       "    <tr>\n",
       "      <th>0</th>\n",
       "      <td>January 13, 2023 12:19 AM</td>\n",
       "      <td>18.7</td>\n",
       "      <td>67.47</td>\n",
       "      <td>952.01</td>\n",
       "      <td>SE</td>\n",
       "      <td>4.0</td>\n",
       "      <td>0.0</td>\n",
       "      <td>0.0</td>\n",
       "      <td>20.31</td>\n",
       "      <td>4.58</td>\n",
       "      <td>1.24</td>\n",
       "      <td>0.0</td>\n",
       "      <td>0.0</td>\n",
       "      <td>2023-01-13 00:19:00</td>\n",
       "      <td>0</td>\n",
       "      <td>5</td>\n",
       "      <td>1.0</td>\n",
       "      <td>Phase-1</td>\n",
       "      <td>0.15</td>\n",
       "    </tr>\n",
       "    <tr>\n",
       "      <th>1</th>\n",
       "      <td>January 13, 2023 1:21 AM</td>\n",
       "      <td>18.47</td>\n",
       "      <td>70.53</td>\n",
       "      <td>951.48</td>\n",
       "      <td>SE</td>\n",
       "      <td>4.0</td>\n",
       "      <td>0.0</td>\n",
       "      <td>0.0</td>\n",
       "      <td>19.88</td>\n",
       "      <td>4.68</td>\n",
       "      <td>1.22</td>\n",
       "      <td>0.0</td>\n",
       "      <td>0.0</td>\n",
       "      <td>2023-01-13 01:21:00</td>\n",
       "      <td>1</td>\n",
       "      <td>5</td>\n",
       "      <td>1.0</td>\n",
       "      <td>Phase-1</td>\n",
       "      <td>0.15</td>\n",
       "    </tr>\n",
       "    <tr>\n",
       "      <th>2</th>\n",
       "      <td>January 13, 2023 2:22 AM</td>\n",
       "      <td>18.07</td>\n",
       "      <td>72.91</td>\n",
       "      <td>950.82</td>\n",
       "      <td>SE</td>\n",
       "      <td>4.0</td>\n",
       "      <td>0.0</td>\n",
       "      <td>0.0</td>\n",
       "      <td>19.50</td>\n",
       "      <td>4.78</td>\n",
       "      <td>1.24</td>\n",
       "      <td>0.0</td>\n",
       "      <td>0.0</td>\n",
       "      <td>2023-01-13 02:22:00</td>\n",
       "      <td>2</td>\n",
       "      <td>5</td>\n",
       "      <td>1.0</td>\n",
       "      <td>Phase-1</td>\n",
       "      <td>0.15</td>\n",
       "    </tr>\n",
       "    <tr>\n",
       "      <th>3</th>\n",
       "      <td>January 13, 2023 3:24 AM</td>\n",
       "      <td>17.67</td>\n",
       "      <td>73.16</td>\n",
       "      <td>950.48</td>\n",
       "      <td>SE</td>\n",
       "      <td>2.0</td>\n",
       "      <td>0.0</td>\n",
       "      <td>0.0</td>\n",
       "      <td>19.19</td>\n",
       "      <td>4.87</td>\n",
       "      <td>1.25</td>\n",
       "      <td>0.0</td>\n",
       "      <td>0.0</td>\n",
       "      <td>2023-01-13 03:24:00</td>\n",
       "      <td>3</td>\n",
       "      <td>5</td>\n",
       "      <td>1.0</td>\n",
       "      <td>Phase-1</td>\n",
       "      <td>0.15</td>\n",
       "    </tr>\n",
       "    <tr>\n",
       "      <th>4</th>\n",
       "      <td>January 13, 2023 4:25 AM</td>\n",
       "      <td>17.22</td>\n",
       "      <td>76.46</td>\n",
       "      <td>950.68</td>\n",
       "      <td>SE</td>\n",
       "      <td>0.0</td>\n",
       "      <td>0.0</td>\n",
       "      <td>14.0</td>\n",
       "      <td>18.88</td>\n",
       "      <td>4.97</td>\n",
       "      <td>1.23</td>\n",
       "      <td>0.0</td>\n",
       "      <td>0.0</td>\n",
       "      <td>2023-01-13 04:25:00</td>\n",
       "      <td>4</td>\n",
       "      <td>5</td>\n",
       "      <td>1.0</td>\n",
       "      <td>Phase-1</td>\n",
       "      <td>0.15</td>\n",
       "    </tr>\n",
       "  </tbody>\n",
       "</table>\n",
       "</div>"
      ],
      "text/plain": [
       "  Date time (time zone: Asia/Kolkata) Temperature (°C)  Humidity (%)  \\\n",
       "0           January 13, 2023 12:19 AM             18.7         67.47   \n",
       "1            January 13, 2023 1:21 AM            18.47         70.53   \n",
       "2            January 13, 2023 2:22 AM            18.07         72.91   \n",
       "3            January 13, 2023 3:24 AM            17.67         73.16   \n",
       "4            January 13, 2023 4:25 AM            17.22         76.46   \n",
       "\n",
       "   Pressure (hPa) Wind direction  Wind Speed (kmh)  Rain fall (mm)  \\\n",
       "0          952.01             SE               4.0             0.0   \n",
       "1          951.48             SE               4.0             0.0   \n",
       "2          950.82             SE               4.0             0.0   \n",
       "3          950.48             SE               2.0             0.0   \n",
       "4          950.68             SE               0.0             0.0   \n",
       "\n",
       "   Leaf wetness (%)  Soil temperature (°C)  \\\n",
       "0               0.0                  20.31   \n",
       "1               0.0                  19.88   \n",
       "2               0.0                  19.50   \n",
       "3               0.0                  19.19   \n",
       "4              14.0                  18.88   \n",
       "\n",
       "   Soil moisture primary root zone (centibar)  \\\n",
       "0                                        4.58   \n",
       "1                                        4.68   \n",
       "2                                        4.78   \n",
       "3                                        4.87   \n",
       "4                                        4.97   \n",
       "\n",
       "   Soil moisture secondary root zone (centibar)  Lux  Solar intensity (%)  \\\n",
       "0                                          1.24  0.0                  0.0   \n",
       "1                                          1.22  0.0                  0.0   \n",
       "2                                          1.24  0.0                  0.0   \n",
       "3                                          1.25  0.0                  0.0   \n",
       "4                                          1.23  0.0                  0.0   \n",
       "\n",
       "                 date  hours  days  rain_loss    Phase  Phase_weight  \n",
       "0 2023-01-13 00:19:00      0     5        1.0  Phase-1          0.15  \n",
       "1 2023-01-13 01:21:00      1     5        1.0  Phase-1          0.15  \n",
       "2 2023-01-13 02:22:00      2     5        1.0  Phase-1          0.15  \n",
       "3 2023-01-13 03:24:00      3     5        1.0  Phase-1          0.15  \n",
       "4 2023-01-13 04:25:00      4     5        1.0  Phase-1          0.15  "
      ]
     },
     "execution_count": 23,
     "metadata": {},
     "output_type": "execute_result"
    }
   ],
   "source": [
    "data = phases_condtion(data)\n",
    "data.head()"
   ]
  },
  {
   "cell_type": "code",
   "execution_count": 17,
   "id": "79bc94af",
   "metadata": {
    "ExecuteTime": {
     "end_time": "2023-06-19T23:55:11.074770Z",
     "start_time": "2023-06-19T23:54:57.891351Z"
    }
   },
   "outputs": [],
   "source": [
    "loss_rain = []\n",
    "fids_list = []\n",
    "for fil in files:\n",
    "    \n",
    "    fid = fil.split('/')[-2]\n",
    "    \n",
    "    if fid in tomato_fids:\n",
    "        fids_list.append(fid)\n",
    "    \n",
    "        data = pd.read_csv(fil)\n",
    "        cond = '2023-04-25'\n",
    "        dat = rainfall_prediction(data, fid)\n",
    "        loss_rain.append(dat)"
   ]
  },
  {
   "cell_type": "code",
   "execution_count": 24,
   "id": "cb9a7678",
   "metadata": {
    "ExecuteTime": {
     "end_time": "2023-06-19T23:55:23.783524Z",
     "start_time": "2023-06-19T23:55:23.778861Z"
    }
   },
   "outputs": [],
   "source": [
    "phase1 = pd.DataFrame(loss_rain, columns = ['Phase-1', 'Phase-2', 'Phase-3', 'Phase-4'],)\n",
    "phase1.index.names = ['Phase']"
   ]
  },
  {
   "cell_type": "code",
   "execution_count": 28,
   "id": "683c68bd",
   "metadata": {
    "ExecuteTime": {
     "end_time": "2023-06-19T23:55:25.334947Z",
     "start_time": "2023-06-19T23:55:25.283840Z"
    }
   },
   "outputs": [
    {
     "data": {
      "text/plain": [
       "Index(['Day', '0', '1', '2', '3', '4', '5', '6', '7', '8',\n",
       "       ...\n",
       "       '112', '113', '114', '115', '116', '117', '118', '119', '120', '121'],\n",
       "      dtype='object', length=123)"
      ]
     },
     "execution_count": 28,
     "metadata": {},
     "output_type": "execute_result"
    }
   ],
   "source": [
    "optimal_rainfall = pd.read_csv('../../data/optimal_sensor/rainfall_training_data.csv')\n",
    "optimal_rainfall.columns"
   ]
  },
  {
   "cell_type": "code",
   "execution_count": 29,
   "id": "620f5270",
   "metadata": {
    "ExecuteTime": {
     "end_time": "2023-06-19T23:55:27.139279Z",
     "start_time": "2023-06-19T23:55:26.923465Z"
    }
   },
   "outputs": [],
   "source": [
    "new_rain = pd.DataFrame()\n",
    "for i in optimal_rainfall.columns[1:].values:\n",
    "    new_rain[i] = rainfall_condtion(optimal_rainfall,i)\n",
    "    \n",
    "new_rain['days'] = optimal_rainfall.Day.values"
   ]
  },
  {
   "cell_type": "code",
   "execution_count": 30,
   "id": "87086fef",
   "metadata": {
    "ExecuteTime": {
     "end_time": "2023-06-19T23:55:28.553221Z",
     "start_time": "2023-06-19T23:55:28.538755Z"
    }
   },
   "outputs": [],
   "source": [
    "new_rain = phases_condtion(new_rain)\n",
    "new_rain = new_rain.drop(columns =['days'])"
   ]
  },
  {
   "cell_type": "code",
   "execution_count": 31,
   "id": "48f5abf8",
   "metadata": {
    "ExecuteTime": {
     "end_time": "2023-06-19T23:55:29.615945Z",
     "start_time": "2023-06-19T23:55:29.579224Z"
    }
   },
   "outputs": [],
   "source": [
    "test = new_rain.groupby(['Phase']).min()\n",
    "rain_test = test.drop(columns = ['Phase_weight']).T"
   ]
  },
  {
   "cell_type": "code",
   "execution_count": 32,
   "id": "1729249e",
   "metadata": {
    "ExecuteTime": {
     "end_time": "2023-06-19T23:55:30.350800Z",
     "start_time": "2023-06-19T23:55:30.290599Z"
    }
   },
   "outputs": [],
   "source": [
    "test = new_rain.groupby(['Phase']).min()\n",
    "y_train = test.iloc[:, :-1].multiply(test[\"Phase_weight\"], axis=\"index\").sum().values"
   ]
  },
  {
   "cell_type": "code",
   "execution_count": 33,
   "id": "88d90f02",
   "metadata": {},
   "outputs": [
    {
     "data": {
      "text/html": [
       "<div>\n",
       "<style scoped>\n",
       "    .dataframe tbody tr th:only-of-type {\n",
       "        vertical-align: middle;\n",
       "    }\n",
       "\n",
       "    .dataframe tbody tr th {\n",
       "        vertical-align: top;\n",
       "    }\n",
       "\n",
       "    .dataframe thead th {\n",
       "        text-align: right;\n",
       "    }\n",
       "</style>\n",
       "<table border=\"1\" class=\"dataframe\">\n",
       "  <thead>\n",
       "    <tr style=\"text-align: right;\">\n",
       "      <th></th>\n",
       "      <th>0</th>\n",
       "      <th>1</th>\n",
       "      <th>2</th>\n",
       "      <th>3</th>\n",
       "      <th>4</th>\n",
       "      <th>5</th>\n",
       "      <th>6</th>\n",
       "      <th>7</th>\n",
       "      <th>8</th>\n",
       "      <th>9</th>\n",
       "      <th>...</th>\n",
       "      <th>113</th>\n",
       "      <th>114</th>\n",
       "      <th>115</th>\n",
       "      <th>116</th>\n",
       "      <th>117</th>\n",
       "      <th>118</th>\n",
       "      <th>119</th>\n",
       "      <th>120</th>\n",
       "      <th>121</th>\n",
       "      <th>Phase_weight</th>\n",
       "    </tr>\n",
       "    <tr>\n",
       "      <th>Phase</th>\n",
       "      <th></th>\n",
       "      <th></th>\n",
       "      <th></th>\n",
       "      <th></th>\n",
       "      <th></th>\n",
       "      <th></th>\n",
       "      <th></th>\n",
       "      <th></th>\n",
       "      <th></th>\n",
       "      <th></th>\n",
       "      <th></th>\n",
       "      <th></th>\n",
       "      <th></th>\n",
       "      <th></th>\n",
       "      <th></th>\n",
       "      <th></th>\n",
       "      <th></th>\n",
       "      <th></th>\n",
       "      <th></th>\n",
       "      <th></th>\n",
       "      <th></th>\n",
       "    </tr>\n",
       "  </thead>\n",
       "  <tbody>\n",
       "    <tr>\n",
       "      <th>Phase-1</th>\n",
       "      <td>1.0</td>\n",
       "      <td>1.0</td>\n",
       "      <td>1.0</td>\n",
       "      <td>1.0</td>\n",
       "      <td>1.0</td>\n",
       "      <td>1.0</td>\n",
       "      <td>1.0</td>\n",
       "      <td>1.0</td>\n",
       "      <td>1.0</td>\n",
       "      <td>1.0</td>\n",
       "      <td>...</td>\n",
       "      <td>1.0</td>\n",
       "      <td>0.9</td>\n",
       "      <td>1.0</td>\n",
       "      <td>1.0</td>\n",
       "      <td>1.0</td>\n",
       "      <td>1.0</td>\n",
       "      <td>1.0</td>\n",
       "      <td>1.0</td>\n",
       "      <td>1.0</td>\n",
       "      <td>0.15</td>\n",
       "    </tr>\n",
       "    <tr>\n",
       "      <th>Phase-2</th>\n",
       "      <td>1.0</td>\n",
       "      <td>1.0</td>\n",
       "      <td>1.0</td>\n",
       "      <td>1.0</td>\n",
       "      <td>1.0</td>\n",
       "      <td>1.0</td>\n",
       "      <td>1.0</td>\n",
       "      <td>1.0</td>\n",
       "      <td>1.0</td>\n",
       "      <td>1.0</td>\n",
       "      <td>...</td>\n",
       "      <td>1.0</td>\n",
       "      <td>1.0</td>\n",
       "      <td>1.0</td>\n",
       "      <td>1.0</td>\n",
       "      <td>1.0</td>\n",
       "      <td>0.9</td>\n",
       "      <td>1.0</td>\n",
       "      <td>1.0</td>\n",
       "      <td>1.0</td>\n",
       "      <td>0.15</td>\n",
       "    </tr>\n",
       "    <tr>\n",
       "      <th>Phase-3</th>\n",
       "      <td>0.9</td>\n",
       "      <td>1.0</td>\n",
       "      <td>1.0</td>\n",
       "      <td>1.0</td>\n",
       "      <td>1.0</td>\n",
       "      <td>0.9</td>\n",
       "      <td>1.0</td>\n",
       "      <td>1.0</td>\n",
       "      <td>1.0</td>\n",
       "      <td>1.0</td>\n",
       "      <td>...</td>\n",
       "      <td>0.9</td>\n",
       "      <td>1.0</td>\n",
       "      <td>1.0</td>\n",
       "      <td>1.0</td>\n",
       "      <td>1.0</td>\n",
       "      <td>1.0</td>\n",
       "      <td>1.0</td>\n",
       "      <td>1.0</td>\n",
       "      <td>1.0</td>\n",
       "      <td>0.35</td>\n",
       "    </tr>\n",
       "    <tr>\n",
       "      <th>Phase-4</th>\n",
       "      <td>1.0</td>\n",
       "      <td>0.9</td>\n",
       "      <td>1.0</td>\n",
       "      <td>1.0</td>\n",
       "      <td>0.9</td>\n",
       "      <td>1.0</td>\n",
       "      <td>1.0</td>\n",
       "      <td>1.0</td>\n",
       "      <td>1.0</td>\n",
       "      <td>1.0</td>\n",
       "      <td>...</td>\n",
       "      <td>1.0</td>\n",
       "      <td>0.9</td>\n",
       "      <td>0.9</td>\n",
       "      <td>1.0</td>\n",
       "      <td>1.0</td>\n",
       "      <td>1.0</td>\n",
       "      <td>0.9</td>\n",
       "      <td>1.0</td>\n",
       "      <td>1.0</td>\n",
       "      <td>0.35</td>\n",
       "    </tr>\n",
       "  </tbody>\n",
       "</table>\n",
       "<p>4 rows × 123 columns</p>\n",
       "</div>"
      ],
      "text/plain": [
       "           0    1    2    3    4    5    6    7    8    9  ...  113  114  115  \\\n",
       "Phase                                                      ...                  \n",
       "Phase-1  1.0  1.0  1.0  1.0  1.0  1.0  1.0  1.0  1.0  1.0  ...  1.0  0.9  1.0   \n",
       "Phase-2  1.0  1.0  1.0  1.0  1.0  1.0  1.0  1.0  1.0  1.0  ...  1.0  1.0  1.0   \n",
       "Phase-3  0.9  1.0  1.0  1.0  1.0  0.9  1.0  1.0  1.0  1.0  ...  0.9  1.0  1.0   \n",
       "Phase-4  1.0  0.9  1.0  1.0  0.9  1.0  1.0  1.0  1.0  1.0  ...  1.0  0.9  0.9   \n",
       "\n",
       "         116  117  118  119  120  121  Phase_weight  \n",
       "Phase                                                \n",
       "Phase-1  1.0  1.0  1.0  1.0  1.0  1.0          0.15  \n",
       "Phase-2  1.0  1.0  0.9  1.0  1.0  1.0          0.15  \n",
       "Phase-3  1.0  1.0  1.0  1.0  1.0  1.0          0.35  \n",
       "Phase-4  1.0  1.0  1.0  0.9  1.0  1.0          0.35  \n",
       "\n",
       "[4 rows x 123 columns]"
      ]
     },
     "execution_count": 33,
     "metadata": {},
     "output_type": "execute_result"
    }
   ],
   "source": [
    "test"
   ]
  },
  {
   "cell_type": "code",
   "execution_count": 34,
   "id": "ca1b009e",
   "metadata": {
    "ExecuteTime": {
     "end_time": "2023-06-19T23:55:31.015855Z",
     "start_time": "2023-06-19T23:55:31.002690Z"
    }
   },
   "outputs": [],
   "source": [
    "final_rain = pd.concat([test.iloc[:, :-1].T, phase1]).reset_index(drop = True)"
   ]
  },
  {
   "cell_type": "code",
   "execution_count": 35,
   "id": "60f0c75b",
   "metadata": {
    "ExecuteTime": {
     "end_time": "2023-06-19T23:55:31.689924Z",
     "start_time": "2023-06-19T23:55:31.674840Z"
    }
   },
   "outputs": [],
   "source": [
    "x_train = pd.concat([test.iloc[:, :-1].T, phase1]).reset_index(drop = True)\n",
    "x_train = x_train.values\n",
    "y_train = (x_train*np.array([0.15, 0.15, 0.35, 0.35])).sum(axis=1)"
   ]
  },
  {
   "cell_type": "code",
   "execution_count": 36,
   "id": "e673338f",
   "metadata": {},
   "outputs": [],
   "source": [
    "y_train = (x_train).max(axis=1)\n"
   ]
  },
  {
   "cell_type": "code",
   "execution_count": 37,
   "id": "60792424",
   "metadata": {},
   "outputs": [
    {
     "data": {
      "text/plain": [
       "array([1.00000e+00, 1.00000e+00, 1.00000e+00, 1.00000e+00, 1.00000e+00,\n",
       "       1.00000e+00, 1.00000e+00, 1.00000e+00, 1.00000e+00, 1.00000e+00,\n",
       "       1.00000e+00, 1.00000e+00, 1.00000e+00, 1.00000e+00, 1.00000e+00,\n",
       "       1.00000e+00, 1.00000e+00, 1.00000e+00, 1.00000e+00, 1.00000e+00,\n",
       "       1.00000e+00, 1.00000e+00, 1.00000e+00, 1.00000e+00, 1.00000e+00,\n",
       "       1.00000e+00, 1.00000e+00, 1.00000e+00, 1.00000e+00, 1.00000e+00,\n",
       "       1.00000e+00, 1.00000e+00, 1.00000e+00, 1.00000e+00, 1.00000e+00,\n",
       "       1.00000e+00, 1.00000e+00, 1.00000e+00, 1.00000e+00, 1.00000e+00,\n",
       "       1.00000e+00, 1.00000e+00, 1.00000e+00, 1.00000e+00, 1.00000e+00,\n",
       "       1.00000e+00, 1.00000e+00, 1.00000e+00, 1.00000e+00, 1.00000e+00,\n",
       "       1.00000e+00, 1.00000e+00, 1.00000e+00, 1.00000e+00, 1.00000e+00,\n",
       "       1.00000e+00, 1.00000e+00, 1.00000e+00, 1.00000e+00, 1.00000e+00,\n",
       "       1.00000e+00, 1.00000e+00, 1.00000e+00, 1.00000e+00, 1.00000e+00,\n",
       "       1.00000e+00, 1.00000e+00, 1.00000e+00, 1.00000e+00, 1.00000e+00,\n",
       "       1.00000e+00, 1.00000e+00, 1.00000e+00, 1.00000e+00, 1.00000e+00,\n",
       "       1.00000e+00, 1.00000e+00, 1.00000e+00, 1.00000e+00, 1.00000e+00,\n",
       "       1.00000e+00, 1.00000e+00, 1.00000e+00, 1.00000e+00, 1.00000e+00,\n",
       "       1.00000e+00, 1.00000e+00, 1.00000e+00, 1.00000e+00, 1.00000e+00,\n",
       "       1.00000e+00, 1.00000e+00, 1.00000e+00, 1.00000e+00, 1.00000e+00,\n",
       "       1.00000e+00, 1.00000e+00, 1.00000e+00, 1.00000e+00, 1.00000e+00,\n",
       "       1.00000e+00, 1.00000e+00, 1.00000e+00, 1.00000e+00, 1.00000e+00,\n",
       "       1.00000e+00, 1.00000e+00, 1.00000e+00, 1.00000e+00, 1.00000e+00,\n",
       "       1.00000e+00, 1.00000e+00, 1.00000e+00, 1.00000e+00, 1.00000e+00,\n",
       "       1.00000e+00, 1.00000e+00, 1.00000e+00, 1.00000e+00, 1.00000e+00,\n",
       "       1.00000e+00, 1.00000e+00, 1.47475e+03, 1.40055e+03, 1.31440e+03,\n",
       "       1.50090e+03, 1.66030e+03, 1.55455e+03, 1.57130e+03, 1.65830e+03,\n",
       "       1.49675e+03, 1.49090e+03, 1.10790e+03, 1.49690e+03, 1.47890e+03,\n",
       "       1.71380e+03, 1.41730e+03, 1.85910e+03, 1.65190e+03])"
      ]
     },
     "execution_count": 37,
     "metadata": {},
     "output_type": "execute_result"
    }
   ],
   "source": [
    "y_train"
   ]
  },
  {
   "cell_type": "code",
   "execution_count": 38,
   "id": "fae2df18",
   "metadata": {
    "ExecuteTime": {
     "end_time": "2023-06-19T23:55:32.976977Z",
     "start_time": "2023-06-19T23:55:32.764078Z"
    }
   },
   "outputs": [
    {
     "data": {
      "text/html": [
       "<style>#sk-container-id-1 {color: black;background-color: white;}#sk-container-id-1 pre{padding: 0;}#sk-container-id-1 div.sk-toggleable {background-color: white;}#sk-container-id-1 label.sk-toggleable__label {cursor: pointer;display: block;width: 100%;margin-bottom: 0;padding: 0.3em;box-sizing: border-box;text-align: center;}#sk-container-id-1 label.sk-toggleable__label-arrow:before {content: \"▸\";float: left;margin-right: 0.25em;color: #696969;}#sk-container-id-1 label.sk-toggleable__label-arrow:hover:before {color: black;}#sk-container-id-1 div.sk-estimator:hover label.sk-toggleable__label-arrow:before {color: black;}#sk-container-id-1 div.sk-toggleable__content {max-height: 0;max-width: 0;overflow: hidden;text-align: left;background-color: #f0f8ff;}#sk-container-id-1 div.sk-toggleable__content pre {margin: 0.2em;color: black;border-radius: 0.25em;background-color: #f0f8ff;}#sk-container-id-1 input.sk-toggleable__control:checked~div.sk-toggleable__content {max-height: 200px;max-width: 100%;overflow: auto;}#sk-container-id-1 input.sk-toggleable__control:checked~label.sk-toggleable__label-arrow:before {content: \"▾\";}#sk-container-id-1 div.sk-estimator input.sk-toggleable__control:checked~label.sk-toggleable__label {background-color: #d4ebff;}#sk-container-id-1 div.sk-label input.sk-toggleable__control:checked~label.sk-toggleable__label {background-color: #d4ebff;}#sk-container-id-1 input.sk-hidden--visually {border: 0;clip: rect(1px 1px 1px 1px);clip: rect(1px, 1px, 1px, 1px);height: 1px;margin: -1px;overflow: hidden;padding: 0;position: absolute;width: 1px;}#sk-container-id-1 div.sk-estimator {font-family: monospace;background-color: #f0f8ff;border: 1px dotted black;border-radius: 0.25em;box-sizing: border-box;margin-bottom: 0.5em;}#sk-container-id-1 div.sk-estimator:hover {background-color: #d4ebff;}#sk-container-id-1 div.sk-parallel-item::after {content: \"\";width: 100%;border-bottom: 1px solid gray;flex-grow: 1;}#sk-container-id-1 div.sk-label:hover label.sk-toggleable__label {background-color: #d4ebff;}#sk-container-id-1 div.sk-serial::before {content: \"\";position: absolute;border-left: 1px solid gray;box-sizing: border-box;top: 0;bottom: 0;left: 50%;z-index: 0;}#sk-container-id-1 div.sk-serial {display: flex;flex-direction: column;align-items: center;background-color: white;padding-right: 0.2em;padding-left: 0.2em;position: relative;}#sk-container-id-1 div.sk-item {position: relative;z-index: 1;}#sk-container-id-1 div.sk-parallel {display: flex;align-items: stretch;justify-content: center;background-color: white;position: relative;}#sk-container-id-1 div.sk-item::before, #sk-container-id-1 div.sk-parallel-item::before {content: \"\";position: absolute;border-left: 1px solid gray;box-sizing: border-box;top: 0;bottom: 0;left: 50%;z-index: -1;}#sk-container-id-1 div.sk-parallel-item {display: flex;flex-direction: column;z-index: 1;position: relative;background-color: white;}#sk-container-id-1 div.sk-parallel-item:first-child::after {align-self: flex-end;width: 50%;}#sk-container-id-1 div.sk-parallel-item:last-child::after {align-self: flex-start;width: 50%;}#sk-container-id-1 div.sk-parallel-item:only-child::after {width: 0;}#sk-container-id-1 div.sk-dashed-wrapped {border: 1px dashed gray;margin: 0 0.4em 0.5em 0.4em;box-sizing: border-box;padding-bottom: 0.4em;background-color: white;}#sk-container-id-1 div.sk-label label {font-family: monospace;font-weight: bold;display: inline-block;line-height: 1.2em;}#sk-container-id-1 div.sk-label-container {text-align: center;}#sk-container-id-1 div.sk-container {/* jupyter's `normalize.less` sets `[hidden] { display: none; }` but bootstrap.min.css set `[hidden] { display: none !important; }` so we also need the `!important` here to be able to override the default hidden behavior on the sphinx rendered scikit-learn.org. See: https://github.com/scikit-learn/scikit-learn/issues/21755 */display: inline-block !important;position: relative;}#sk-container-id-1 div.sk-text-repr-fallback {display: none;}</style><div id=\"sk-container-id-1\" class=\"sk-top-container\"><div class=\"sk-text-repr-fallback\"><pre>RandomForestRegressor(random_state=0)</pre><b>In a Jupyter environment, please rerun this cell to show the HTML representation or trust the notebook. <br />On GitHub, the HTML representation is unable to render, please try loading this page with nbviewer.org.</b></div><div class=\"sk-container\" hidden><div class=\"sk-item\"><div class=\"sk-estimator sk-toggleable\"><input class=\"sk-toggleable__control sk-hidden--visually\" id=\"sk-estimator-id-1\" type=\"checkbox\" checked><label for=\"sk-estimator-id-1\" class=\"sk-toggleable__label sk-toggleable__label-arrow\">RandomForestRegressor</label><div class=\"sk-toggleable__content\"><pre>RandomForestRegressor(random_state=0)</pre></div></div></div></div></div>"
      ],
      "text/plain": [
       "RandomForestRegressor(random_state=0)"
      ]
     },
     "execution_count": 38,
     "metadata": {},
     "output_type": "execute_result"
    }
   ],
   "source": [
    "rain_regressor = RandomForestRegressor(n_estimators=100, random_state=0)\n",
    "rain_regressor.fit(x_train, y_train)"
   ]
  },
  {
   "cell_type": "code",
   "execution_count": 39,
   "id": "67e2b080",
   "metadata": {
    "ExecuteTime": {
     "end_time": "2023-06-19T23:55:34.325716Z",
     "start_time": "2023-06-19T23:55:34.299070Z"
    }
   },
   "outputs": [
    {
     "data": {
      "text/plain": [
       "array([485.58 , 263.418, 694.913, 574.831, 936.278, 731.486, 793.576,\n",
       "       824.794, 484.062, 418.82 , 680.904, 569.928, 559.825, 841.005,\n",
       "       787.531, 329.732, 833.629])"
      ]
     },
     "execution_count": 39,
     "metadata": {},
     "output_type": "execute_result"
    }
   ],
   "source": [
    "np.round(rain_regressor.predict(phase1.values)-(phase1.values*np.array([0.15, 0.15, 0.35, 0.35])).sum(axis=1), 3)"
   ]
  },
  {
   "cell_type": "code",
   "execution_count": 40,
   "id": "81a3c528",
   "metadata": {},
   "outputs": [
    {
     "data": {
      "text/plain": [
       "array([1482.945 , 1216.2605, 1280.8385, 1497.474 , 1640.483 , 1559.479 ,\n",
       "       1567.5065, 1655.099 , 1496.2995, 1445.9125, 1211.969 , 1501.1335,\n",
       "       1480.9825, 1689.5005, 1388.9355, 1464.767 , 1656.094 ])"
      ]
     },
     "execution_count": 40,
     "metadata": {},
     "output_type": "execute_result"
    }
   ],
   "source": [
    "rain_regressor.predict(phase1.values)"
   ]
  },
  {
   "cell_type": "markdown",
   "id": "20d15228",
   "metadata": {},
   "source": [
    "## Temperature"
   ]
  },
  {
   "cell_type": "code",
   "execution_count": 41,
   "id": "a3998a24",
   "metadata": {
    "ExecuteTime": {
     "end_time": "2023-06-19T23:55:37.421087Z",
     "start_time": "2023-06-19T23:55:37.403323Z"
    }
   },
   "outputs": [],
   "source": [
    "def scale_sensor_values(row):\n",
    "    #global col\n",
    "    temp = row[col]\n",
    "    min_temp = row['temp_min']\n",
    "    max_temp = row['temp_max']\n",
    "\n",
    "    if (temp >= min_temp) & (temp <= max_temp):\n",
    "        return 1\n",
    "\n",
    "    if temp < min_temp:\n",
    "        return temp / min_temp\n",
    "\n",
    "    if temp > max_temp:\n",
    "        return max_temp / temp\n",
    "\n",
    "\n",
    "def temperature_prediction(data, fid, condition = None):\n",
    "    global col\n",
    "    col = 'Temperature (°C)'\n",
    "    temperature_data = data[['date', 'Temperature (°C)']]\n",
    "    temperature_data = temperature_data.loc[temperature_data['Temperature (°C)'] != '-']\n",
    "    temperature_data['Temperature (°C)'] = temperature_data['Temperature (°C)'].astype(float)\n",
    "    sow = client.loc[client.fid == int(fid), 'sowingdt'].values[0]\n",
    "    if condition:\n",
    "        temperature_data = temperature_data.loc[temperature_data.date < pd.to_datetime(condition)]\n",
    "    temperature_data = temperature_data.loc[temperature_data.date >= pd.to_datetime(sow)]\n",
    "    temperature_data['days'] = temperature_data.date.apply(lambda x: (x-pd.to_datetime(sow)).days)\n",
    "\n",
    "    conditions_temperature = [\n",
    "        (temperature_data['days'] >= 0) & (temperature_data['days'] < 10),\n",
    "        (temperature_data['days'] >= 10) & (temperature_data['days'] < 30),\n",
    "        (temperature_data['days'] >= 30) & (temperature_data['days'] < 90),\n",
    "        (temperature_data['days'] >= 90)\n",
    "    ]\n",
    "    \n",
    "    \n",
    "\n",
    "    min_temperature = [15, 18, 15, 20]\n",
    "    max_temperature = [30, 32, 32, 30]\n",
    "\n",
    "    temperature_data['temp_min'] = np.select(conditions_temperature,\n",
    "                                               min_temperature)\n",
    "    temperature_data['temp_max'] = np.select(conditions_temperature,\n",
    "                                               max_temperature)\n",
    "    temperature_data['loss'] = temperature_data.apply(scale_sensor_values, axis=1)\n",
    "    temperature_data = phases_condtion(temperature_data)\n",
    "    temperature_data = temperature_data.groupby('Phase').mean()[['loss']]\n",
    "    \n",
    "    try:\n",
    "        phase_1 = temperature_data.loc['Phase-1'].values[0]\n",
    "    except:\n",
    "        phase_1 = 1.0\n",
    "        \n",
    "    try:\n",
    "        phase_2 = temperature_data.loc['Phase-2'].values[0]\n",
    "    except:\n",
    "        phase_2 = 1.0\n",
    "        \n",
    "    try:\n",
    "        phase_3 = temperature_data.loc['Phase-3'].values[0]\n",
    "    except:\n",
    "        phase_3 = 1.0\n",
    "        \n",
    "    try:\n",
    "        phase_4 = temperature_data.loc['Phase-4'].values[0]\n",
    "    except:\n",
    "        phase_4 = 1.0\n",
    "    \n",
    "    return [phase_1, phase_2, phase_3, phase_4]"
   ]
  },
  {
   "cell_type": "code",
   "execution_count": 44,
   "id": "5a4cd6dd",
   "metadata": {
    "ExecuteTime": {
     "end_time": "2023-06-19T23:55:51.720542Z",
     "start_time": "2023-06-19T23:55:38.427289Z"
    }
   },
   "outputs": [],
   "source": [
    "loss_temp = []\n",
    "for fil in files:\n",
    "    \n",
    "    fid = fil.split('/')[-2]\n",
    "    if fid in tomato_fids:\n",
    "        data = pd.read_csv(fil)\n",
    "        data['date'] = pd.to_datetime(data['Date time (time zone: Asia/Kolkata)'])\n",
    "        condition = '2023-04-25'\n",
    "        dat = temperature_prediction(data, fid)\n",
    "        loss_temp.append(dat)\n",
    "        "
   ]
  },
  {
   "cell_type": "code",
   "execution_count": 45,
   "id": "3e2f7859",
   "metadata": {},
   "outputs": [],
   "source": [
    "phase2 = pd.DataFrame(loss_temp, columns = ['Phase-1', 'Phase-2', 'Phase-3', 'Phase-4'],)\n",
    "phase2.index.names = ['Phase']"
   ]
  },
  {
   "cell_type": "code",
   "execution_count": 46,
   "id": "b7ac670e",
   "metadata": {
    "ExecuteTime": {
     "end_time": "2023-06-19T23:55:52.489869Z",
     "start_time": "2023-06-19T23:55:52.483124Z"
    }
   },
   "outputs": [
    {
     "data": {
      "text/plain": [
       "array([0.96593631, 0.97919882, 0.97404376, 0.9488046 , 0.9452485 ,\n",
       "       0.9459974 , 0.95068383, 0.92579431, 0.95856194, 0.96082345,\n",
       "       0.9582027 , 0.96017907, 0.95764289, 0.94105698, 0.97618067,\n",
       "       0.973205  , 0.94629796])"
      ]
     },
     "execution_count": 46,
     "metadata": {},
     "output_type": "execute_result"
    }
   ],
   "source": [
    "(np.array(loss_temp)*np.array([0.15, 0.15, 0.35, 0.35])).sum(axis=1)"
   ]
  },
  {
   "cell_type": "code",
   "execution_count": 53,
   "id": "e3e275bf",
   "metadata": {
    "ExecuteTime": {
     "end_time": "2023-06-19T23:55:53.389154Z",
     "start_time": "2023-06-19T23:55:53.308342Z"
    }
   },
   "outputs": [],
   "source": [
    "optimal_temp_max = pd.read_csv('../../data/optimal_sensor//tmax_training_data.csv')\n",
    "optimal_temp_min = pd.read_csv('../../data/optimal_sensor/tmin_training_data.csv')\n",
    "optimal_temp_avg = pd.read_csv('../../data/optimal_sensor//tavg_training_data.csv')\n",
    "\n",
    "optimal_temp_max = optimal_temp_max.rename(columns = {'Day':'days'})\n",
    "optimal_temp_min = optimal_temp_min.rename(columns = {'Day':'days'})\n",
    "optimal_temp_avg = optimal_temp_avg.rename(columns = {'Day':'days'})"
   ]
  },
  {
   "cell_type": "code",
   "execution_count": 54,
   "id": "b6071017",
   "metadata": {
    "ExecuteTime": {
     "end_time": "2023-06-19T23:55:54.121393Z",
     "start_time": "2023-06-19T23:55:54.067706Z"
    }
   },
   "outputs": [],
   "source": [
    "new_df = optimal_temp_max.merge(optimal_temp_min, on = 'days').merge(optimal_temp_avg, on = 'days')\n",
    "new_df.columns = [x for x in range(len(new_df.columns))]\n",
    "new_df = new_df.rename(columns = {0:'days'})\n",
    "temperature_data = new_df.copy()"
   ]
  },
  {
   "cell_type": "code",
   "execution_count": 55,
   "id": "dc1e7f2d",
   "metadata": {
    "ExecuteTime": {
     "end_time": "2023-06-19T23:55:54.838731Z",
     "start_time": "2023-06-19T23:55:54.827553Z"
    }
   },
   "outputs": [],
   "source": [
    "conditions_temperature = [\n",
    "        (temperature_data['days'] >= 0) & (temperature_data['days'] < 10),\n",
    "        (temperature_data['days'] >= 10) & (temperature_data['days'] < 30),\n",
    "        (temperature_data['days'] >= 30) & (temperature_data['days'] < 90),\n",
    "        (temperature_data['days'] >= 90)\n",
    "    ]\n",
    "\n",
    "min_temperature = [15, 18, 15, 20]\n",
    "max_temperature = [30, 32, 32, 30]\n",
    "\n",
    "temperature_data['temp_min'] = np.select(conditions_temperature,\n",
    "                                           min_temperature)\n",
    "temperature_data['temp_max'] = np.select(conditions_temperature,\n",
    "                                           max_temperature)\n",
    "# temperature_data['loss'] = temperature_data.apply(scale_sensor_values, axis=1)\n",
    "    "
   ]
  },
  {
   "cell_type": "code",
   "execution_count": 56,
   "id": "147bbf7f",
   "metadata": {
    "ExecuteTime": {
     "end_time": "2023-06-19T23:55:59.236861Z",
     "start_time": "2023-06-19T23:55:55.595979Z"
    }
   },
   "outputs": [],
   "source": [
    "sep = pd.DataFrame()\n",
    "for i in temperature_data.columns[1:-2]:\n",
    "    col = i\n",
    "    sep_temp = temperature_data[['days', i, 'temp_min', 'temp_max']]\n",
    "    sep_temp['loss'] = sep_temp.apply(scale_sensor_values, axis=1)\n",
    "    sep_temp = phases_condtion(sep_temp)\n",
    "    sep_temp = sep_temp.groupby('Phase').mean()[['loss']]\n",
    "    sep = sep.append(sep_temp.T)\n",
    "sep = sep.reset_index(drop=True)"
   ]
  },
  {
   "cell_type": "code",
   "execution_count": 57,
   "id": "a2f0b8b1",
   "metadata": {
    "ExecuteTime": {
     "end_time": "2023-06-19T23:56:01.974769Z",
     "start_time": "2023-06-19T23:56:01.970338Z"
    }
   },
   "outputs": [],
   "source": [
    "phase2 = pd.DataFrame(loss_temp, columns = ['Phase-1', 'Phase-2', 'Phase-3', 'Phase-4'],)\n",
    "phase2.index.names = ['Phase']"
   ]
  },
  {
   "cell_type": "code",
   "execution_count": 58,
   "id": "f87044c9",
   "metadata": {
    "ExecuteTime": {
     "end_time": "2023-06-19T23:56:03.178204Z",
     "start_time": "2023-06-19T23:56:03.171921Z"
    }
   },
   "outputs": [],
   "source": [
    "final_temp = pd.concat([sep, phase2], ignore_index=True)\n",
    "x_train = phase2.values\n",
    "y_train = (x_train*np.array([0.15, 0.15, 0.35, 0.35])).sum(axis=1)"
   ]
  },
  {
   "cell_type": "code",
   "execution_count": 59,
   "id": "3bc74e05",
   "metadata": {
    "ExecuteTime": {
     "end_time": "2023-06-19T23:56:04.506578Z",
     "start_time": "2023-06-19T23:56:04.252991Z"
    }
   },
   "outputs": [
    {
     "data": {
      "text/html": [
       "<style>#sk-container-id-2 {color: black;background-color: white;}#sk-container-id-2 pre{padding: 0;}#sk-container-id-2 div.sk-toggleable {background-color: white;}#sk-container-id-2 label.sk-toggleable__label {cursor: pointer;display: block;width: 100%;margin-bottom: 0;padding: 0.3em;box-sizing: border-box;text-align: center;}#sk-container-id-2 label.sk-toggleable__label-arrow:before {content: \"▸\";float: left;margin-right: 0.25em;color: #696969;}#sk-container-id-2 label.sk-toggleable__label-arrow:hover:before {color: black;}#sk-container-id-2 div.sk-estimator:hover label.sk-toggleable__label-arrow:before {color: black;}#sk-container-id-2 div.sk-toggleable__content {max-height: 0;max-width: 0;overflow: hidden;text-align: left;background-color: #f0f8ff;}#sk-container-id-2 div.sk-toggleable__content pre {margin: 0.2em;color: black;border-radius: 0.25em;background-color: #f0f8ff;}#sk-container-id-2 input.sk-toggleable__control:checked~div.sk-toggleable__content {max-height: 200px;max-width: 100%;overflow: auto;}#sk-container-id-2 input.sk-toggleable__control:checked~label.sk-toggleable__label-arrow:before {content: \"▾\";}#sk-container-id-2 div.sk-estimator input.sk-toggleable__control:checked~label.sk-toggleable__label {background-color: #d4ebff;}#sk-container-id-2 div.sk-label input.sk-toggleable__control:checked~label.sk-toggleable__label {background-color: #d4ebff;}#sk-container-id-2 input.sk-hidden--visually {border: 0;clip: rect(1px 1px 1px 1px);clip: rect(1px, 1px, 1px, 1px);height: 1px;margin: -1px;overflow: hidden;padding: 0;position: absolute;width: 1px;}#sk-container-id-2 div.sk-estimator {font-family: monospace;background-color: #f0f8ff;border: 1px dotted black;border-radius: 0.25em;box-sizing: border-box;margin-bottom: 0.5em;}#sk-container-id-2 div.sk-estimator:hover {background-color: #d4ebff;}#sk-container-id-2 div.sk-parallel-item::after {content: \"\";width: 100%;border-bottom: 1px solid gray;flex-grow: 1;}#sk-container-id-2 div.sk-label:hover label.sk-toggleable__label {background-color: #d4ebff;}#sk-container-id-2 div.sk-serial::before {content: \"\";position: absolute;border-left: 1px solid gray;box-sizing: border-box;top: 0;bottom: 0;left: 50%;z-index: 0;}#sk-container-id-2 div.sk-serial {display: flex;flex-direction: column;align-items: center;background-color: white;padding-right: 0.2em;padding-left: 0.2em;position: relative;}#sk-container-id-2 div.sk-item {position: relative;z-index: 1;}#sk-container-id-2 div.sk-parallel {display: flex;align-items: stretch;justify-content: center;background-color: white;position: relative;}#sk-container-id-2 div.sk-item::before, #sk-container-id-2 div.sk-parallel-item::before {content: \"\";position: absolute;border-left: 1px solid gray;box-sizing: border-box;top: 0;bottom: 0;left: 50%;z-index: -1;}#sk-container-id-2 div.sk-parallel-item {display: flex;flex-direction: column;z-index: 1;position: relative;background-color: white;}#sk-container-id-2 div.sk-parallel-item:first-child::after {align-self: flex-end;width: 50%;}#sk-container-id-2 div.sk-parallel-item:last-child::after {align-self: flex-start;width: 50%;}#sk-container-id-2 div.sk-parallel-item:only-child::after {width: 0;}#sk-container-id-2 div.sk-dashed-wrapped {border: 1px dashed gray;margin: 0 0.4em 0.5em 0.4em;box-sizing: border-box;padding-bottom: 0.4em;background-color: white;}#sk-container-id-2 div.sk-label label {font-family: monospace;font-weight: bold;display: inline-block;line-height: 1.2em;}#sk-container-id-2 div.sk-label-container {text-align: center;}#sk-container-id-2 div.sk-container {/* jupyter's `normalize.less` sets `[hidden] { display: none; }` but bootstrap.min.css set `[hidden] { display: none !important; }` so we also need the `!important` here to be able to override the default hidden behavior on the sphinx rendered scikit-learn.org. See: https://github.com/scikit-learn/scikit-learn/issues/21755 */display: inline-block !important;position: relative;}#sk-container-id-2 div.sk-text-repr-fallback {display: none;}</style><div id=\"sk-container-id-2\" class=\"sk-top-container\"><div class=\"sk-text-repr-fallback\"><pre>RandomForestRegressor(random_state=0)</pre><b>In a Jupyter environment, please rerun this cell to show the HTML representation or trust the notebook. <br />On GitHub, the HTML representation is unable to render, please try loading this page with nbviewer.org.</b></div><div class=\"sk-container\" hidden><div class=\"sk-item\"><div class=\"sk-estimator sk-toggleable\"><input class=\"sk-toggleable__control sk-hidden--visually\" id=\"sk-estimator-id-2\" type=\"checkbox\" checked><label for=\"sk-estimator-id-2\" class=\"sk-toggleable__label sk-toggleable__label-arrow\">RandomForestRegressor</label><div class=\"sk-toggleable__content\"><pre>RandomForestRegressor(random_state=0)</pre></div></div></div></div></div>"
      ],
      "text/plain": [
       "RandomForestRegressor(random_state=0)"
      ]
     },
     "execution_count": 59,
     "metadata": {},
     "output_type": "execute_result"
    }
   ],
   "source": [
    "temp_regressor = RandomForestRegressor(n_estimators=100, random_state=0)\n",
    "temp_regressor.fit(x_train, y_train)"
   ]
  },
  {
   "cell_type": "code",
   "execution_count": 60,
   "id": "9b16fe18",
   "metadata": {
    "ExecuteTime": {
     "end_time": "2023-06-19T23:56:05.431950Z",
     "start_time": "2023-06-19T23:56:05.414373Z"
    },
    "scrolled": true
   },
   "outputs": [
    {
     "data": {
      "text/plain": [
       "array([-0.   , -0.003, -0.003, -0.   ,  0.001, -0.   , -0.002,  0.007,\n",
       "        0.001,  0.002,  0.003,  0.   ,  0.001, -0.   , -0.004, -0.003,\n",
       "        0.   ])"
      ]
     },
     "execution_count": 60,
     "metadata": {},
     "output_type": "execute_result"
    }
   ],
   "source": [
    "np.round(temp_regressor.predict(phase2.values)-(phase2.values*np.array([0.15, 0.15, 0.35, 0.35])).sum(axis=1), 3)"
   ]
  },
  {
   "cell_type": "markdown",
   "id": "d1276899",
   "metadata": {},
   "source": [
    "# Rescale humidty"
   ]
  },
  {
   "cell_type": "code",
   "execution_count": 61,
   "id": "74be391e",
   "metadata": {
    "ExecuteTime": {
     "end_time": "2023-06-19T23:56:07.773105Z",
     "start_time": "2023-06-19T23:56:07.755520Z"
    }
   },
   "outputs": [],
   "source": [
    "def scale_sensor_values_humd(row):\n",
    "    #global col\n",
    "    humd = row[col]\n",
    "    min_humd = row['humd_min']\n",
    "    max_humd = row['humd_max']\n",
    "\n",
    "    if (humd >= min_humd) & (humd <= max_humd):\n",
    "        return 1\n",
    "\n",
    "    if humd < min_humd:\n",
    "        return humd / min_humd\n",
    "\n",
    "    if humd > max_humd:\n",
    "        return max_humd / humd\n",
    "\n",
    "\n",
    "def humidty_prediction(data, fid, condition = None):\n",
    "    global col\n",
    "    col = 'Humidity (%)'\n",
    "    data['date'] = pd.to_datetime(data['Date time (time zone: Asia/Kolkata)'])\n",
    "    humidty_data = data[['date', 'Humidity (%)']]\n",
    "    humidty_data = humidty_data.loc[humidty_data['Humidity (%)'] != '-']\n",
    "    \n",
    "     \n",
    "    humidty_data['Humidity (%)'] = humidty_data['Humidity (%)'].astype(float)\n",
    "    sow = client.loc[client.fid == int(fid), 'sowingdt'].values[0]\n",
    "    if condition:\n",
    "        humidty_data = humidty_data.loc[humidty_data.date <pd.to_datetime(condition)]\n",
    "    humidty_data = humidty_data.loc[humidty_data.date >= pd.to_datetime(sow)]\n",
    "    humidty_data['days'] = humidty_data.date.apply(lambda x: (x-pd.to_datetime(sow)).days)\n",
    "\n",
    "    conditions_humidty = [\n",
    "        (humidty_data['days'] >= 0) & (humidty_data['days'] < 10),\n",
    "        (humidty_data['days'] >= 10) & (humidty_data['days'] < 30),\n",
    "        (humidty_data['days'] >= 30) & (humidty_data['days'] < 90),\n",
    "        (humidty_data['days'] >= 90)\n",
    "    ]\n",
    "    min_humidty = [40, 40, 40, 40]\n",
    "    max_humidty = [75, 90, 90, 85]\n",
    "\n",
    "    humidty_data['humd_min'] = np.select(conditions_humidty,\n",
    "                                               min_humidty)\n",
    "    humidty_data['humd_max'] = np.select(conditions_humidty,\n",
    "                                               max_humidty)\n",
    "    humidty_data['loss'] = humidty_data.apply(scale_sensor_values_humd, axis=1)\n",
    "    humidty_data = phases_condtion(humidty_data)\n",
    "    humidty_data = humidty_data.groupby('Phase').mean()[['loss']]\n",
    "    \n",
    "    try:\n",
    "        phase_1 = humidty_data.loc['Phase-1'].values[0]\n",
    "    except:\n",
    "        phase_1 = 1.0\n",
    "        \n",
    "    try:\n",
    "        phase_2 = humidty_data.loc['Phase-2'].values[0]\n",
    "    except:\n",
    "        phase_2 = 1.0\n",
    "        \n",
    "    try:\n",
    "        phase_3 = humidty_data.loc['Phase-3'].values[0]\n",
    "    except:\n",
    "        phase_3 = 1.0\n",
    "        \n",
    "    try:\n",
    "        phase_4 = humidty_data.loc['Phase-4'].values[0]\n",
    "    except:\n",
    "        phase_4 = 1.0\n",
    "    \n",
    "    return [phase_1, phase_2, phase_3, phase_4]"
   ]
  },
  {
   "cell_type": "code",
   "execution_count": 62,
   "id": "64bb1ac8",
   "metadata": {
    "ExecuteTime": {
     "end_time": "2023-06-19T23:56:22.283399Z",
     "start_time": "2023-06-19T23:56:08.947608Z"
    }
   },
   "outputs": [],
   "source": [
    "loss_humid = []\n",
    "for fil in files:\n",
    "    fid = fil.split('/')[-2]\n",
    "    if fid in tomato_fids: \n",
    "        data = pd.read_csv(fil)\n",
    "        condition = '2023-04-25'\n",
    "        #data['date'] = pd.to_datetime(data['Date time (time zone: Asia/Kolkata)'])\n",
    "        dat = humidty_prediction(data, fid,condition)\n",
    "        loss_humid.append(dat)"
   ]
  },
  {
   "cell_type": "code",
   "execution_count": 63,
   "id": "cf58a8a8",
   "metadata": {},
   "outputs": [],
   "source": [
    "phase3 = pd.DataFrame(loss_humid, columns = ['Phase-1', 'Phase-2', 'Phase-3', 'Phase-4'],)\n",
    "phase3.index.names = ['Phase']"
   ]
  },
  {
   "cell_type": "code",
   "execution_count": 64,
   "id": "1759fe2c",
   "metadata": {
    "ExecuteTime": {
     "end_time": "2023-06-19T23:56:23.300130Z",
     "start_time": "2023-06-19T23:56:23.235397Z"
    }
   },
   "outputs": [],
   "source": [
    "optimal_hum = pd.read_csv('../../data/optimal_sensor/relative_humidity_training_data.csv')\n",
    "humidty_data = optimal_hum.rename(columns={'Day':'days'})"
   ]
  },
  {
   "cell_type": "code",
   "execution_count": 65,
   "id": "aaee0b55",
   "metadata": {
    "ExecuteTime": {
     "end_time": "2023-06-19T23:56:24.862999Z",
     "start_time": "2023-06-19T23:56:24.852199Z"
    }
   },
   "outputs": [],
   "source": [
    "humidty_temperature = [\n",
    "        (humidty_data['days'] >= 0) & (humidty_data['days'] < 10),\n",
    "        (humidty_data['days'] >= 10) & (humidty_data['days'] < 30),\n",
    "        (humidty_data['days'] >= 30) & (humidty_data['days'] < 90),\n",
    "        (humidty_data['days'] >= 90)\n",
    "    ]\n",
    "\n",
    "min_humidty = [40, 40, 40, 40]\n",
    "max_humidty = [75, 90, 90, 85]\n",
    "\n",
    "humidty_data['humd_min'] = np.select(humidty_temperature,\n",
    "                                           min_temperature)\n",
    "humidty_data['humd_max'] = np.select(humidty_temperature,\n",
    "                                           max_temperature)"
   ]
  },
  {
   "cell_type": "code",
   "execution_count": 66,
   "id": "9e44f84e",
   "metadata": {
    "ExecuteTime": {
     "end_time": "2023-06-19T23:56:28.299890Z",
     "start_time": "2023-06-19T23:56:27.252352Z"
    }
   },
   "outputs": [],
   "source": [
    "sep_h = pd.DataFrame()\n",
    "for i in humidty_data.columns[1:-2]:\n",
    "    col = i\n",
    "    sep_humd = humidty_data[['days', i, 'humd_min', 'humd_max']]\n",
    "    sep_humd['loss'] = sep_humd.apply(scale_sensor_values_humd, axis=1)\n",
    "    sep_humd = phases_condtion(sep_humd)\n",
    "    sep_humd = sep_humd.groupby('Phase').mean()[['loss']]\n",
    "    sep_h = sep_h.append(sep_humd.T)\n",
    "sep_h = sep_h.reset_index(drop=True)"
   ]
  },
  {
   "cell_type": "code",
   "execution_count": 67,
   "id": "efa17cab",
   "metadata": {
    "ExecuteTime": {
     "end_time": "2023-06-19T23:56:29.143587Z",
     "start_time": "2023-06-19T23:56:29.139231Z"
    }
   },
   "outputs": [],
   "source": [
    "phase3 = pd.DataFrame(loss_humid, columns = ['Phase-1', 'Phase-2', 'Phase-3', 'Phase-4'],)\n",
    "phase3.index.names = ['Phase']"
   ]
  },
  {
   "cell_type": "code",
   "execution_count": 68,
   "id": "ef878382",
   "metadata": {
    "ExecuteTime": {
     "end_time": "2023-06-19T23:56:29.897962Z",
     "start_time": "2023-06-19T23:56:29.892123Z"
    }
   },
   "outputs": [],
   "source": [
    "final_humid = pd.concat([sep_h, phase3], ignore_index=True)\n",
    "x_train = final_humid.values\n",
    "y_train = (x_train*np.array([0.15, 0.15, 0.35, 0.35])).sum(axis=1)"
   ]
  },
  {
   "cell_type": "code",
   "execution_count": 69,
   "id": "37c019d6",
   "metadata": {
    "ExecuteTime": {
     "end_time": "2023-06-19T23:56:31.097648Z",
     "start_time": "2023-06-19T23:56:30.884454Z"
    }
   },
   "outputs": [
    {
     "data": {
      "text/html": [
       "<style>#sk-container-id-3 {color: black;background-color: white;}#sk-container-id-3 pre{padding: 0;}#sk-container-id-3 div.sk-toggleable {background-color: white;}#sk-container-id-3 label.sk-toggleable__label {cursor: pointer;display: block;width: 100%;margin-bottom: 0;padding: 0.3em;box-sizing: border-box;text-align: center;}#sk-container-id-3 label.sk-toggleable__label-arrow:before {content: \"▸\";float: left;margin-right: 0.25em;color: #696969;}#sk-container-id-3 label.sk-toggleable__label-arrow:hover:before {color: black;}#sk-container-id-3 div.sk-estimator:hover label.sk-toggleable__label-arrow:before {color: black;}#sk-container-id-3 div.sk-toggleable__content {max-height: 0;max-width: 0;overflow: hidden;text-align: left;background-color: #f0f8ff;}#sk-container-id-3 div.sk-toggleable__content pre {margin: 0.2em;color: black;border-radius: 0.25em;background-color: #f0f8ff;}#sk-container-id-3 input.sk-toggleable__control:checked~div.sk-toggleable__content {max-height: 200px;max-width: 100%;overflow: auto;}#sk-container-id-3 input.sk-toggleable__control:checked~label.sk-toggleable__label-arrow:before {content: \"▾\";}#sk-container-id-3 div.sk-estimator input.sk-toggleable__control:checked~label.sk-toggleable__label {background-color: #d4ebff;}#sk-container-id-3 div.sk-label input.sk-toggleable__control:checked~label.sk-toggleable__label {background-color: #d4ebff;}#sk-container-id-3 input.sk-hidden--visually {border: 0;clip: rect(1px 1px 1px 1px);clip: rect(1px, 1px, 1px, 1px);height: 1px;margin: -1px;overflow: hidden;padding: 0;position: absolute;width: 1px;}#sk-container-id-3 div.sk-estimator {font-family: monospace;background-color: #f0f8ff;border: 1px dotted black;border-radius: 0.25em;box-sizing: border-box;margin-bottom: 0.5em;}#sk-container-id-3 div.sk-estimator:hover {background-color: #d4ebff;}#sk-container-id-3 div.sk-parallel-item::after {content: \"\";width: 100%;border-bottom: 1px solid gray;flex-grow: 1;}#sk-container-id-3 div.sk-label:hover label.sk-toggleable__label {background-color: #d4ebff;}#sk-container-id-3 div.sk-serial::before {content: \"\";position: absolute;border-left: 1px solid gray;box-sizing: border-box;top: 0;bottom: 0;left: 50%;z-index: 0;}#sk-container-id-3 div.sk-serial {display: flex;flex-direction: column;align-items: center;background-color: white;padding-right: 0.2em;padding-left: 0.2em;position: relative;}#sk-container-id-3 div.sk-item {position: relative;z-index: 1;}#sk-container-id-3 div.sk-parallel {display: flex;align-items: stretch;justify-content: center;background-color: white;position: relative;}#sk-container-id-3 div.sk-item::before, #sk-container-id-3 div.sk-parallel-item::before {content: \"\";position: absolute;border-left: 1px solid gray;box-sizing: border-box;top: 0;bottom: 0;left: 50%;z-index: -1;}#sk-container-id-3 div.sk-parallel-item {display: flex;flex-direction: column;z-index: 1;position: relative;background-color: white;}#sk-container-id-3 div.sk-parallel-item:first-child::after {align-self: flex-end;width: 50%;}#sk-container-id-3 div.sk-parallel-item:last-child::after {align-self: flex-start;width: 50%;}#sk-container-id-3 div.sk-parallel-item:only-child::after {width: 0;}#sk-container-id-3 div.sk-dashed-wrapped {border: 1px dashed gray;margin: 0 0.4em 0.5em 0.4em;box-sizing: border-box;padding-bottom: 0.4em;background-color: white;}#sk-container-id-3 div.sk-label label {font-family: monospace;font-weight: bold;display: inline-block;line-height: 1.2em;}#sk-container-id-3 div.sk-label-container {text-align: center;}#sk-container-id-3 div.sk-container {/* jupyter's `normalize.less` sets `[hidden] { display: none; }` but bootstrap.min.css set `[hidden] { display: none !important; }` so we also need the `!important` here to be able to override the default hidden behavior on the sphinx rendered scikit-learn.org. See: https://github.com/scikit-learn/scikit-learn/issues/21755 */display: inline-block !important;position: relative;}#sk-container-id-3 div.sk-text-repr-fallback {display: none;}</style><div id=\"sk-container-id-3\" class=\"sk-top-container\"><div class=\"sk-text-repr-fallback\"><pre>RandomForestRegressor(random_state=0)</pre><b>In a Jupyter environment, please rerun this cell to show the HTML representation or trust the notebook. <br />On GitHub, the HTML representation is unable to render, please try loading this page with nbviewer.org.</b></div><div class=\"sk-container\" hidden><div class=\"sk-item\"><div class=\"sk-estimator sk-toggleable\"><input class=\"sk-toggleable__control sk-hidden--visually\" id=\"sk-estimator-id-3\" type=\"checkbox\" checked><label for=\"sk-estimator-id-3\" class=\"sk-toggleable__label sk-toggleable__label-arrow\">RandomForestRegressor</label><div class=\"sk-toggleable__content\"><pre>RandomForestRegressor(random_state=0)</pre></div></div></div></div></div>"
      ],
      "text/plain": [
       "RandomForestRegressor(random_state=0)"
      ]
     },
     "execution_count": 69,
     "metadata": {},
     "output_type": "execute_result"
    }
   ],
   "source": [
    "humid_regressor = RandomForestRegressor(n_estimators=100, random_state=0)\n",
    "humid_regressor.fit(x_train, y_train)"
   ]
  },
  {
   "cell_type": "code",
   "execution_count": 70,
   "id": "738e557f",
   "metadata": {
    "ExecuteTime": {
     "end_time": "2023-06-19T23:56:31.896741Z",
     "start_time": "2023-06-19T23:56:31.875161Z"
    }
   },
   "outputs": [
    {
     "data": {
      "text/plain": [
       "array([ 0.007, -0.005, -0.007,  0.002, -0.001, -0.001,  0.   ,  0.001,\n",
       "        0.005,  0.003,  0.   ,  0.003,  0.003,  0.   ,  0.004, -0.008,\n",
       "       -0.002])"
      ]
     },
     "execution_count": 70,
     "metadata": {},
     "output_type": "execute_result"
    }
   ],
   "source": [
    "np.round(humid_regressor.predict(phase3.values)-(phase3.values*np.array([0.15, 0.15, 0.35, 0.35])).sum(axis=1), 3)"
   ]
  },
  {
   "cell_type": "markdown",
   "id": "eebed3ee",
   "metadata": {},
   "source": [
    "# Wind speed"
   ]
  },
  {
   "cell_type": "code",
   "execution_count": 75,
   "id": "98287ac6",
   "metadata": {
    "ExecuteTime": {
     "end_time": "2023-06-19T23:56:55.853647Z",
     "start_time": "2023-06-19T23:56:55.844331Z"
    }
   },
   "outputs": [],
   "source": [
    "def windspeed_condtion(df, col):\n",
    "    condition = [(df[col] < 9.6),((df[col] >= 9.6) & (df[col] < 14.5)),\n",
    "                 (df[col] >= 14.5) ]\n",
    "\n",
    "    choices = [1, 0.8, 0.5]\n",
    "\n",
    "    test = np.select(condition, choices)\n",
    "    return test\n",
    "\n",
    "def phases_condtion(ndvi_df):\n",
    "    conditions_ndvi = [ndvi_df.days<10, \n",
    "             ((ndvi_df.days >= 10) & (ndvi_df.days < 30)),\n",
    "             ((ndvi_df.days >= 30) & (ndvi_df.days < 90)),\n",
    "             ((ndvi_df.days >= 90))]\n",
    "\n",
    "    choices = ['Phase-1','Phase-2','Phase-3', 'Phase-4']\n",
    "    weights = [0.15, 0.15, 0.35, 0.35]\n",
    "    ndvi_df['Phase'] = np.select(conditions_ndvi, choices)\n",
    "    ndvi_df['Phase_weight'] = np.select(conditions_ndvi, weights)\n",
    "    \n",
    "    return ndvi_df\n",
    "\n",
    "\n",
    "def windspeed_prediction(data, fid, condtion = None):\n",
    "\n",
    "    data = data.loc[data['Wind Speed (kmh)']!='-']\n",
    "\n",
    "    sow = client.loc[client.fid == int(fid), 'sowingdt'].values[0]\n",
    "    data['date'] = pd.to_datetime(data['Date time (time zone: Asia/Kolkata)'])\n",
    "    if condtion:\n",
    "        data = data.loc[data.date <pd.to_datetime(condition)]\n",
    "\n",
    "    data = data.loc[data['date']>= pd.to_datetime(sow)]\n",
    "    data['hours'] = data.date.apply(lambda x: x.strftime(\"%H\")).astype(int)\n",
    "    data['days'] = data.date.apply(lambda x: (x-pd.to_datetime(sow)).days)\n",
    "    data['Wind Speed (kmh)'] = data['Wind Speed (kmh)'].astype(float)\n",
    "    data['wind_loss'] = windspeed_condtion(data, 'Wind Speed (kmh)')\n",
    "    data = phases_condtion(data)[['Phase', 'wind_loss']]\n",
    "    data = data.groupby('Phase').min()\n",
    "\n",
    "    try:\n",
    "        phase_1 = data.loc['Phase-1'].values[0]\n",
    "    except:\n",
    "        phase_1 = 1.0\n",
    "\n",
    "    try:\n",
    "        phase_2 = data.loc['Phase-2'].values[0]\n",
    "    except:\n",
    "        phase_2 = 1.0\n",
    "\n",
    "    try:\n",
    "        phase_3 = data.loc['Phase-3'].values[0]\n",
    "    except:\n",
    "        phase_3 = 1.0\n",
    "\n",
    "    try:\n",
    "        phase_4 = data.loc['Phase-4'].values[0]\n",
    "    except:\n",
    "        phase_4 = 1.0\n",
    "    \n",
    "    return [phase_1, phase_2, phase_3, phase_4]"
   ]
  },
  {
   "cell_type": "code",
   "execution_count": 76,
   "id": "b5770fe6",
   "metadata": {
    "ExecuteTime": {
     "end_time": "2023-06-20T00:47:58.738354Z",
     "start_time": "2023-06-20T00:47:45.278237Z"
    }
   },
   "outputs": [],
   "source": [
    "wind_loss = []\n",
    "fids = []\n",
    "for fil in files:\n",
    "    \n",
    "    fid = fil.split('/')[-2]\n",
    "    if fid in tomato_fids:\n",
    "        fids.append(fid)\n",
    "    \n",
    "        data = pd.read_csv(fil)\n",
    "#         condtion = '2023-04-25'\n",
    "        dat = windspeed_prediction(data, fid)\n",
    "        wind_loss.append(dat)"
   ]
  },
  {
   "cell_type": "code",
   "execution_count": 77,
   "id": "73bc9d05",
   "metadata": {
    "ExecuteTime": {
     "end_time": "2023-06-19T23:57:14.729663Z",
     "start_time": "2023-06-19T23:57:14.716658Z"
    }
   },
   "outputs": [
    {
     "data": {
      "text/html": [
       "<div>\n",
       "<style scoped>\n",
       "    .dataframe tbody tr th:only-of-type {\n",
       "        vertical-align: middle;\n",
       "    }\n",
       "\n",
       "    .dataframe tbody tr th {\n",
       "        vertical-align: top;\n",
       "    }\n",
       "\n",
       "    .dataframe thead th {\n",
       "        text-align: right;\n",
       "    }\n",
       "</style>\n",
       "<table border=\"1\" class=\"dataframe\">\n",
       "  <thead>\n",
       "    <tr style=\"text-align: right;\">\n",
       "      <th></th>\n",
       "      <th>Phase-1</th>\n",
       "      <th>Phase-2</th>\n",
       "      <th>Phase-3</th>\n",
       "      <th>Phase-4</th>\n",
       "    </tr>\n",
       "  </thead>\n",
       "  <tbody>\n",
       "    <tr>\n",
       "      <th>0</th>\n",
       "      <td>0.5</td>\n",
       "      <td>0.5</td>\n",
       "      <td>0.5</td>\n",
       "      <td>0.5</td>\n",
       "    </tr>\n",
       "    <tr>\n",
       "      <th>1</th>\n",
       "      <td>1.0</td>\n",
       "      <td>1.0</td>\n",
       "      <td>0.5</td>\n",
       "      <td>0.5</td>\n",
       "    </tr>\n",
       "    <tr>\n",
       "      <th>2</th>\n",
       "      <td>0.5</td>\n",
       "      <td>0.5</td>\n",
       "      <td>0.5</td>\n",
       "      <td>1.0</td>\n",
       "    </tr>\n",
       "    <tr>\n",
       "      <th>3</th>\n",
       "      <td>0.5</td>\n",
       "      <td>0.8</td>\n",
       "      <td>0.5</td>\n",
       "      <td>0.5</td>\n",
       "    </tr>\n",
       "    <tr>\n",
       "      <th>4</th>\n",
       "      <td>0.5</td>\n",
       "      <td>0.5</td>\n",
       "      <td>0.5</td>\n",
       "      <td>0.8</td>\n",
       "    </tr>\n",
       "  </tbody>\n",
       "</table>\n",
       "</div>"
      ],
      "text/plain": [
       "   Phase-1  Phase-2  Phase-3  Phase-4\n",
       "0      0.5      0.5      0.5      0.5\n",
       "1      1.0      1.0      0.5      0.5\n",
       "2      0.5      0.5      0.5      1.0\n",
       "3      0.5      0.8      0.5      0.5\n",
       "4      0.5      0.5      0.5      0.8"
      ]
     },
     "execution_count": 77,
     "metadata": {},
     "output_type": "execute_result"
    }
   ],
   "source": [
    "phase4 = pd.DataFrame(wind_loss, columns = ['Phase-1', 'Phase-2', 'Phase-3', 'Phase-4'],)\n",
    "phase4.head()"
   ]
  },
  {
   "cell_type": "code",
   "execution_count": 78,
   "id": "4793cadd",
   "metadata": {
    "ExecuteTime": {
     "end_time": "2023-06-19T23:57:15.868174Z",
     "start_time": "2023-06-19T23:57:15.829375Z"
    }
   },
   "outputs": [],
   "source": [
    "optimal_windspeed = pd.read_csv('../../data/optimal_sensor/windspeed_training_data.csv')"
   ]
  },
  {
   "cell_type": "code",
   "execution_count": 79,
   "id": "6ee1211c",
   "metadata": {
    "ExecuteTime": {
     "end_time": "2023-06-19T23:57:17.721783Z",
     "start_time": "2023-06-19T23:57:17.525303Z"
    }
   },
   "outputs": [],
   "source": [
    "new_wind = pd.DataFrame()\n",
    "for i in optimal_windspeed.columns[1:].values:\n",
    "    new_wind[i] = windspeed_condtion(optimal_windspeed,i)\n",
    "    \n",
    "new_wind['days'] = optimal_windspeed.Day.values\n",
    "new_wind = phases_condtion(new_wind)\n",
    "new_wind = new_wind.drop(columns =['days'])\n",
    "test = new_wind.groupby(['Phase']).min()\n",
    "wind_test = test.drop(columns = ['Phase_weight']).T"
   ]
  },
  {
   "cell_type": "code",
   "execution_count": 80,
   "id": "086cabc4",
   "metadata": {
    "ExecuteTime": {
     "end_time": "2023-06-19T23:57:18.970524Z",
     "start_time": "2023-06-19T23:57:18.924732Z"
    }
   },
   "outputs": [],
   "source": [
    "test = new_wind.groupby(['Phase']).min()\n",
    "y_train = test.iloc[:, :-1].multiply(test[\"Phase_weight\"], axis=\"index\").sum().values"
   ]
  },
  {
   "cell_type": "code",
   "execution_count": 81,
   "id": "719734e7",
   "metadata": {
    "ExecuteTime": {
     "end_time": "2023-06-19T23:57:20.520469Z",
     "start_time": "2023-06-19T23:57:20.508312Z"
    }
   },
   "outputs": [],
   "source": [
    "final_wind = pd.concat([test.iloc[:, :-1].T, phase4]).reset_index(drop = True)"
   ]
  },
  {
   "cell_type": "code",
   "execution_count": 82,
   "id": "44145489",
   "metadata": {
    "ExecuteTime": {
     "end_time": "2023-06-19T23:57:21.529978Z",
     "start_time": "2023-06-19T23:57:21.524509Z"
    }
   },
   "outputs": [],
   "source": [
    "x_train = final_wind.values\n",
    "y_train = (x_train*np.array([0.15, 0.15, 0.35, 0.35])).sum(axis=1)"
   ]
  },
  {
   "cell_type": "code",
   "execution_count": 83,
   "id": "a28f8d4a",
   "metadata": {
    "ExecuteTime": {
     "end_time": "2023-06-19T23:57:22.965027Z",
     "start_time": "2023-06-19T23:57:22.956595Z"
    }
   },
   "outputs": [
    {
     "data": {
      "text/plain": [
       "array([0.59 , 0.605, 0.755, 0.755, 0.605, 0.65 , 0.72 , 0.86 , 0.87 ,\n",
       "       0.65 , 0.695, 0.68 , 0.725, 0.755, 0.93 , 0.93 , 0.86 , 0.855,\n",
       "       0.62 , 0.83 , 0.8  , 0.725, 0.575, 0.93 , 0.765, 0.725, 0.83 ,\n",
       "       0.65 , 0.725, 0.695, 0.65 , 0.605, 0.575, 0.5  , 0.575, 0.725,\n",
       "       0.755, 0.68 , 0.65 , 0.65 , 0.725, 0.575, 0.65 , 0.695, 0.5  ,\n",
       "       0.5  , 0.5  , 0.62 , 0.62 , 0.83 , 0.93 , 0.675, 0.65 , 0.5  ,\n",
       "       0.83 , 0.83 , 0.725, 0.65 , 0.545, 0.755, 0.75 , 0.93 , 0.87 ,\n",
       "       0.83 , 0.855, 0.755, 0.755, 0.72 , 0.605, 0.695, 0.93 , 0.86 ,\n",
       "       0.65 , 0.825, 0.755, 0.93 , 0.94 , 0.825, 0.755, 1.   , 0.825,\n",
       "       1.   , 0.86 , 0.72 , 0.93 , 0.87 , 0.755, 0.62 , 0.755, 0.86 ,\n",
       "       0.795, 0.86 , 0.765, 0.59 , 0.545, 0.545, 0.725, 0.62 , 0.65 ,\n",
       "       0.855, 0.86 , 0.755, 0.68 , 0.93 , 0.87 , 0.93 , 0.755, 0.86 ,\n",
       "       0.825, 0.93 , 0.825, 0.93 , 0.93 , 0.62 , 0.825, 0.86 , 0.93 ,\n",
       "       0.545, 0.83 , 0.93 , 0.5  , 0.65 , 0.675, 0.545, 0.605, 0.65 ,\n",
       "       0.545, 0.545, 0.545, 0.575, 0.545, 0.545, 0.5  , 0.5  , 0.795,\n",
       "       0.65 , 0.695])"
      ]
     },
     "execution_count": 83,
     "metadata": {},
     "output_type": "execute_result"
    }
   ],
   "source": [
    "y_train"
   ]
  },
  {
   "cell_type": "code",
   "execution_count": 88,
   "id": "cadf2f5d",
   "metadata": {
    "ExecuteTime": {
     "end_time": "2023-06-19T23:57:26.678880Z",
     "start_time": "2023-06-19T23:57:26.485124Z"
    }
   },
   "outputs": [
    {
     "data": {
      "text/html": [
       "<style>#sk-container-id-3 {color: black;background-color: white;}#sk-container-id-3 pre{padding: 0;}#sk-container-id-3 div.sk-toggleable {background-color: white;}#sk-container-id-3 label.sk-toggleable__label {cursor: pointer;display: block;width: 100%;margin-bottom: 0;padding: 0.3em;box-sizing: border-box;text-align: center;}#sk-container-id-3 label.sk-toggleable__label-arrow:before {content: \"▸\";float: left;margin-right: 0.25em;color: #696969;}#sk-container-id-3 label.sk-toggleable__label-arrow:hover:before {color: black;}#sk-container-id-3 div.sk-estimator:hover label.sk-toggleable__label-arrow:before {color: black;}#sk-container-id-3 div.sk-toggleable__content {max-height: 0;max-width: 0;overflow: hidden;text-align: left;background-color: #f0f8ff;}#sk-container-id-3 div.sk-toggleable__content pre {margin: 0.2em;color: black;border-radius: 0.25em;background-color: #f0f8ff;}#sk-container-id-3 input.sk-toggleable__control:checked~div.sk-toggleable__content {max-height: 200px;max-width: 100%;overflow: auto;}#sk-container-id-3 input.sk-toggleable__control:checked~label.sk-toggleable__label-arrow:before {content: \"▾\";}#sk-container-id-3 div.sk-estimator input.sk-toggleable__control:checked~label.sk-toggleable__label {background-color: #d4ebff;}#sk-container-id-3 div.sk-label input.sk-toggleable__control:checked~label.sk-toggleable__label {background-color: #d4ebff;}#sk-container-id-3 input.sk-hidden--visually {border: 0;clip: rect(1px 1px 1px 1px);clip: rect(1px, 1px, 1px, 1px);height: 1px;margin: -1px;overflow: hidden;padding: 0;position: absolute;width: 1px;}#sk-container-id-3 div.sk-estimator {font-family: monospace;background-color: #f0f8ff;border: 1px dotted black;border-radius: 0.25em;box-sizing: border-box;margin-bottom: 0.5em;}#sk-container-id-3 div.sk-estimator:hover {background-color: #d4ebff;}#sk-container-id-3 div.sk-parallel-item::after {content: \"\";width: 100%;border-bottom: 1px solid gray;flex-grow: 1;}#sk-container-id-3 div.sk-label:hover label.sk-toggleable__label {background-color: #d4ebff;}#sk-container-id-3 div.sk-serial::before {content: \"\";position: absolute;border-left: 1px solid gray;box-sizing: border-box;top: 0;bottom: 0;left: 50%;z-index: 0;}#sk-container-id-3 div.sk-serial {display: flex;flex-direction: column;align-items: center;background-color: white;padding-right: 0.2em;padding-left: 0.2em;position: relative;}#sk-container-id-3 div.sk-item {position: relative;z-index: 1;}#sk-container-id-3 div.sk-parallel {display: flex;align-items: stretch;justify-content: center;background-color: white;position: relative;}#sk-container-id-3 div.sk-item::before, #sk-container-id-3 div.sk-parallel-item::before {content: \"\";position: absolute;border-left: 1px solid gray;box-sizing: border-box;top: 0;bottom: 0;left: 50%;z-index: -1;}#sk-container-id-3 div.sk-parallel-item {display: flex;flex-direction: column;z-index: 1;position: relative;background-color: white;}#sk-container-id-3 div.sk-parallel-item:first-child::after {align-self: flex-end;width: 50%;}#sk-container-id-3 div.sk-parallel-item:last-child::after {align-self: flex-start;width: 50%;}#sk-container-id-3 div.sk-parallel-item:only-child::after {width: 0;}#sk-container-id-3 div.sk-dashed-wrapped {border: 1px dashed gray;margin: 0 0.4em 0.5em 0.4em;box-sizing: border-box;padding-bottom: 0.4em;background-color: white;}#sk-container-id-3 div.sk-label label {font-family: monospace;font-weight: bold;display: inline-block;line-height: 1.2em;}#sk-container-id-3 div.sk-label-container {text-align: center;}#sk-container-id-3 div.sk-container {/* jupyter's `normalize.less` sets `[hidden] { display: none; }` but bootstrap.min.css set `[hidden] { display: none !important; }` so we also need the `!important` here to be able to override the default hidden behavior on the sphinx rendered scikit-learn.org. See: https://github.com/scikit-learn/scikit-learn/issues/21755 */display: inline-block !important;position: relative;}#sk-container-id-3 div.sk-text-repr-fallback {display: none;}</style><div id=\"sk-container-id-3\" class=\"sk-top-container\"><div class=\"sk-text-repr-fallback\"><pre>RandomForestRegressor(random_state=0)</pre><b>In a Jupyter environment, please rerun this cell to show the HTML representation or trust the notebook. <br />On GitHub, the HTML representation is unable to render, please try loading this page with nbviewer.org.</b></div><div class=\"sk-container\" hidden><div class=\"sk-item\"><div class=\"sk-estimator sk-toggleable\"><input class=\"sk-toggleable__control sk-hidden--visually\" id=\"sk-estimator-id-3\" type=\"checkbox\" checked><label for=\"sk-estimator-id-3\" class=\"sk-toggleable__label sk-toggleable__label-arrow\">RandomForestRegressor</label><div class=\"sk-toggleable__content\"><pre>RandomForestRegressor(random_state=0)</pre></div></div></div></div></div>"
      ],
      "text/plain": [
       "RandomForestRegressor(random_state=0)"
      ]
     },
     "execution_count": 88,
     "metadata": {},
     "output_type": "execute_result"
    }
   ],
   "source": [
    "wind_regressor = RandomForestRegressor(n_estimators=100, random_state=0)\n",
    "wind_regressor.fit(x_train, y_train)"
   ]
  },
  {
   "cell_type": "code",
   "execution_count": 89,
   "id": "c53464ef",
   "metadata": {
    "ExecuteTime": {
     "end_time": "2023-06-19T23:57:28.815908Z",
     "start_time": "2023-06-19T23:57:28.788665Z"
    }
   },
   "outputs": [
    {
     "data": {
      "text/plain": [
       "array([ 0.   , -0.   , -0.017,  0.003,  0.008, -0.002,  0.   ,  0.   ,\n",
       "        0.   ,  0.   ,  0.   ,  0.   ,  0.   ,  0.   ,  0.003, -0.   ,\n",
       "        0.007])"
      ]
     },
     "execution_count": 89,
     "metadata": {},
     "output_type": "execute_result"
    }
   ],
   "source": [
    "np.round(wind_regressor.predict(phase4.values)-(phase4.values*np.array([0.15, 0.15, 0.35, 0.35])).sum(axis=1), 3)"
   ]
  },
  {
   "cell_type": "code",
   "execution_count": 84,
   "id": "3761e8c5",
   "metadata": {
    "ExecuteTime": {
     "end_time": "2023-06-19T23:59:08.233230Z",
     "start_time": "2023-06-19T23:58:56.310657Z"
    }
   },
   "outputs": [],
   "source": [
    "hum_sim = sep_h.values.tolist()\n",
    "temp_sim = sep.values.tolist()\n",
    "rain_sim = rain_test.values.tolist()\n",
    "wind_sim = wind_test.values.tolist()\n",
    "\n",
    "sensor_data_combo = []\n",
    "\n",
    "for rain in rain_sim[:60]:\n",
    "    for temp in temp_sim[:60]:\n",
    "        for hum in hum_sim[:60]:\n",
    "            for win in wind_sim[:60]:\n",
    "                sensor_data_combo.append([rain, temp, hum, win])\n",
    "                \n",
    "                \n",
    "                "
   ]
  },
  {
   "cell_type": "code",
   "execution_count": 93,
   "id": "81dbc8f4",
   "metadata": {
    "ExecuteTime": {
     "end_time": "2023-06-20T00:00:09.711127Z",
     "start_time": "2023-06-20T00:00:09.705599Z"
    }
   },
   "outputs": [],
   "source": [
    "train_x = list(zip(phase1.values.tolist(), phase2.values.tolist(), phase3.values.tolist(), phase4.values.tolist()))\n",
    "full_sim = np.array(sensor_data_combo + train_x)\n",
    "overall_loss = (((full_sim*np.array([0.15, 0.15, 0.35, 0.35])).sum(axis=2))*(np.array([0.40, 0.2, 0.2,0.2]))).sum(axis=1)\n",
    "train_x = full_sim.reshape((len(full_sim), 4, 4, 1))\n",
    "train_y = overall_loss"
   ]
  },
  {
   "cell_type": "markdown",
   "id": "2fea6755",
   "metadata": {
    "ExecuteTime": {
     "end_time": "2023-06-20T00:01:23.058992Z",
     "start_time": "2023-06-20T00:01:20.031766Z"
    }
   },
   "source": [
    "# Deep Learning CNN Model"
   ]
  },
  {
   "cell_type": "code",
   "execution_count": null,
   "id": "f9af40d3",
   "metadata": {
    "ExecuteTime": {
     "end_time": "2023-06-20T00:05:39.227663Z",
     "start_time": "2023-06-20T00:02:03.295480Z"
    }
   },
   "outputs": [
    {
     "name": "stdout",
     "output_type": "stream",
     "text": [
      "Epoch 1/10\n",
      "130/130 [==============================] - 15s 103ms/step - loss: 0.0355\n",
      "Epoch 2/10\n",
      "130/130 [==============================] - 14s 111ms/step - loss: 0.0086\n",
      "Epoch 3/10\n",
      "130/130 [==============================] - 14s 108ms/step - loss: 0.0077\n",
      "Epoch 4/10\n",
      "130/130 [==============================] - 15s 113ms/step - loss: 0.0073\n",
      "Epoch 5/10\n",
      "130/130 [==============================] - 16s 121ms/step - loss: 0.0071\n",
      "Epoch 6/10\n",
      "130/130 [==============================] - 17s 129ms/step - loss: 0.0068\n",
      "Epoch 7/10\n",
      "130/130 [==============================] - 17s 130ms/step - loss: 0.0066\n",
      "Epoch 8/10\n",
      "130/130 [==============================] - 17s 129ms/step - loss: 0.0064\n",
      "Epoch 9/10\n",
      " 56/130 [===========>..................] - ETA: 9s - loss: 0.0063"
     ]
    }
   ],
   "source": [
    "from tensorflow.keras.models import Sequential\n",
    "from tensorflow.keras.layers import Dense, Conv2D, Flatten\n",
    "\n",
    "model = Sequential()\n",
    "model.add(Conv2D(64, kernel_size=(3, 3), activation='relu', input_shape=(4, 4, 1)))  # Input layer\n",
    "model.add(Flatten())\n",
    "model.add(Dense(128, activation='relu'))\n",
    "model.add(Dense(1, activation='linear'))\n",
    "model.compile(loss='mean_absolute_error', optimizer='adam')\n",
    "\n",
    "model.fit(train_x, train_y, epochs=10, batch_size=100000)\n",
    "# pickle.dump(model, open('../model/sensor_model.pkl', 'wb'))"
   ]
  },
  {
   "cell_type": "code",
   "execution_count": null,
   "id": "0fa44a71",
   "metadata": {},
   "outputs": [],
   "source": [
    "test_x = np.array(list(zip(phase1.values.tolist(), phase2.values.tolist(), phase3.values.tolist(), phase4.values.tolist())))\n",
    "test_y = (((test_x*np.array([0.15, 0.15, 0.35, 0.35])).sum(axis=2))*(np.array([0.40, 0.2, 0.2,0.2]))).sum(axis=1)\n",
    "test_x = test_x.reshape((len(test_x), 4, 4, 1))"
   ]
  },
  {
   "cell_type": "code",
   "execution_count": 278,
   "id": "78e71e53",
   "metadata": {
    "ExecuteTime": {
     "end_time": "2023-06-20T00:11:05.616989Z",
     "start_time": "2023-06-20T00:11:05.522608Z"
    }
   },
   "outputs": [],
   "source": [
    "\n",
    "# pickle.dump(model, open('../model/sensor_model.pkl', 'wb'))"
   ]
  },
  {
   "cell_type": "code",
   "execution_count": 111,
   "id": "4ef17847",
   "metadata": {},
   "outputs": [
    {
     "name": "stdout",
     "output_type": "stream",
     "text": [
      "1/1 [==============================] - 0s 11ms/step\n"
     ]
    }
   ],
   "source": [
    "pred = model.predict(test_x).flatten()"
   ]
  },
  {
   "cell_type": "code",
   "execution_count": 316,
   "id": "160e81f6",
   "metadata": {},
   "outputs": [],
   "source": [
    "test = pd.DataFrame(list(zip(fids_list, pred)), columns = ['fid', 'Losses'])\n",
    "test['fid'] = test['fid'].astype('int')\n",
    "test = test.merge(client[['fid', 'Seed details']], on = 'fid')"
   ]
  },
  {
   "cell_type": "code",
   "execution_count": null,
   "id": "d858227f",
   "metadata": {},
   "outputs": [],
   "source": [
    "test.head()"
   ]
  },
  {
   "cell_type": "code",
   "execution_count": 309,
   "id": "9011fd24",
   "metadata": {},
   "outputs": [],
   "source": [
    "def nuts_cond(val, nut):\n",
    "    \n",
    "    if val > optimal_nutrients[nut][0]  and val < optimal_nutrients[nut][1]:\n",
    "        \n",
    "        return 0 \n",
    "    \n",
    "    else:\n",
    "        mn = np.array([optimal_nutrients[nut][0], optimal_nutrients[nut][1]]).mean()\n",
    "        \n",
    "        return ((val-mn)/mn)*0.25\n",
    "        \n",
    "        \n",
    "        \n",
    "        \n",
    "optimal_nutrients = {'N':[280, 560], \n",
    "                     'P':[22.4,56],\n",
    "                    'K':[110,280],\n",
    "                    'pH':[6.5,7.5]}\n",
    "\n",
    "\n",
    "seed_type = {'US440':[1.25, [5, 17]], 'US800 F1 hybrid':[1.35,[6,22]], 'PHC 448':[1.05, [4.5 , 15]], \n",
    "             'HM CLAS prishi':[1.4,[6,25]], 'Syngenta':[1.5,[9,25]], 'General':[1, [4,15]]}\n",
    "    \n",
    "    "
   ]
  },
  {
   "cell_type": "code",
   "execution_count": 321,
   "id": "4cf8e62e",
   "metadata": {},
   "outputs": [
    {
     "name": "stdout",
     "output_type": "stream",
     "text": [
      "68405 7.530137155737196\n",
      "68519 8.677209127113528\n",
      "68399 7.587837758117489\n",
      "68528 10.00680220906551\n",
      "68400 8.143522182958467\n",
      "68372 8.88875033921429\n",
      "68514 11.886838645026797\n",
      "68398 12.019493341445923\n",
      "68515 8.04885767606144\n",
      "68406 7.742031061878571\n",
      "68517 6.70428524672985\n",
      "68513 9.925285854935646\n",
      "68518 7.933518558314868\n",
      "68831 6.702988191757883\n",
      "68526 7.194846561710749\n",
      "68403 8.622168401862893\n",
      "68377 13.257952723056079\n"
     ]
    }
   ],
   "source": [
    "soil_nuts = pd.read_csv('../data/info/murata data - Fertilizer impacts.csv')\n",
    "test = pd.DataFrame(list(zip(fids_list, pred)), columns = ['fid', 'Losses'])\n",
    "test['fid'] = test['fid'].astype('int')\n",
    "test = test.merge(client[['fid', 'Seed details']], on = 'fid')\n",
    "\n",
    "for i  in range(len(test)):\n",
    "    \n",
    "    loss = test.iloc[i]['Losses']\n",
    "    sd_fact = seed_type[test.iloc[i]['Seed details']]\n",
    "    fid = test.iloc[i]['fid']\n",
    "    try:\n",
    "        y1 = np.array(sd_fact[1]).mean() * loss\n",
    "        vals = soil_nuts.loc[soil_nuts['Farm id'] == fid,['N','P' ,'K','pH']].values[0]\n",
    "        st = []\n",
    "        for ind, val in enumerate(vals):\n",
    "            vv = nuts_cond(vals[ind], list(optimal_nutrients)[ind])\n",
    "            st.append(vv)\n",
    "\n",
    "        Nutrient_factor = 1+ np.array(st).sum()\n",
    "        print(fid , Nutrient_factor * y1)\n",
    "    except Exception as e:\n",
    "        print(e)\n"
   ]
  },
  {
   "cell_type": "code",
   "execution_count": null,
   "id": "b764b3c5",
   "metadata": {},
   "outputs": [],
   "source": []
  }
 ],
 "metadata": {
  "kernelspec": {
   "display_name": "ml",
   "language": "python",
   "name": "myenv"
  },
  "language_info": {
   "codemirror_mode": {
    "name": "ipython",
    "version": 3
   },
   "file_extension": ".py",
   "mimetype": "text/x-python",
   "name": "python",
   "nbconvert_exporter": "python",
   "pygments_lexer": "ipython3",
   "version": "3.10.6"
  },
  "varInspector": {
   "cols": {
    "lenName": 16,
    "lenType": 16,
    "lenVar": 40
   },
   "kernels_config": {
    "python": {
     "delete_cmd_postfix": "",
     "delete_cmd_prefix": "del ",
     "library": "var_list.py",
     "varRefreshCmd": "print(var_dic_list())"
    },
    "r": {
     "delete_cmd_postfix": ") ",
     "delete_cmd_prefix": "rm(",
     "library": "var_list.r",
     "varRefreshCmd": "cat(var_dic_list()) "
    }
   },
   "types_to_exclude": [
    "module",
    "function",
    "builtin_function_or_method",
    "instance",
    "_Feature"
   ],
   "window_display": false
  }
 },
 "nbformat": 4,
 "nbformat_minor": 5
}
