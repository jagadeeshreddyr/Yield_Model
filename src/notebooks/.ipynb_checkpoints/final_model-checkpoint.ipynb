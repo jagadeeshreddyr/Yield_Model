{
 "cells": [
  {
   "cell_type": "code",
   "execution_count": 1,
   "id": "4668ccfa",
   "metadata": {},
   "outputs": [],
   "source": [
    "import datetime as dt\n",
    "\n",
    "import glob\n",
    "import matplotlib.pyplot as plt \n",
    "import numpy as np\n",
    "import pandas as pd\n",
    "import pickle\n",
    "\n",
    "\n",
    "from sklearn.linear_model import Lasso, LinearRegression\n",
    "from sklearn.ensemble import RandomForestRegressor\n",
    "from sklearn.svm import SVR\n",
    "from sklearn.model_selection import train_test_split\n",
    "from sklearn.tree import  DecisionTreeRegressor\n",
    "from sklearn.preprocessing import StandardScaler\n",
    "from sklearn.metrics import mean_absolute_error, mean_squared_error\n",
    "from sklearn.metrics import r2_score\n",
    "import warnings \n",
    "warnings.filterwarnings('ignore')\n",
    "plt.style.use('ggplot')"
   ]
  },
  {
   "cell_type": "markdown",
   "id": "551677fa",
   "metadata": {},
   "source": [
    "## select the crop"
   ]
  },
  {
   "cell_type": "code",
   "execution_count": 2,
   "id": "8c2bcf59",
   "metadata": {},
   "outputs": [],
   "source": [
    "crop = 'Chilli'"
   ]
  },
  {
   "cell_type": "code",
   "execution_count": 3,
   "id": "000e71db",
   "metadata": {},
   "outputs": [],
   "source": [
    "files = glob.glob('../../data/raw/*/report.csv')"
   ]
  },
  {
   "cell_type": "code",
   "execution_count": 4,
   "id": "4dbf72f5",
   "metadata": {},
   "outputs": [],
   "source": [
    "tomato_fids = \"68519 68513 68400 68514 68518 68517 68372 68398 68377 68403 68406 68526 68405 68399 68515 68528 68831\".split(' ') "
   ]
  },
  {
   "cell_type": "code",
   "execution_count": 5,
   "id": "b83687b3",
   "metadata": {},
   "outputs": [],
   "source": [
    "chilli_fids = \"68376 68752 68765 68719 68727 68764 68373 68731\".split(' ')"
   ]
  },
  {
   "cell_type": "code",
   "execution_count": 6,
   "id": "5c0aa8e5",
   "metadata": {},
   "outputs": [],
   "source": [
    "client = pd.read_csv('../../data/info/all_info.csv')"
   ]
  },
  {
   "cell_type": "code",
   "execution_count": 7,
   "id": "58f2d188",
   "metadata": {},
   "outputs": [],
   "source": [
    "def error(df, x, y):\n",
    "    mae = mean_absolute_error(df[x], df[y])\n",
    "    mse = mean_squared_error(df[x], df[y])\n",
    "    var = df[y].var()\n",
    "    corr = df[x].corr(df[y]) \n",
    "    bias = (df[y]-df[x]).sum()/(df[x].sum()) *100\n",
    "    r2 = r2_score(df[x], df[y])\n",
    "    try:\n",
    "        rpd = (statistics.stdev(df[x]))/(np.sqrt(mse))\n",
    "    except:\n",
    "        rpd = None\n",
    "    \n",
    "    return mae, mse, var, corr, bias, r2, rpd"
   ]
  },
  {
   "cell_type": "code",
   "execution_count": 8,
   "id": "2c603eb3",
   "metadata": {
    "scrolled": true
   },
   "outputs": [],
   "source": [
    "loss_rain = []\n",
    "fids_list = []\n",
    "\n",
    "rec = []\n",
    "for fil in files:\n",
    "    \n",
    "    fid = fil.split('/')[-2]\n",
    "    \n",
    "    if crop == 'Tomato':\n",
    "        l1 = tomato_fids\n",
    "\n",
    "    else:\n",
    "        l1 = chilli_fids\n",
    "    \n",
    "    if fid in l1:\n",
    "\n",
    "        fids_list.append(fid)\n",
    "    \n",
    "        data = pd.read_csv(fil)\n",
    "        \n",
    "        data['date'] = data['Date time (time zone: Asia/Kolkata)'].apply(\n",
    "           lambda x: pd.to_datetime(x).date())\n",
    "        \n",
    "        \n",
    "        \n",
    "        data = data.loc[data['Rain fall (mm)']!='-']\n",
    "        \n",
    "        data = data.loc[data['Wind Speed (kmh)']!='-']\n",
    "        data = data.loc[data['Humidity (%)'] != '-']\n",
    "        \n",
    "        data = data.loc[data['Temperature (°C)'] != '-']\n",
    "        \n",
    "        data = data.loc[data['Soil temperature (°C)'] != '-']\n",
    "        \n",
    "        data['Rain fall (mm)'] = data['Rain fall (mm)'].astype(float)\n",
    "        \n",
    "        data['Wind Speed (kmh)'] = data['Wind Speed (kmh)'].astype(float)\n",
    "        \n",
    "        data['Humidity (%)'] = data['Humidity (%)'].astype(float)\n",
    "     \n",
    "        data['Soil temperature (°C)'] = data['Soil temperature (°C)'].astype(float)\n",
    "        \n",
    "        data['Temperature (°C)'] = data['Temperature (°C)'].astype(float)\n",
    "        \n",
    "        \n",
    "        \n",
    "        sow, actul_yield = client.loc[client.fid == int(fid), ['sowingdt','Actual Yield']].values[0]\n",
    "        \n",
    "        \n",
    "        data2 = data.groupby(['date']).sum().reset_index()[['date','Rain fall (mm)', 'Wind Speed (kmh)']]\n",
    "        \n",
    "        eva = pd.read_csv(f'../../data/raw/{fid}/vpd.csv')\n",
    "        \n",
    "        eva['date'] = eva['Date time (time zone: Asia/Kolkata)'].apply(\n",
    "           lambda x: pd.to_datetime(x).date())\n",
    "\n",
    "\n",
    "        eva['days'] = eva['date'].apply(lambda x : (x - dt.datetime.strptime(sow, '%Y-%m-%d').date()).days)\n",
    "    \n",
    "    \n",
    "        gdd = pd.read_csv(f'../../data/raw/{fids_list[-1]}/gdd.csv')\n",
    "\n",
    "        gdd['date'] = gdd['Date time (time zone: Asia/Kolkata)'].apply(\n",
    "                   lambda x: pd.to_datetime(x).date())\n",
    "\n",
    "\n",
    "        gdd['days'] = gdd['date'].apply(lambda x : (x - dt.datetime.strptime(sow, '%Y-%m-%d').date()).days)\n",
    "        \n",
    "        \n",
    "        evp = pd.read_csv(f'../../data/raw/{fids_list[-1]}/evapotranspiration.csv')\n",
    "\n",
    "        evp['date'] = evp['Date time (time zone: Asia/Kolkata)'].apply(\n",
    "                   lambda x: pd.to_datetime(x).date())\n",
    "\n",
    "\n",
    "        evp['days'] = evp['date'].apply(lambda x : (x - dt.datetime.strptime(sow, '%Y-%m-%d').date()).days)\n",
    "\n",
    "        \n",
    "        data2['days'] = data2['date'].apply(lambda x : (x - dt.datetime.strptime(sow, '%Y-%m-%d').date()).days)\n",
    "        \n",
    "        data3 = data.groupby(['date']).mean().reset_index()[['Temperature (°C)', 'Humidity (%)', 'Soil temperature (°C)']]\n",
    "        \n",
    "        ind = data2[['Rain fall (mm)']].idxmax()[0]\n",
    "        \n",
    "\n",
    "        \n",
    "        val = data2.iloc[ind][1:].values\n",
    "        \n",
    "        day = val[2]\n",
    "        \n",
    "        if val[2] == 94:\n",
    "            val[2] = 125\n",
    "            \n",
    "            \n",
    "        \n",
    "        d = {\n",
    "            \n",
    "            'fid' :fid,\n",
    "            'Rain fall (mm)':val[0],\n",
    "            'Wind Speed (kmh)':data.loc[data['date']== data2.iloc[ind]['date']]['Wind Speed (kmh)'].max(),\n",
    "            'days':val[2],\n",
    "            'Temp_min':data3['Temperature (°C)'].min(),\n",
    "            'Temp_max':data3['Temperature (°C)'].max(),\n",
    "            'Temp_mean':data3['Temperature (°C)'].mean(),\n",
    "            'Humd_min':data3['Humidity (%)'].min(),\n",
    "            'Humd_max':data3['Humidity (%)'].max(),\n",
    "            'Humd_mean':data3['Humidity (%)'].mean(),\n",
    "            'actual_yield':actul_yield\n",
    "            \n",
    "        }\n",
    "\n",
    "        \n",
    "        \n",
    "\n",
    "\n",
    "        data3.iloc[ind]\n",
    "        rec.append(d)\n",
    "        \n",
    "        \n",
    "        \n",
    "        \n",
    "    \n",
    "        \n",
    "\n",
    "        \n"
   ]
  },
  {
   "cell_type": "code",
   "execution_count": 9,
   "id": "0217e60c",
   "metadata": {},
   "outputs": [],
   "source": [
    "test = pd.DataFrame(rec)\n",
    "\n",
    "if crop == 'Tomato':\n",
    "    test.at[3,'days'] = 125\n",
    "\n",
    "test.to_csv(f'../../data/processed/{crop}_training.csv', index = False)"
   ]
  },
  {
   "cell_type": "code",
   "execution_count": 10,
   "id": "369a4e9c",
   "metadata": {},
   "outputs": [],
   "source": [
    "\n",
    "random_model = RandomForestRegressor(max_depth = 5, max_features= 'auto', min_samples_split= 2, n_estimators=100)\n",
    "descion_model = DecisionTreeRegressor(criterion='squared_error', max_depth = 50, max_features = 4, )\n",
    "svr = SVR(kernel = 'rbf', C = 0.2)\n",
    "\n",
    "\n"
   ]
  },
  {
   "cell_type": "code",
   "execution_count": 11,
   "id": "bdaf0584",
   "metadata": {},
   "outputs": [
    {
     "data": {
      "text/html": [
       "<div>\n",
       "<style scoped>\n",
       "    .dataframe tbody tr th:only-of-type {\n",
       "        vertical-align: middle;\n",
       "    }\n",
       "\n",
       "    .dataframe tbody tr th {\n",
       "        vertical-align: top;\n",
       "    }\n",
       "\n",
       "    .dataframe thead th {\n",
       "        text-align: right;\n",
       "    }\n",
       "</style>\n",
       "<table border=\"1\" class=\"dataframe\">\n",
       "  <thead>\n",
       "    <tr style=\"text-align: right;\">\n",
       "      <th></th>\n",
       "      <th>Model</th>\n",
       "      <th>Mean absolute error</th>\n",
       "      <th>Mean squared error</th>\n",
       "      <th>Variance</th>\n",
       "      <th>Correlation</th>\n",
       "      <th>Bias</th>\n",
       "      <th>Coefficient of determination R^2</th>\n",
       "    </tr>\n",
       "  </thead>\n",
       "  <tbody>\n",
       "    <tr>\n",
       "      <th>0</th>\n",
       "      <td>Random Forest</td>\n",
       "      <td>0.96</td>\n",
       "      <td>1.09</td>\n",
       "      <td>3.46</td>\n",
       "      <td>0.98</td>\n",
       "      <td>0.14</td>\n",
       "      <td>0.85</td>\n",
       "    </tr>\n",
       "    <tr>\n",
       "      <th>1</th>\n",
       "      <td>Support vector Machine</td>\n",
       "      <td>2.35</td>\n",
       "      <td>7.66</td>\n",
       "      <td>0.00</td>\n",
       "      <td>0.54</td>\n",
       "      <td>-8.84</td>\n",
       "      <td>-0.07</td>\n",
       "    </tr>\n",
       "  </tbody>\n",
       "</table>\n",
       "</div>"
      ],
      "text/plain": [
       "                    Model  Mean absolute error  Mean squared error  Variance  \\\n",
       "0           Random Forest                 0.96                1.09      3.46   \n",
       "1  Support vector Machine                 2.35                7.66      0.00   \n",
       "\n",
       "   Correlation  Bias  Coefficient of determination R^2  \n",
       "0         0.98  0.14                              0.85  \n",
       "1         0.54 -8.84                             -0.07  "
      ]
     },
     "execution_count": 11,
     "metadata": {},
     "output_type": "execute_result"
    },
    {
     "data": {
      "image/png": "[encoded data removed]",
      "text/plain": [
       "<Figure size 640x480 with 1 Axes>"
      ]
     },
     "metadata": {},
     "output_type": "display_data"
    },
    {
     "data": {
      "image/png": "[encoded data removed]",
      "text/plain": [
       "<Figure size 640x480 with 1 Axes>"
      ]
     },
     "metadata": {},
     "output_type": "display_data"
    }
   ],
   "source": [
    "# model_list = [random_model,descion_model, svr]\n",
    "# model_names = ['Random Forest', 'Decision Tree', 'Support vector Machine']\n",
    "\n",
    "model_list = [random_model, svr]\n",
    "model_names = ['Random Forest', 'Support vector Machine']\n",
    "st =[ ]\n",
    "for ind, model in enumerate(model_list):\n",
    "    \n",
    "    model = None\n",
    "    model = model_list[ind]\n",
    "    X = test.iloc[:,1:-1].values\n",
    "    y = test.iloc[:,-1].values\n",
    "#     scaler = StandardScaler()\n",
    "#     scaler.fit(X)\n",
    "#     X = scaler.fit_transform(X)\n",
    "    model.fit(X,y)\n",
    "    \n",
    "    test['pred'] = [model.predict(X[x].reshape(1,-1))[0] for x in range(len(test))]\n",
    "    \n",
    "    mae, mse, var, corr, bias, r2, rpd = error(test, 'actual_yield', 'pred')\n",
    "    \n",
    " \n",
    "    dd = {'Model':model_names[ind],'Mean absolute error':mae, 'Mean squared error':mse,'Variance':var, \n",
    "          'Correlation':corr, 'Bias':bias, 'Coefficient of determination R^2':r2}\n",
    "    st.append(dd)\n",
    "    test.plot.scatter('actual_yield', 'pred')\n",
    "    plt.xlim([0,20])\n",
    "    plt.ylim([0,20])\n",
    "    plt.xlabel('Actual Yield (ton/acre)')\n",
    "    plt.ylabel('Predicted Yield (ton/acre)')\n",
    "    plt.axline((0, 0), slope=1)\n",
    "    plt.title(f'{crop} - {model_names[ind]}')\n",
    "\n",
    "    \n",
    "pd.DataFrame(st).round(2)\n",
    "\n",
    "    \n",
    "\n",
    "    "
   ]
  },
  {
   "cell_type": "code",
   "execution_count": 12,
   "id": "bce8c5a9",
   "metadata": {},
   "outputs": [
    {
     "ename": "NameError",
     "evalue": "name 'a' is not defined",
     "output_type": "error",
     "traceback": [
      "\u001b[0;31m---------------------------------------------------------------------------\u001b[0m",
      "\u001b[0;31mNameError\u001b[0m                                 Traceback (most recent call last)",
      "\u001b[0;32m/tmp/ipykernel_88185/2167009006.py\u001b[0m in \u001b[0;36m<module>\u001b[0;34m\u001b[0m\n\u001b[0;32m----> 1\u001b[0;31m \u001b[0ma\u001b[0m\u001b[0;34m\u001b[0m\u001b[0;34m\u001b[0m\u001b[0m\n\u001b[0m",
      "\u001b[0;31mNameError\u001b[0m: name 'a' is not defined"
     ]
    }
   ],
   "source": [
    "a"
   ]
  },
  {
   "cell_type": "code",
   "execution_count": null,
   "id": "6ed436a9",
   "metadata": {},
   "outputs": [],
   "source": [
    "X = test.iloc[:,1:-1].values\n",
    "y = test.iloc[:,-1].values\n",
    "scaler = StandardScaler()\n",
    "\n",
    "scaler.fit(X)\n",
    "X = scaler.fit_transform(X)"
   ]
  },
  {
   "cell_type": "code",
   "execution_count": null,
   "id": "c8b38719",
   "metadata": {},
   "outputs": [],
   "source": [
    "x = 'actual_yield'\n",
    "y = 'pred'\n",
    "\n",
    "df = test"
   ]
  },
  {
   "cell_type": "code",
   "execution_count": null,
   "id": "fb4329cf",
   "metadata": {},
   "outputs": [],
   "source": [
    "\n",
    "for i in range(len(test)):\n",
    "    test.at[i, 'pred'] = random_model.predict(X[i].reshape(1,-1))\n",
    "    \n",
    "    "
   ]
  },
  {
   "cell_type": "code",
   "execution_count": null,
   "id": "6130dac0",
   "metadata": {},
   "outputs": [],
   "source": [
    "test1 = test.copy()\n",
    "test1 = test1.rename(columns = {'actual_yield':'ytest'})\n",
    "test1"
   ]
  },
  {
   "cell_type": "code",
   "execution_count": null,
   "id": "2d4520e0",
   "metadata": {},
   "outputs": [],
   "source": [
    "mae, mse, var, corr, bias, r2, rpd = error(test1)"
   ]
  },
  {
   "cell_type": "code",
   "execution_count": null,
   "id": "82c83158",
   "metadata": {},
   "outputs": [],
   "source": [
    "dd = {'Mean absolute error':mae, 'Mean squared error':mse,'Variance':var, 'Correlation':corr, 'Bias':bias, \n",
    "      'Coefficient of determination R^2':r2}"
   ]
  },
  {
   "cell_type": "code",
   "execution_count": null,
   "id": "f1f8d9eb",
   "metadata": {},
   "outputs": [],
   "source": [
    "st =[ ]\n",
    "dd = {'Mean absolute error':mae,'Variance':var, 'Correlation':corr, \n",
    "      'Coefficient of determination R^2':r2}\n",
    "st.append(dd)\n",
    "pd.DataFrame(st).round(2)"
   ]
  },
  {
   "cell_type": "code",
   "execution_count": null,
   "id": "710d8c20",
   "metadata": {},
   "outputs": [],
   "source": [
    "test1.plot.scatter('ytest', 'pred')\n",
    "plt.xlim([0,20])\n",
    "plt.ylim([0,20])\n",
    "plt.xlabel('Actual Yield (ton/acre)')\n",
    "plt.ylabel('Predicted Yield (ton/acre)')\n",
    "plt.axline((0, 0), slope=1)\n"
   ]
  },
  {
   "cell_type": "code",
   "execution_count": null,
   "id": "c03a48c8",
   "metadata": {},
   "outputs": [],
   "source": [
    "test1['fid']  = test1['fid'].astype('int')\n",
    "test1 = test1.merge(client[['fid','Name']], on = 'fid')\n",
    "test1.columns"
   ]
  },
  {
   "cell_type": "code",
   "execution_count": null,
   "id": "2ae65ada",
   "metadata": {},
   "outputs": [],
   "source": [
    "test1[['fid', 'Name', 'ytest', 'pred']].to_csv(f'../../output/results/{crop}.csv', index = False)"
   ]
  },
  {
   "cell_type": "code",
   "execution_count": null,
   "id": "50605deb",
   "metadata": {},
   "outputs": [],
   "source": [
    "# with open(f'../../model/{crop}.pkl', 'wb') as f:\n",
    "#     pickle.dump(random_model, f)"
   ]
  },
  {
   "cell_type": "code",
   "execution_count": null,
   "id": "f7e4c265",
   "metadata": {},
   "outputs": [],
   "source": []
  }
 ],
 "metadata": {
  "kernelspec": {
   "display_name": "Python 3 (ipykernel)",
   "language": "python",
   "name": "python3"
  },
  "language_info": {
   "codemirror_mode": {
    "name": "ipython",
    "version": 3
   },
   "file_extension": ".py",
   "mimetype": "text/x-python",
   "name": "python",
   "nbconvert_exporter": "python",
   "pygments_lexer": "ipython3",
   "version": "3.9.13"
  }
 },
 "nbformat": 4,
 "nbformat_minor": 5
}
