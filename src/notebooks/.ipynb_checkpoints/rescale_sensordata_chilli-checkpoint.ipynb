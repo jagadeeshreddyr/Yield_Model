{
 "cells": [
  {
   "cell_type": "code",
   "execution_count": 1,
   "id": "817a435d",
   "metadata": {
    "ExecuteTime": {
     "end_time": "2023-06-19T23:54:42.922087Z",
     "start_time": "2023-06-19T23:54:28.076558Z"
    }
   },
   "outputs": [
    {
     "name": "stderr",
     "output_type": "stream",
     "text": [
      "2023-08-01 15:42:48.779717: I tensorflow/tsl/cuda/cudart_stub.cc:28] Could not find cuda drivers on your machine, GPU will not be used.\n",
      "2023-08-01 15:42:50.517316: I tensorflow/tsl/cuda/cudart_stub.cc:28] Could not find cuda drivers on your machine, GPU will not be used.\n",
      "2023-08-01 15:42:50.523254: I tensorflow/core/platform/cpu_feature_guard.cc:182] This TensorFlow binary is optimized to use available CPU instructions in performance-critical operations.\n",
      "To enable the following instructions: AVX2 FMA, in other operations, rebuild TensorFlow with the appropriate compiler flags.\n",
      "2023-08-01 15:42:54.672083: W tensorflow/compiler/tf2tensorrt/utils/py_utils.cc:38] TF-TRT Warning: Could not find TensorRT\n"
     ]
    }
   ],
   "source": [
    "import warnings\n",
    "warnings.filterwarnings(\"ignore\")\n",
    "\n",
    "import glob \n",
    "import pandas as pd\n",
    "import numpy as np \n",
    "import matplotlib.pyplot as plt\n",
    "from pathlib import Path\n",
    "import pickle\n",
    "from tensorflow.keras.models import Sequential\n",
    "from tensorflow.keras.layers import Dense\n",
    "\n",
    "\n",
    "from sklearn.metrics import mean_absolute_error, mean_squared_error\n",
    "from sklearn.metrics import r2_score\n",
    "from sklearn.ensemble import RandomForestRegressor"
   ]
  },
  {
   "cell_type": "code",
   "execution_count": 5,
   "id": "baacd742",
   "metadata": {
    "ExecuteTime": {
     "end_time": "2023-06-19T23:54:45.108150Z",
     "start_time": "2023-06-19T23:54:45.066313Z"
    }
   },
   "outputs": [],
   "source": [
    "files = glob.glob('../data/updated_details/*/report.csv')"
   ]
  },
  {
   "cell_type": "code",
   "execution_count": 7,
   "id": "c0c577be",
   "metadata": {
    "ExecuteTime": {
     "end_time": "2023-06-19T23:54:45.958086Z",
     "start_time": "2023-06-19T23:54:45.954651Z"
    }
   },
   "outputs": [],
   "source": [
    "tomato_fids = \"68519 68513 68400 68514 68518 68517 68372 68398 68377 68403 68406 68526 68405 68399 68515 68528 68831\".split(' ') "
   ]
  },
  {
   "cell_type": "code",
   "execution_count": 8,
   "id": "cdbbeabe",
   "metadata": {
    "ExecuteTime": {
     "end_time": "2023-06-19T23:54:46.918304Z",
     "start_time": "2023-06-19T23:54:46.835445Z"
    }
   },
   "outputs": [
    {
     "data": {
      "text/plain": [
       "Index(['Date time (time zone: Asia/Kolkata)', 'Temperature (°C)',\n",
       "       'Humidity (%)', 'Pressure (hPa)', 'Wind direction', 'Wind Speed (kmh)',\n",
       "       'Rain fall (mm)', 'Leaf wetness (%)', 'Soil temperature (°C)',\n",
       "       'Soil moisture primary root zone (centibar)',\n",
       "       'Soil moisture secondary root zone (centibar)', 'Lux',\n",
       "       'Solar intensity (%)'],\n",
       "      dtype='object')"
      ]
     },
     "execution_count": 8,
     "metadata": {},
     "output_type": "execute_result"
    }
   ],
   "source": [
    "data = pd.read_csv(files[0])\n",
    "data = data.loc[data['Temperature (°C)']!='-']\n",
    "data.columns"
   ]
  },
  {
   "cell_type": "code",
   "execution_count": 9,
   "id": "237e7e47",
   "metadata": {
    "ExecuteTime": {
     "end_time": "2023-06-20T00:21:16.325614Z",
     "start_time": "2023-06-20T00:21:16.312046Z"
    }
   },
   "outputs": [],
   "source": [
    "def rainfall_condtion(df, col):\n",
    "    condition = [(df[col] < 25), (df[col] >= 25) & (df[col] < 50),\n",
    "                 (df[col] >= 50) & (df[col] < 100), (df[col] >= 100)]\n",
    "\n",
    "    choices = [1, 0.9, 0.75, 0]\n",
    "\n",
    "    test = np.select(condition, choices)\n",
    "    return test\n",
    "\n",
    "def phases_condtion(ndvi_df):\n",
    "    conditions_ndvi = [ndvi_df.days<10, \n",
    "             ((ndvi_df.days >= 10) & (ndvi_df.days < 30)),\n",
    "             ((ndvi_df.days >= 30) & (ndvi_df.days < 90)),\n",
    "             ((ndvi_df.days >= 90))]\n",
    "\n",
    "    choices = ['Phase-1','Phase-2','Phase-3', 'Phase-4']\n",
    "    weights = [0.15, 0.15, 0.35, 0.35]\n",
    "    ndvi_df['Phase'] = np.select(conditions_ndvi, choices)\n",
    "    ndvi_df['Phase_weight'] = np.select(conditions_ndvi, weights)\n",
    "    \n",
    "    return ndvi_df\n",
    "\n",
    "def rainfall_prediction(data, fid, crop= None):\n",
    "    data = data.loc[data['Rain fall (mm)']!='-']\n",
    "    sow = client.loc[client.fid == int(fid), 'sowingdt'].values[0]\n",
    "    data['date'] = pd.to_datetime(data['Date time (time zone: Asia/Kolkata)'])\n",
    "    data = data.loc[data['date']>= pd.to_datetime(sow)]\n",
    "    data['hours'] = data.date.apply(lambda x: x.strftime(\"%H\")).astype(int)\n",
    "    data['days'] = data.date.apply(lambda x: (x-pd.to_datetime(sow)).days)\n",
    "    data['Rain fall (mm)'] = data['Rain fall (mm)'].astype(float)\n",
    "    data['rain_loss'] = rainfall_condtion(data, 'Rain fall (mm)')\n",
    "    data = phases_condtion(data)[['Phase', 'rain_loss']]\n",
    "    data = data.groupby('Phase').min()\n",
    "    try:\n",
    "        phase_1 = data.loc['Phase-1'].values[0]\n",
    "    except:\n",
    "        phase_1 = 1.0\n",
    "        \n",
    "    try:\n",
    "        phase_2 = data.loc['Phase-2'].values[0]\n",
    "    except:\n",
    "        phase_2 = 1.0\n",
    "        \n",
    "    try:\n",
    "        phase_3 = data.loc['Phase-3'].values[0]\n",
    "    except:\n",
    "        phase_3 = 1.0\n",
    "        \n",
    "    try:\n",
    "        phase_4 = data.loc['Phase-4'].values[0]\n",
    "    except:\n",
    "        phase_4 = 1.0\n",
    "    \n",
    "    return [phase_1, phase_2, phase_3, phase_4]\n"
   ]
  },
  {
   "cell_type": "code",
   "execution_count": 10,
   "id": "53098ccc",
   "metadata": {},
   "outputs": [],
   "source": [
    "def rainfall_prediction(data, fid, condtion = None):\n",
    "    data = data.loc[data['Rain fall (mm)']!='-']\n",
    "    sow = client.loc[client.fid == int(fid), 'sowingdt'].values[0]\n",
    "    data['date'] = pd.to_datetime(data['Date time (time zone: Asia/Kolkata)'])\n",
    "    if condtion:\n",
    "        data = data.loc[data['date']< pd.to_datetime(condtion)]\n",
    "    data = data.loc[data['date']>= pd.to_datetime(sow)]\n",
    "    data['hours'] = data.date.apply(lambda x: x.strftime(\"%H\")).astype(int)\n",
    "    data['days'] = data.date.apply(lambda x: (x-pd.to_datetime(sow)).days)\n",
    "    data['Rain fall (mm)'] = data['Rain fall (mm)'].astype(float)\n",
    "    data = data[['days', 'Rain fall (mm)']].groupby('days').sum().reset_index()\n",
    "    data['Rain fall (mm)'] = data['Rain fall (mm)'].astype(float)\n",
    "    data['rain_loss'] = rainfall_condtion(data, 'Rain fall (mm)')\n",
    "    data = phases_condtion(data)[['Phase', 'rain_loss']]\n",
    "    data = data.groupby('Phase').min()\n",
    "    try:\n",
    "        phase_1 = data.loc['Phase-1'].values[0]\n",
    "    except:\n",
    "        phase_1 = 1.0\n",
    "        \n",
    "    try:\n",
    "        phase_2 = data.loc['Phase-2'].values[0]\n",
    "    except:\n",
    "        phase_2 = 1.0\n",
    "        \n",
    "    try:\n",
    "        phase_3 = data.loc['Phase-3'].values[0]\n",
    "    except:\n",
    "        phase_3 = 1.0\n",
    "        \n",
    "    try:\n",
    "        phase_4 = data.loc['Phase-4'].values[0]\n",
    "    except:\n",
    "        phase_4 = 1.0\n",
    "    \n",
    "    return [phase_1, phase_2, phase_3, phase_4]"
   ]
  },
  {
   "cell_type": "markdown",
   "id": "eab82d38",
   "metadata": {},
   "source": [
    "## Rainfall"
   ]
  },
  {
   "cell_type": "code",
   "execution_count": 11,
   "id": "cd8deee9",
   "metadata": {},
   "outputs": [],
   "source": [
    "client = pd.read_csv('../data/info/all_info.csv')"
   ]
  },
  {
   "cell_type": "code",
   "execution_count": 12,
   "id": "79bc94af",
   "metadata": {
    "ExecuteTime": {
     "end_time": "2023-06-19T23:55:11.074770Z",
     "start_time": "2023-06-19T23:54:57.891351Z"
    }
   },
   "outputs": [],
   "source": [
    "loss_rain = []\n",
    "fids_list = []\n",
    "for fil in files:\n",
    "    \n",
    "    fid = fil.split('/')[-2]\n",
    "    \n",
    "    if fid in chilli_fids:\n",
    "        fids_list.append(fid)\n",
    "    \n",
    "        data = pd.read_csv(fil)\n",
    "        cond = '2023-04-25'\n",
    "        dat = rainfall_prediction(data, fid,cond)\n",
    "        loss_rain.append(dat)"
   ]
  },
  {
   "cell_type": "code",
   "execution_count": 13,
   "id": "cb9a7678",
   "metadata": {
    "ExecuteTime": {
     "end_time": "2023-06-19T23:55:23.783524Z",
     "start_time": "2023-06-19T23:55:23.778861Z"
    }
   },
   "outputs": [],
   "source": [
    "phase1 = pd.DataFrame(loss_rain, columns = ['Phase-1', 'Phase-2', 'Phase-3', 'Phase-4'],)\n",
    "phase1.index.names = ['Phase']"
   ]
  },
  {
   "cell_type": "code",
   "execution_count": 14,
   "id": "683c68bd",
   "metadata": {
    "ExecuteTime": {
     "end_time": "2023-06-19T23:55:25.334947Z",
     "start_time": "2023-06-19T23:55:25.283840Z"
    }
   },
   "outputs": [
    {
     "data": {
      "text/plain": [
       "Index(['Day', '0', '1', '2', '3', '4', '5', '6', '7', '8',\n",
       "       ...\n",
       "       '112', '113', '114', '115', '116', '117', '118', '119', '120', '121'],\n",
       "      dtype='object', length=123)"
      ]
     },
     "execution_count": 14,
     "metadata": {},
     "output_type": "execute_result"
    }
   ],
   "source": [
    "optimal_rainfall = pd.read_csv('../data/optimal_sensor/rainfall_training_data.csv')\n",
    "optimal_rainfall.columns"
   ]
  },
  {
   "cell_type": "code",
   "execution_count": 15,
   "id": "620f5270",
   "metadata": {
    "ExecuteTime": {
     "end_time": "2023-06-19T23:55:27.139279Z",
     "start_time": "2023-06-19T23:55:26.923465Z"
    }
   },
   "outputs": [],
   "source": [
    "new_rain = pd.DataFrame()\n",
    "for i in optimal_rainfall.columns[1:].values:\n",
    "    new_rain[i] = rainfall_condtion(optimal_rainfall,i)\n",
    "    \n",
    "new_rain['days'] = optimal_rainfall.Day.values"
   ]
  },
  {
   "cell_type": "code",
   "execution_count": 16,
   "id": "87086fef",
   "metadata": {
    "ExecuteTime": {
     "end_time": "2023-06-19T23:55:28.553221Z",
     "start_time": "2023-06-19T23:55:28.538755Z"
    }
   },
   "outputs": [],
   "source": [
    "new_rain = phases_condtion(new_rain)\n",
    "new_rain = new_rain.drop(columns =['days'])"
   ]
  },
  {
   "cell_type": "code",
   "execution_count": 17,
   "id": "48f5abf8",
   "metadata": {
    "ExecuteTime": {
     "end_time": "2023-06-19T23:55:29.615945Z",
     "start_time": "2023-06-19T23:55:29.579224Z"
    }
   },
   "outputs": [],
   "source": [
    "test = new_rain.groupby(['Phase']).min()\n",
    "rain_test = test.drop(columns = ['Phase_weight']).T"
   ]
  },
  {
   "cell_type": "code",
   "execution_count": 18,
   "id": "1729249e",
   "metadata": {
    "ExecuteTime": {
     "end_time": "2023-06-19T23:55:30.350800Z",
     "start_time": "2023-06-19T23:55:30.290599Z"
    }
   },
   "outputs": [],
   "source": [
    "test = new_rain.groupby(['Phase']).min()\n",
    "y_train = test.iloc[:, :-1].multiply(test[\"Phase_weight\"], axis=\"index\").sum().values"
   ]
  },
  {
   "cell_type": "code",
   "execution_count": 19,
   "id": "ca1b009e",
   "metadata": {
    "ExecuteTime": {
     "end_time": "2023-06-19T23:55:31.015855Z",
     "start_time": "2023-06-19T23:55:31.002690Z"
    }
   },
   "outputs": [],
   "source": [
    "final_rain = pd.concat([test.iloc[:, :-1].T, phase1]).reset_index(drop = True)"
   ]
  },
  {
   "cell_type": "code",
   "execution_count": 20,
   "id": "60f0c75b",
   "metadata": {
    "ExecuteTime": {
     "end_time": "2023-06-19T23:55:31.689924Z",
     "start_time": "2023-06-19T23:55:31.674840Z"
    }
   },
   "outputs": [],
   "source": [
    "x_train = pd.concat([test.iloc[:, :-1].T, phase1]).reset_index(drop = True)\n",
    "\n",
    "x_train = x_train.values\n",
    "y_train = (x_train*np.array([0.15, 0.15, 0.35, 0.35])).sum(axis=1)"
   ]
  },
  {
   "cell_type": "code",
   "execution_count": 21,
   "id": "fae2df18",
   "metadata": {
    "ExecuteTime": {
     "end_time": "2023-06-19T23:55:32.976977Z",
     "start_time": "2023-06-19T23:55:32.764078Z"
    }
   },
   "outputs": [
    {
     "data": {
      "text/html": [
       "<style>#sk-container-id-1 {color: black;background-color: white;}#sk-container-id-1 pre{padding: 0;}#sk-container-id-1 div.sk-toggleable {background-color: white;}#sk-container-id-1 label.sk-toggleable__label {cursor: pointer;display: block;width: 100%;margin-bottom: 0;padding: 0.3em;box-sizing: border-box;text-align: center;}#sk-container-id-1 label.sk-toggleable__label-arrow:before {content: \"▸\";float: left;margin-right: 0.25em;color: #696969;}#sk-container-id-1 label.sk-toggleable__label-arrow:hover:before {color: black;}#sk-container-id-1 div.sk-estimator:hover label.sk-toggleable__label-arrow:before {color: black;}#sk-container-id-1 div.sk-toggleable__content {max-height: 0;max-width: 0;overflow: hidden;text-align: left;background-color: #f0f8ff;}#sk-container-id-1 div.sk-toggleable__content pre {margin: 0.2em;color: black;border-radius: 0.25em;background-color: #f0f8ff;}#sk-container-id-1 input.sk-toggleable__control:checked~div.sk-toggleable__content {max-height: 200px;max-width: 100%;overflow: auto;}#sk-container-id-1 input.sk-toggleable__control:checked~label.sk-toggleable__label-arrow:before {content: \"▾\";}#sk-container-id-1 div.sk-estimator input.sk-toggleable__control:checked~label.sk-toggleable__label {background-color: #d4ebff;}#sk-container-id-1 div.sk-label input.sk-toggleable__control:checked~label.sk-toggleable__label {background-color: #d4ebff;}#sk-container-id-1 input.sk-hidden--visually {border: 0;clip: rect(1px 1px 1px 1px);clip: rect(1px, 1px, 1px, 1px);height: 1px;margin: -1px;overflow: hidden;padding: 0;position: absolute;width: 1px;}#sk-container-id-1 div.sk-estimator {font-family: monospace;background-color: #f0f8ff;border: 1px dotted black;border-radius: 0.25em;box-sizing: border-box;margin-bottom: 0.5em;}#sk-container-id-1 div.sk-estimator:hover {background-color: #d4ebff;}#sk-container-id-1 div.sk-parallel-item::after {content: \"\";width: 100%;border-bottom: 1px solid gray;flex-grow: 1;}#sk-container-id-1 div.sk-label:hover label.sk-toggleable__label {background-color: #d4ebff;}#sk-container-id-1 div.sk-serial::before {content: \"\";position: absolute;border-left: 1px solid gray;box-sizing: border-box;top: 0;bottom: 0;left: 50%;z-index: 0;}#sk-container-id-1 div.sk-serial {display: flex;flex-direction: column;align-items: center;background-color: white;padding-right: 0.2em;padding-left: 0.2em;position: relative;}#sk-container-id-1 div.sk-item {position: relative;z-index: 1;}#sk-container-id-1 div.sk-parallel {display: flex;align-items: stretch;justify-content: center;background-color: white;position: relative;}#sk-container-id-1 div.sk-item::before, #sk-container-id-1 div.sk-parallel-item::before {content: \"\";position: absolute;border-left: 1px solid gray;box-sizing: border-box;top: 0;bottom: 0;left: 50%;z-index: -1;}#sk-container-id-1 div.sk-parallel-item {display: flex;flex-direction: column;z-index: 1;position: relative;background-color: white;}#sk-container-id-1 div.sk-parallel-item:first-child::after {align-self: flex-end;width: 50%;}#sk-container-id-1 div.sk-parallel-item:last-child::after {align-self: flex-start;width: 50%;}#sk-container-id-1 div.sk-parallel-item:only-child::after {width: 0;}#sk-container-id-1 div.sk-dashed-wrapped {border: 1px dashed gray;margin: 0 0.4em 0.5em 0.4em;box-sizing: border-box;padding-bottom: 0.4em;background-color: white;}#sk-container-id-1 div.sk-label label {font-family: monospace;font-weight: bold;display: inline-block;line-height: 1.2em;}#sk-container-id-1 div.sk-label-container {text-align: center;}#sk-container-id-1 div.sk-container {/* jupyter's `normalize.less` sets `[hidden] { display: none; }` but bootstrap.min.css set `[hidden] { display: none !important; }` so we also need the `!important` here to be able to override the default hidden behavior on the sphinx rendered scikit-learn.org. See: https://github.com/scikit-learn/scikit-learn/issues/21755 */display: inline-block !important;position: relative;}#sk-container-id-1 div.sk-text-repr-fallback {display: none;}</style><div id=\"sk-container-id-1\" class=\"sk-top-container\"><div class=\"sk-text-repr-fallback\"><pre>RandomForestRegressor(random_state=0)</pre><b>In a Jupyter environment, please rerun this cell to show the HTML representation or trust the notebook. <br />On GitHub, the HTML representation is unable to render, please try loading this page with nbviewer.org.</b></div><div class=\"sk-container\" hidden><div class=\"sk-item\"><div class=\"sk-estimator sk-toggleable\"><input class=\"sk-toggleable__control sk-hidden--visually\" id=\"sk-estimator-id-1\" type=\"checkbox\" checked><label for=\"sk-estimator-id-1\" class=\"sk-toggleable__label sk-toggleable__label-arrow\">RandomForestRegressor</label><div class=\"sk-toggleable__content\"><pre>RandomForestRegressor(random_state=0)</pre></div></div></div></div></div>"
      ],
      "text/plain": [
       "RandomForestRegressor(random_state=0)"
      ]
     },
     "execution_count": 21,
     "metadata": {},
     "output_type": "execute_result"
    }
   ],
   "source": [
    "rain_regressor = RandomForestRegressor(n_estimators=100, random_state=0)\n",
    "rain_regressor.fit(x_train, y_train)"
   ]
  },
  {
   "cell_type": "code",
   "execution_count": 22,
   "id": "67e2b080",
   "metadata": {
    "ExecuteTime": {
     "end_time": "2023-06-19T23:55:34.325716Z",
     "start_time": "2023-06-19T23:55:34.299070Z"
    }
   },
   "outputs": [
    {
     "data": {
      "text/plain": [
       "array([0.   , 0.   , 0.007, 0.007, 0.   , 0.001, 0.   , 0.   ])"
      ]
     },
     "execution_count": 22,
     "metadata": {},
     "output_type": "execute_result"
    }
   ],
   "source": [
    "np.round(rain_regressor.predict(phase1.values)-(phase1.values*np.array([0.15, 0.15, 0.35, 0.35])).sum(axis=1), 3)"
   ]
  },
  {
   "cell_type": "code",
   "execution_count": 23,
   "id": "8e2f8993",
   "metadata": {},
   "outputs": [],
   "source": [
    "pred = np.round(rain_regressor.predict(phase1.values)-(phase1.values*np.array([0.15, 0.15, 0.35, 0.35])).sum(axis=1), 3)"
   ]
  },
  {
   "cell_type": "code",
   "execution_count": 24,
   "id": "0c8b458e",
   "metadata": {
    "scrolled": true
   },
   "outputs": [
    {
     "data": {
      "text/html": [
       "<div>\n",
       "<style scoped>\n",
       "    .dataframe tbody tr th:only-of-type {\n",
       "        vertical-align: middle;\n",
       "    }\n",
       "\n",
       "    .dataframe tbody tr th {\n",
       "        vertical-align: top;\n",
       "    }\n",
       "\n",
       "    .dataframe thead th {\n",
       "        text-align: right;\n",
       "    }\n",
       "</style>\n",
       "<table border=\"1\" class=\"dataframe\">\n",
       "  <thead>\n",
       "    <tr style=\"text-align: right;\">\n",
       "      <th></th>\n",
       "      <th>fid</th>\n",
       "      <th>rain_loss</th>\n",
       "    </tr>\n",
       "  </thead>\n",
       "  <tbody>\n",
       "    <tr>\n",
       "      <th>0</th>\n",
       "      <td>68764</td>\n",
       "      <td>0.93035</td>\n",
       "    </tr>\n",
       "    <tr>\n",
       "      <th>1</th>\n",
       "      <td>68731</td>\n",
       "      <td>0.93035</td>\n",
       "    </tr>\n",
       "    <tr>\n",
       "      <th>2</th>\n",
       "      <td>68752</td>\n",
       "      <td>0.884675</td>\n",
       "    </tr>\n",
       "    <tr>\n",
       "      <th>6</th>\n",
       "      <td>68376</td>\n",
       "      <td>0.965</td>\n",
       "    </tr>\n",
       "  </tbody>\n",
       "</table>\n",
       "</div>"
      ],
      "text/plain": [
       "     fid rain_loss\n",
       "0  68764   0.93035\n",
       "1  68731   0.93035\n",
       "2  68752  0.884675\n",
       "6  68376     0.965"
      ]
     },
     "execution_count": 24,
     "metadata": {},
     "output_type": "execute_result"
    }
   ],
   "source": [
    "pred = rain_regressor.predict(phase1.values)\n",
    "dd = pd.DataFrame([fids_list, pred]).T\n",
    "dd.columns =  ['fid', 'rain_loss']\n",
    "df2 = dd.loc[dd['fid'].isin(['68764','68376','68731','68752'])]\n",
    "df2"
   ]
  },
  {
   "cell_type": "markdown",
   "id": "20d15228",
   "metadata": {},
   "source": [
    "## Temperature"
   ]
  },
  {
   "cell_type": "code",
   "execution_count": 25,
   "id": "a3998a24",
   "metadata": {
    "ExecuteTime": {
     "end_time": "2023-06-19T23:55:37.421087Z",
     "start_time": "2023-06-19T23:55:37.403323Z"
    }
   },
   "outputs": [],
   "source": [
    "def scale_sensor_values(row):\n",
    "    #global col\n",
    "    temp = row[col]\n",
    "    min_temp = row['temp_min']\n",
    "    max_temp = row['temp_max']\n",
    "\n",
    "    if (temp >= min_temp) & (temp <= max_temp):\n",
    "        return 1\n",
    "\n",
    "    if temp < min_temp:\n",
    "        return temp / min_temp\n",
    "\n",
    "    if temp > max_temp:\n",
    "        return max_temp / temp\n",
    "\n",
    "\n",
    "def temperature_prediction(data, fid, condition = None):\n",
    "    global col\n",
    "    col = 'Temperature (°C)'\n",
    "    temperature_data = data[['date', 'Temperature (°C)']]\n",
    "    temperature_data = temperature_data.loc[temperature_data['Temperature (°C)'] != '-']\n",
    "    temperature_data['Temperature (°C)'] = temperature_data['Temperature (°C)'].astype(float)\n",
    "    sow = client.loc[client.fid == int(fid), 'sowingdt'].values[0]\n",
    "    if condition:\n",
    "        temperature_data = temperature_data.loc[temperature_data.date < pd.to_datetime(condition)]\n",
    "    temperature_data = temperature_data.loc[temperature_data.date >= pd.to_datetime(sow)]\n",
    "    temperature_data['days'] = temperature_data.date.apply(lambda x: (x-pd.to_datetime(sow)).days)\n",
    "\n",
    "    conditions_temperature = [\n",
    "        (temperature_data['days'] >= 0) & (temperature_data['days'] < 10),\n",
    "        (temperature_data['days'] >= 10) & (temperature_data['days'] < 30),\n",
    "        (temperature_data['days'] >= 30) & (temperature_data['days'] < 90),\n",
    "        (temperature_data['days'] >= 90)\n",
    "    ]\n",
    "    \n",
    "    \n",
    "\n",
    "    min_temperature = [21, 18, 18, 18]\n",
    "    max_temperature = [32, 32, 34, 34]\n",
    "\n",
    "    temperature_data['temp_min'] = np.select(conditions_temperature,\n",
    "                                               min_temperature)\n",
    "    temperature_data['temp_max'] = np.select(conditions_temperature,\n",
    "                                               max_temperature)\n",
    "    temperature_data['loss'] = temperature_data.apply(scale_sensor_values, axis=1)\n",
    "    temperature_data = phases_condtion(temperature_data)\n",
    "    temperature_data = temperature_data.groupby('Phase').mean()[['loss']]\n",
    "    \n",
    "    try:\n",
    "        phase_1 = temperature_data.loc['Phase-1'].values[0]\n",
    "    except:\n",
    "        phase_1 = 1.0\n",
    "        \n",
    "    try:\n",
    "        phase_2 = temperature_data.loc['Phase-2'].values[0]\n",
    "    except:\n",
    "        phase_2 = 1.0\n",
    "        \n",
    "    try:\n",
    "        phase_3 = temperature_data.loc['Phase-3'].values[0]\n",
    "    except:\n",
    "        phase_3 = 1.0\n",
    "        \n",
    "    try:\n",
    "        phase_4 = temperature_data.loc['Phase-4'].values[0]\n",
    "    except:\n",
    "        phase_4 = 1.0\n",
    "    \n",
    "    return [phase_1, phase_2, phase_3, phase_4]"
   ]
  },
  {
   "cell_type": "code",
   "execution_count": 26,
   "id": "5a4cd6dd",
   "metadata": {
    "ExecuteTime": {
     "end_time": "2023-06-19T23:55:51.720542Z",
     "start_time": "2023-06-19T23:55:38.427289Z"
    }
   },
   "outputs": [],
   "source": [
    "loss_temp = []\n",
    "fids = []\n",
    "for fil in files:\n",
    "    \n",
    "    fid = fil.split('/')[-2]\n",
    "    if fid in chilli_fids:\n",
    "        fids.append(fid)\n",
    "        data = pd.read_csv(fil)\n",
    "        data['date'] = pd.to_datetime(data['Date time (time zone: Asia/Kolkata)'])\n",
    "        condition = '2023-04-25'\n",
    "        dat = temperature_prediction(data, fid,condition)\n",
    "        loss_temp.append(dat)\n",
    "        "
   ]
  },
  {
   "cell_type": "code",
   "execution_count": 27,
   "id": "d69b04e6",
   "metadata": {},
   "outputs": [],
   "source": [
    "phase2 = pd.DataFrame(loss_temp, columns = ['Phase-1', 'Phase-2', 'Phase-3', 'Phase-4'],)\n",
    "phase2.index.names = ['Phase']"
   ]
  },
  {
   "cell_type": "code",
   "execution_count": 28,
   "id": "e3e275bf",
   "metadata": {
    "ExecuteTime": {
     "end_time": "2023-06-19T23:55:53.389154Z",
     "start_time": "2023-06-19T23:55:53.308342Z"
    }
   },
   "outputs": [],
   "source": [
    "optimal_temp_max = pd.read_csv('../data/optimal_sensor//tmax_training_data.csv')\n",
    "optimal_temp_min = pd.read_csv('../data/optimal_sensor/tmin_training_data.csv')\n",
    "optimal_temp_avg = pd.read_csv('../data/optimal_sensor//tavg_training_data.csv')\n",
    "\n",
    "optimal_temp_max = optimal_temp_max.rename(columns = {'Day':'days'})\n",
    "optimal_temp_min = optimal_temp_min.rename(columns = {'Day':'days'})\n",
    "optimal_temp_avg = optimal_temp_avg.rename(columns = {'Day':'days'})"
   ]
  },
  {
   "cell_type": "code",
   "execution_count": 29,
   "id": "b6071017",
   "metadata": {
    "ExecuteTime": {
     "end_time": "2023-06-19T23:55:54.121393Z",
     "start_time": "2023-06-19T23:55:54.067706Z"
    }
   },
   "outputs": [],
   "source": [
    "new_df = optimal_temp_max.merge(optimal_temp_min, on = 'days').merge(optimal_temp_avg, on = 'days')\n",
    "new_df.columns = [x for x in range(len(new_df.columns))]\n",
    "new_df = new_df.rename(columns = {0:'days'})\n",
    "temperature_data = new_df.copy()"
   ]
  },
  {
   "cell_type": "code",
   "execution_count": 30,
   "id": "dc1e7f2d",
   "metadata": {
    "ExecuteTime": {
     "end_time": "2023-06-19T23:55:54.838731Z",
     "start_time": "2023-06-19T23:55:54.827553Z"
    }
   },
   "outputs": [],
   "source": [
    "conditions_temperature = [\n",
    "        (temperature_data['days'] >= 0) & (temperature_data['days'] < 10),\n",
    "        (temperature_data['days'] >= 10) & (temperature_data['days'] < 30),\n",
    "        (temperature_data['days'] >= 30) & (temperature_data['days'] < 90),\n",
    "        (temperature_data['days'] >= 90)\n",
    "    ]\n",
    "\n",
    "min_temperature = [21, 18, 18, 18]\n",
    "max_temperature = [32, 32, 34, 34]\n",
    "\n",
    "temperature_data['temp_min'] = np.select(conditions_temperature,\n",
    "                                           min_temperature)\n",
    "temperature_data['temp_max'] = np.select(conditions_temperature,\n",
    "                                           max_temperature)\n",
    "# temperature_data['loss'] = temperature_data.apply(scale_sensor_values, axis=1)\n",
    "    "
   ]
  },
  {
   "cell_type": "code",
   "execution_count": 31,
   "id": "147bbf7f",
   "metadata": {
    "ExecuteTime": {
     "end_time": "2023-06-19T23:55:59.236861Z",
     "start_time": "2023-06-19T23:55:55.595979Z"
    }
   },
   "outputs": [],
   "source": [
    "sep = pd.DataFrame()\n",
    "for i in temperature_data.columns[1:-2]:\n",
    "    col = i\n",
    "    sep_temp = temperature_data[['days', i, 'temp_min', 'temp_max']]\n",
    "    sep_temp['loss'] = sep_temp.apply(scale_sensor_values, axis=1)\n",
    "    sep_temp = phases_condtion(sep_temp)\n",
    "    sep_temp = sep_temp.groupby('Phase').mean()[['loss']]\n",
    "    sep = sep.append(sep_temp.T)\n",
    "sep = sep.reset_index(drop=True)"
   ]
  },
  {
   "cell_type": "code",
   "execution_count": 32,
   "id": "a2f0b8b1",
   "metadata": {
    "ExecuteTime": {
     "end_time": "2023-06-19T23:56:01.974769Z",
     "start_time": "2023-06-19T23:56:01.970338Z"
    }
   },
   "outputs": [],
   "source": [
    "phase2 = pd.DataFrame(loss_temp, columns = ['Phase-1', 'Phase-2', 'Phase-3', 'Phase-4'],)\n",
    "phase2.index.names = ['Phase']"
   ]
  },
  {
   "cell_type": "code",
   "execution_count": 33,
   "id": "f87044c9",
   "metadata": {
    "ExecuteTime": {
     "end_time": "2023-06-19T23:56:03.178204Z",
     "start_time": "2023-06-19T23:56:03.171921Z"
    }
   },
   "outputs": [],
   "source": [
    "final_temp = pd.concat([sep, phase2], ignore_index=True)\n",
    "x_train = final_temp.values\n",
    "y_train = (x_train*np.array([0.15, 0.15, 0.35, 0.35])).sum(axis=1)"
   ]
  },
  {
   "cell_type": "code",
   "execution_count": 34,
   "id": "3bc74e05",
   "metadata": {
    "ExecuteTime": {
     "end_time": "2023-06-19T23:56:04.506578Z",
     "start_time": "2023-06-19T23:56:04.252991Z"
    }
   },
   "outputs": [
    {
     "data": {
      "text/html": [
       "<style>#sk-container-id-2 {color: black;background-color: white;}#sk-container-id-2 pre{padding: 0;}#sk-container-id-2 div.sk-toggleable {background-color: white;}#sk-container-id-2 label.sk-toggleable__label {cursor: pointer;display: block;width: 100%;margin-bottom: 0;padding: 0.3em;box-sizing: border-box;text-align: center;}#sk-container-id-2 label.sk-toggleable__label-arrow:before {content: \"▸\";float: left;margin-right: 0.25em;color: #696969;}#sk-container-id-2 label.sk-toggleable__label-arrow:hover:before {color: black;}#sk-container-id-2 div.sk-estimator:hover label.sk-toggleable__label-arrow:before {color: black;}#sk-container-id-2 div.sk-toggleable__content {max-height: 0;max-width: 0;overflow: hidden;text-align: left;background-color: #f0f8ff;}#sk-container-id-2 div.sk-toggleable__content pre {margin: 0.2em;color: black;border-radius: 0.25em;background-color: #f0f8ff;}#sk-container-id-2 input.sk-toggleable__control:checked~div.sk-toggleable__content {max-height: 200px;max-width: 100%;overflow: auto;}#sk-container-id-2 input.sk-toggleable__control:checked~label.sk-toggleable__label-arrow:before {content: \"▾\";}#sk-container-id-2 div.sk-estimator input.sk-toggleable__control:checked~label.sk-toggleable__label {background-color: #d4ebff;}#sk-container-id-2 div.sk-label input.sk-toggleable__control:checked~label.sk-toggleable__label {background-color: #d4ebff;}#sk-container-id-2 input.sk-hidden--visually {border: 0;clip: rect(1px 1px 1px 1px);clip: rect(1px, 1px, 1px, 1px);height: 1px;margin: -1px;overflow: hidden;padding: 0;position: absolute;width: 1px;}#sk-container-id-2 div.sk-estimator {font-family: monospace;background-color: #f0f8ff;border: 1px dotted black;border-radius: 0.25em;box-sizing: border-box;margin-bottom: 0.5em;}#sk-container-id-2 div.sk-estimator:hover {background-color: #d4ebff;}#sk-container-id-2 div.sk-parallel-item::after {content: \"\";width: 100%;border-bottom: 1px solid gray;flex-grow: 1;}#sk-container-id-2 div.sk-label:hover label.sk-toggleable__label {background-color: #d4ebff;}#sk-container-id-2 div.sk-serial::before {content: \"\";position: absolute;border-left: 1px solid gray;box-sizing: border-box;top: 0;bottom: 0;left: 50%;z-index: 0;}#sk-container-id-2 div.sk-serial {display: flex;flex-direction: column;align-items: center;background-color: white;padding-right: 0.2em;padding-left: 0.2em;position: relative;}#sk-container-id-2 div.sk-item {position: relative;z-index: 1;}#sk-container-id-2 div.sk-parallel {display: flex;align-items: stretch;justify-content: center;background-color: white;position: relative;}#sk-container-id-2 div.sk-item::before, #sk-container-id-2 div.sk-parallel-item::before {content: \"\";position: absolute;border-left: 1px solid gray;box-sizing: border-box;top: 0;bottom: 0;left: 50%;z-index: -1;}#sk-container-id-2 div.sk-parallel-item {display: flex;flex-direction: column;z-index: 1;position: relative;background-color: white;}#sk-container-id-2 div.sk-parallel-item:first-child::after {align-self: flex-end;width: 50%;}#sk-container-id-2 div.sk-parallel-item:last-child::after {align-self: flex-start;width: 50%;}#sk-container-id-2 div.sk-parallel-item:only-child::after {width: 0;}#sk-container-id-2 div.sk-dashed-wrapped {border: 1px dashed gray;margin: 0 0.4em 0.5em 0.4em;box-sizing: border-box;padding-bottom: 0.4em;background-color: white;}#sk-container-id-2 div.sk-label label {font-family: monospace;font-weight: bold;display: inline-block;line-height: 1.2em;}#sk-container-id-2 div.sk-label-container {text-align: center;}#sk-container-id-2 div.sk-container {/* jupyter's `normalize.less` sets `[hidden] { display: none; }` but bootstrap.min.css set `[hidden] { display: none !important; }` so we also need the `!important` here to be able to override the default hidden behavior on the sphinx rendered scikit-learn.org. See: https://github.com/scikit-learn/scikit-learn/issues/21755 */display: inline-block !important;position: relative;}#sk-container-id-2 div.sk-text-repr-fallback {display: none;}</style><div id=\"sk-container-id-2\" class=\"sk-top-container\"><div class=\"sk-text-repr-fallback\"><pre>RandomForestRegressor(random_state=0)</pre><b>In a Jupyter environment, please rerun this cell to show the HTML representation or trust the notebook. <br />On GitHub, the HTML representation is unable to render, please try loading this page with nbviewer.org.</b></div><div class=\"sk-container\" hidden><div class=\"sk-item\"><div class=\"sk-estimator sk-toggleable\"><input class=\"sk-toggleable__control sk-hidden--visually\" id=\"sk-estimator-id-2\" type=\"checkbox\" checked><label for=\"sk-estimator-id-2\" class=\"sk-toggleable__label sk-toggleable__label-arrow\">RandomForestRegressor</label><div class=\"sk-toggleable__content\"><pre>RandomForestRegressor(random_state=0)</pre></div></div></div></div></div>"
      ],
      "text/plain": [
       "RandomForestRegressor(random_state=0)"
      ]
     },
     "execution_count": 34,
     "metadata": {},
     "output_type": "execute_result"
    }
   ],
   "source": [
    "temp_regressor = RandomForestRegressor(n_estimators=100, random_state=0)\n",
    "temp_regressor.fit(x_train, y_train)"
   ]
  },
  {
   "cell_type": "code",
   "execution_count": 35,
   "id": "9b16fe18",
   "metadata": {
    "ExecuteTime": {
     "end_time": "2023-06-19T23:56:05.431950Z",
     "start_time": "2023-06-19T23:56:05.414373Z"
    },
    "scrolled": true
   },
   "outputs": [
    {
     "data": {
      "text/plain": [
       "array([-0.007, -0.005, -0.003, -0.004, -0.007, -0.005, -0.008,  0.005])"
      ]
     },
     "execution_count": 35,
     "metadata": {},
     "output_type": "execute_result"
    }
   ],
   "source": [
    "np.round(temp_regressor.predict(phase2.values)-(phase2.values*np.array([0.15, 0.15, 0.35, 0.35])).sum(axis=1), 3)"
   ]
  },
  {
   "cell_type": "code",
   "execution_count": 36,
   "id": "2a74bdd3",
   "metadata": {},
   "outputs": [
    {
     "data": {
      "text/html": [
       "<div>\n",
       "<style scoped>\n",
       "    .dataframe tbody tr th:only-of-type {\n",
       "        vertical-align: middle;\n",
       "    }\n",
       "\n",
       "    .dataframe tbody tr th {\n",
       "        vertical-align: top;\n",
       "    }\n",
       "\n",
       "    .dataframe thead th {\n",
       "        text-align: right;\n",
       "    }\n",
       "</style>\n",
       "<table border=\"1\" class=\"dataframe\">\n",
       "  <thead>\n",
       "    <tr style=\"text-align: right;\">\n",
       "      <th></th>\n",
       "      <th>fid</th>\n",
       "      <th>temperature_loss</th>\n",
       "    </tr>\n",
       "  </thead>\n",
       "  <tbody>\n",
       "    <tr>\n",
       "      <th>0</th>\n",
       "      <td>68764</td>\n",
       "      <td>0.970459</td>\n",
       "    </tr>\n",
       "    <tr>\n",
       "      <th>1</th>\n",
       "      <td>68731</td>\n",
       "      <td>0.979738</td>\n",
       "    </tr>\n",
       "    <tr>\n",
       "      <th>2</th>\n",
       "      <td>68752</td>\n",
       "      <td>0.97756</td>\n",
       "    </tr>\n",
       "    <tr>\n",
       "      <th>6</th>\n",
       "      <td>68376</td>\n",
       "      <td>0.965816</td>\n",
       "    </tr>\n",
       "  </tbody>\n",
       "</table>\n",
       "</div>"
      ],
      "text/plain": [
       "     fid temperature_loss\n",
       "0  68764         0.970459\n",
       "1  68731         0.979738\n",
       "2  68752          0.97756\n",
       "6  68376         0.965816"
      ]
     },
     "execution_count": 36,
     "metadata": {},
     "output_type": "execute_result"
    }
   ],
   "source": [
    "pred = temp_regressor.predict(phase2.values)\n",
    "dd = pd.DataFrame([fids, pred]).T\n",
    "dd.columns =  ['fid', 'temperature_loss']\n",
    "df2 = dd.loc[dd['fid'].isin(['68764','68376','68731','68752'])]\n",
    "df2"
   ]
  },
  {
   "cell_type": "markdown",
   "id": "d1276899",
   "metadata": {},
   "source": [
    "# Rescale humidty"
   ]
  },
  {
   "cell_type": "code",
   "execution_count": 37,
   "id": "74be391e",
   "metadata": {
    "ExecuteTime": {
     "end_time": "2023-06-19T23:56:07.773105Z",
     "start_time": "2023-06-19T23:56:07.755520Z"
    }
   },
   "outputs": [],
   "source": [
    "def scale_sensor_values_humd(row):\n",
    "    #global col\n",
    "    humd = row[col]\n",
    "    min_humd = row['humd_min']\n",
    "    max_humd = row['humd_max']\n",
    "\n",
    "    if (humd >= min_humd) & (humd <= max_humd):\n",
    "        return 1\n",
    "\n",
    "    if humd < min_humd:\n",
    "        return humd / min_humd\n",
    "\n",
    "    if humd > max_humd:\n",
    "        return max_humd / humd\n",
    "\n",
    "\n",
    "def humidty_prediction(data, fid, condition = None):\n",
    "    global col\n",
    "    col = 'Humidity (%)'\n",
    "    data['date'] = pd.to_datetime(data['Date time (time zone: Asia/Kolkata)'])\n",
    "    humidty_data = data[['date', 'Humidity (%)']]\n",
    "    humidty_data = humidty_data.loc[humidty_data['Humidity (%)'] != '-']\n",
    "    \n",
    "     \n",
    "    humidty_data['Humidity (%)'] = humidty_data['Humidity (%)'].astype(float)\n",
    "    sow = client.loc[client.fid == int(fid), 'sowingdt'].values[0]\n",
    "    if condition:\n",
    "        humidty_data = humidty_data.loc[humidty_data.date <pd.to_datetime(condition)]\n",
    "    humidty_data = humidty_data.loc[humidty_data.date >= pd.to_datetime(sow)]\n",
    "    humidty_data['days'] = humidty_data.date.apply(lambda x: (x-pd.to_datetime(sow)).days)\n",
    "\n",
    "    conditions_humidty = [\n",
    "        (humidty_data['days'] >= 0) & (humidty_data['days'] < 10),\n",
    "        (humidty_data['days'] >= 10) & (humidty_data['days'] < 30),\n",
    "        (humidty_data['days'] >= 30) & (humidty_data['days'] < 90),\n",
    "        (humidty_data['days'] >= 90)\n",
    "    ]\n",
    "    \n",
    "    min_humidty = [50, 50, 50, 50]\n",
    "    max_humidty = [70, 75, 76, 77]\n",
    "\n",
    "    humidty_data['humd_min'] = np.select(conditions_humidty,\n",
    "                                               min_humidty)\n",
    "    humidty_data['humd_max'] = np.select(conditions_humidty,\n",
    "                                               max_humidty)\n",
    "    humidty_data['loss'] = humidty_data.apply(scale_sensor_values_humd, axis=1)\n",
    "    humidty_data = phases_condtion(humidty_data)\n",
    "    humidty_data = humidty_data.groupby('Phase').mean()[['loss']]\n",
    "    \n",
    "    try:\n",
    "        phase_1 = humidty_data.loc['Phase-1'].values[0]\n",
    "    except:\n",
    "        phase_1 = 1.0\n",
    "        \n",
    "    try:\n",
    "        phase_2 = humidty_data.loc['Phase-2'].values[0]\n",
    "    except:\n",
    "        phase_2 = 1.0\n",
    "        \n",
    "    try:\n",
    "        phase_3 = humidty_data.loc['Phase-3'].values[0]\n",
    "    except:\n",
    "        phase_3 = 1.0\n",
    "        \n",
    "    try:\n",
    "        phase_4 = humidty_data.loc['Phase-4'].values[0]\n",
    "    except:\n",
    "        phase_4 = 1.0\n",
    "    \n",
    "    return [phase_1, phase_2, phase_3, phase_4]"
   ]
  },
  {
   "cell_type": "code",
   "execution_count": 38,
   "id": "64bb1ac8",
   "metadata": {
    "ExecuteTime": {
     "end_time": "2023-06-19T23:56:22.283399Z",
     "start_time": "2023-06-19T23:56:08.947608Z"
    }
   },
   "outputs": [],
   "source": [
    "loss_humid = []\n",
    "fids = []\n",
    "for fil in files:\n",
    "    fid = fil.split('/')[-2]\n",
    "    if fid in chilli_fids: \n",
    "        fids.append(fid)\n",
    "        data = pd.read_csv(fil)\n",
    "        condition = '2023-04-25'\n",
    "        #data['date'] = pd.to_datetime(data['Date time (time zone: Asia/Kolkata)'])\n",
    "        dat = humidty_prediction(data, fid,condition)\n",
    "        loss_humid.append(dat)"
   ]
  },
  {
   "cell_type": "code",
   "execution_count": 39,
   "id": "c7cb2d5c",
   "metadata": {},
   "outputs": [],
   "source": [
    "phase3 = pd.DataFrame(loss_humid, columns = ['Phase-1', 'Phase-2', 'Phase-3', 'Phase-4'],)\n",
    "phase3.index.names = ['Phase']"
   ]
  },
  {
   "cell_type": "code",
   "execution_count": 40,
   "id": "1759fe2c",
   "metadata": {
    "ExecuteTime": {
     "end_time": "2023-06-19T23:56:23.300130Z",
     "start_time": "2023-06-19T23:56:23.235397Z"
    }
   },
   "outputs": [],
   "source": [
    "optimal_hum = pd.read_csv('../data/optimal_sensor/relative_humidity_training_data.csv')\n",
    "humidty_data = optimal_hum.rename(columns={'Day':'days'})"
   ]
  },
  {
   "cell_type": "code",
   "execution_count": 41,
   "id": "aaee0b55",
   "metadata": {
    "ExecuteTime": {
     "end_time": "2023-06-19T23:56:24.862999Z",
     "start_time": "2023-06-19T23:56:24.852199Z"
    }
   },
   "outputs": [],
   "source": [
    "humidty_temperature = [\n",
    "        (humidty_data['days'] >= 0) & (humidty_data['days'] < 10),\n",
    "        (humidty_data['days'] >= 10) & (humidty_data['days'] < 30),\n",
    "        (humidty_data['days'] >= 30) & (humidty_data['days'] < 90),\n",
    "        (humidty_data['days'] >= 90)\n",
    "    ]\n",
    "\n",
    "min_humidty = [50, 50, 50, 50]\n",
    "max_humidty = [70, 75, 76, 77]\n",
    "\n",
    "humidty_data['humd_min'] = np.select(humidty_temperature,\n",
    "                                           min_temperature)\n",
    "humidty_data['humd_max'] = np.select(humidty_temperature,\n",
    "                                           max_temperature)"
   ]
  },
  {
   "cell_type": "code",
   "execution_count": 42,
   "id": "9e44f84e",
   "metadata": {
    "ExecuteTime": {
     "end_time": "2023-06-19T23:56:28.299890Z",
     "start_time": "2023-06-19T23:56:27.252352Z"
    }
   },
   "outputs": [],
   "source": [
    "sep_h = pd.DataFrame()\n",
    "for i in humidty_data.columns[1:-2]:\n",
    "    col = i\n",
    "    sep_humd = humidty_data[['days', i, 'humd_min', 'humd_max']]\n",
    "    sep_humd['loss'] = sep_humd.apply(scale_sensor_values_humd, axis=1)\n",
    "    sep_humd = phases_condtion(sep_humd)\n",
    "    sep_humd = sep_humd.groupby('Phase').mean()[['loss']]\n",
    "    sep_h = sep_h.append(sep_humd.T)\n",
    "sep_h = sep_h.reset_index(drop=True)"
   ]
  },
  {
   "cell_type": "code",
   "execution_count": 43,
   "id": "efa17cab",
   "metadata": {
    "ExecuteTime": {
     "end_time": "2023-06-19T23:56:29.143587Z",
     "start_time": "2023-06-19T23:56:29.139231Z"
    }
   },
   "outputs": [],
   "source": [
    "phase3 = pd.DataFrame(loss_humid, columns = ['Phase-1', 'Phase-2', 'Phase-3', 'Phase-4'],)\n",
    "phase3.index.names = ['Phase']"
   ]
  },
  {
   "cell_type": "code",
   "execution_count": 44,
   "id": "ef878382",
   "metadata": {
    "ExecuteTime": {
     "end_time": "2023-06-19T23:56:29.897962Z",
     "start_time": "2023-06-19T23:56:29.892123Z"
    }
   },
   "outputs": [],
   "source": [
    "final_humid = pd.concat([sep_h, phase3], ignore_index=True)\n",
    "x_train = final_humid.values\n",
    "y_train = (x_train*np.array([0.15, 0.15, 0.35, 0.35])).sum(axis=1)"
   ]
  },
  {
   "cell_type": "code",
   "execution_count": 45,
   "id": "37c019d6",
   "metadata": {
    "ExecuteTime": {
     "end_time": "2023-06-19T23:56:31.097648Z",
     "start_time": "2023-06-19T23:56:30.884454Z"
    }
   },
   "outputs": [
    {
     "data": {
      "text/html": [
       "<style>#sk-container-id-3 {color: black;background-color: white;}#sk-container-id-3 pre{padding: 0;}#sk-container-id-3 div.sk-toggleable {background-color: white;}#sk-container-id-3 label.sk-toggleable__label {cursor: pointer;display: block;width: 100%;margin-bottom: 0;padding: 0.3em;box-sizing: border-box;text-align: center;}#sk-container-id-3 label.sk-toggleable__label-arrow:before {content: \"▸\";float: left;margin-right: 0.25em;color: #696969;}#sk-container-id-3 label.sk-toggleable__label-arrow:hover:before {color: black;}#sk-container-id-3 div.sk-estimator:hover label.sk-toggleable__label-arrow:before {color: black;}#sk-container-id-3 div.sk-toggleable__content {max-height: 0;max-width: 0;overflow: hidden;text-align: left;background-color: #f0f8ff;}#sk-container-id-3 div.sk-toggleable__content pre {margin: 0.2em;color: black;border-radius: 0.25em;background-color: #f0f8ff;}#sk-container-id-3 input.sk-toggleable__control:checked~div.sk-toggleable__content {max-height: 200px;max-width: 100%;overflow: auto;}#sk-container-id-3 input.sk-toggleable__control:checked~label.sk-toggleable__label-arrow:before {content: \"▾\";}#sk-container-id-3 div.sk-estimator input.sk-toggleable__control:checked~label.sk-toggleable__label {background-color: #d4ebff;}#sk-container-id-3 div.sk-label input.sk-toggleable__control:checked~label.sk-toggleable__label {background-color: #d4ebff;}#sk-container-id-3 input.sk-hidden--visually {border: 0;clip: rect(1px 1px 1px 1px);clip: rect(1px, 1px, 1px, 1px);height: 1px;margin: -1px;overflow: hidden;padding: 0;position: absolute;width: 1px;}#sk-container-id-3 div.sk-estimator {font-family: monospace;background-color: #f0f8ff;border: 1px dotted black;border-radius: 0.25em;box-sizing: border-box;margin-bottom: 0.5em;}#sk-container-id-3 div.sk-estimator:hover {background-color: #d4ebff;}#sk-container-id-3 div.sk-parallel-item::after {content: \"\";width: 100%;border-bottom: 1px solid gray;flex-grow: 1;}#sk-container-id-3 div.sk-label:hover label.sk-toggleable__label {background-color: #d4ebff;}#sk-container-id-3 div.sk-serial::before {content: \"\";position: absolute;border-left: 1px solid gray;box-sizing: border-box;top: 0;bottom: 0;left: 50%;z-index: 0;}#sk-container-id-3 div.sk-serial {display: flex;flex-direction: column;align-items: center;background-color: white;padding-right: 0.2em;padding-left: 0.2em;position: relative;}#sk-container-id-3 div.sk-item {position: relative;z-index: 1;}#sk-container-id-3 div.sk-parallel {display: flex;align-items: stretch;justify-content: center;background-color: white;position: relative;}#sk-container-id-3 div.sk-item::before, #sk-container-id-3 div.sk-parallel-item::before {content: \"\";position: absolute;border-left: 1px solid gray;box-sizing: border-box;top: 0;bottom: 0;left: 50%;z-index: -1;}#sk-container-id-3 div.sk-parallel-item {display: flex;flex-direction: column;z-index: 1;position: relative;background-color: white;}#sk-container-id-3 div.sk-parallel-item:first-child::after {align-self: flex-end;width: 50%;}#sk-container-id-3 div.sk-parallel-item:last-child::after {align-self: flex-start;width: 50%;}#sk-container-id-3 div.sk-parallel-item:only-child::after {width: 0;}#sk-container-id-3 div.sk-dashed-wrapped {border: 1px dashed gray;margin: 0 0.4em 0.5em 0.4em;box-sizing: border-box;padding-bottom: 0.4em;background-color: white;}#sk-container-id-3 div.sk-label label {font-family: monospace;font-weight: bold;display: inline-block;line-height: 1.2em;}#sk-container-id-3 div.sk-label-container {text-align: center;}#sk-container-id-3 div.sk-container {/* jupyter's `normalize.less` sets `[hidden] { display: none; }` but bootstrap.min.css set `[hidden] { display: none !important; }` so we also need the `!important` here to be able to override the default hidden behavior on the sphinx rendered scikit-learn.org. See: https://github.com/scikit-learn/scikit-learn/issues/21755 */display: inline-block !important;position: relative;}#sk-container-id-3 div.sk-text-repr-fallback {display: none;}</style><div id=\"sk-container-id-3\" class=\"sk-top-container\"><div class=\"sk-text-repr-fallback\"><pre>RandomForestRegressor(random_state=0)</pre><b>In a Jupyter environment, please rerun this cell to show the HTML representation or trust the notebook. <br />On GitHub, the HTML representation is unable to render, please try loading this page with nbviewer.org.</b></div><div class=\"sk-container\" hidden><div class=\"sk-item\"><div class=\"sk-estimator sk-toggleable\"><input class=\"sk-toggleable__control sk-hidden--visually\" id=\"sk-estimator-id-3\" type=\"checkbox\" checked><label for=\"sk-estimator-id-3\" class=\"sk-toggleable__label sk-toggleable__label-arrow\">RandomForestRegressor</label><div class=\"sk-toggleable__content\"><pre>RandomForestRegressor(random_state=0)</pre></div></div></div></div></div>"
      ],
      "text/plain": [
       "RandomForestRegressor(random_state=0)"
      ]
     },
     "execution_count": 45,
     "metadata": {},
     "output_type": "execute_result"
    }
   ],
   "source": [
    "humid_regressor = RandomForestRegressor(n_estimators=100, random_state=0)\n",
    "humid_regressor.fit(x_train, y_train)"
   ]
  },
  {
   "cell_type": "code",
   "execution_count": 46,
   "id": "738e557f",
   "metadata": {
    "ExecuteTime": {
     "end_time": "2023-06-19T23:56:31.896741Z",
     "start_time": "2023-06-19T23:56:31.875161Z"
    }
   },
   "outputs": [
    {
     "data": {
      "text/plain": [
       "array([ 0.004,  0.   , -0.005, -0.007, -0.005,  0.   , -0.002,  0.01 ])"
      ]
     },
     "execution_count": 46,
     "metadata": {},
     "output_type": "execute_result"
    }
   ],
   "source": [
    "np.round(humid_regressor.predict(phase3.values)-(phase3.values*np.array([0.15, 0.15, 0.35, 0.35])).sum(axis=1), 3)"
   ]
  },
  {
   "cell_type": "code",
   "execution_count": 47,
   "id": "3dc418de",
   "metadata": {},
   "outputs": [
    {
     "data": {
      "text/html": [
       "<div>\n",
       "<style scoped>\n",
       "    .dataframe tbody tr th:only-of-type {\n",
       "        vertical-align: middle;\n",
       "    }\n",
       "\n",
       "    .dataframe tbody tr th {\n",
       "        vertical-align: top;\n",
       "    }\n",
       "\n",
       "    .dataframe thead th {\n",
       "        text-align: right;\n",
       "    }\n",
       "</style>\n",
       "<table border=\"1\" class=\"dataframe\">\n",
       "  <thead>\n",
       "    <tr style=\"text-align: right;\">\n",
       "      <th></th>\n",
       "      <th>fid</th>\n",
       "      <th>humidty_loss</th>\n",
       "    </tr>\n",
       "  </thead>\n",
       "  <tbody>\n",
       "    <tr>\n",
       "      <th>0</th>\n",
       "      <td>68764</td>\n",
       "      <td>0.902018</td>\n",
       "    </tr>\n",
       "    <tr>\n",
       "      <th>1</th>\n",
       "      <td>68731</td>\n",
       "      <td>0.90329</td>\n",
       "    </tr>\n",
       "    <tr>\n",
       "      <th>2</th>\n",
       "      <td>68752</td>\n",
       "      <td>0.917129</td>\n",
       "    </tr>\n",
       "    <tr>\n",
       "      <th>6</th>\n",
       "      <td>68376</td>\n",
       "      <td>0.908218</td>\n",
       "    </tr>\n",
       "  </tbody>\n",
       "</table>\n",
       "</div>"
      ],
      "text/plain": [
       "     fid humidty_loss\n",
       "0  68764     0.902018\n",
       "1  68731      0.90329\n",
       "2  68752     0.917129\n",
       "6  68376     0.908218"
      ]
     },
     "execution_count": 47,
     "metadata": {},
     "output_type": "execute_result"
    }
   ],
   "source": [
    "pred = humid_regressor.predict(phase3.values)\n",
    "dd = pd.DataFrame([fids, pred]).T\n",
    "dd.columns =  ['fid', 'humidty_loss']\n",
    "df2 = dd.loc[dd['fid'].isin(['68764','68376','68731','68752'])]\n",
    "df2"
   ]
  },
  {
   "cell_type": "code",
   "execution_count": 48,
   "id": "eed94f20",
   "metadata": {
    "ExecuteTime": {
     "end_time": "2023-06-19T23:56:36.453002Z",
     "start_time": "2023-06-19T23:56:36.444346Z"
    }
   },
   "outputs": [],
   "source": [
    "# train_x = np.array(list(zip(phase1.values.tolist(), phase2.values.tolist(), phase3.values.tolist())))\n",
    "# train_x = train_x.reshape((17, 3, 4, 1))\n",
    "# train_y = np.array(loss_fr).reshape((len(train_x), 1))\n"
   ]
  },
  {
   "cell_type": "code",
   "execution_count": 49,
   "id": "ada950ab",
   "metadata": {
    "ExecuteTime": {
     "end_time": "2023-06-19T23:56:37.457042Z",
     "start_time": "2023-06-19T23:56:37.452659Z"
    }
   },
   "outputs": [],
   "source": [
    "# # stt = []\n",
    "# # loss_fr = []\n",
    "# # for ind in range(len(phase1)):\n",
    "    \n",
    "    \n",
    "\n",
    "    \n",
    "# #     loss = (((np.array([phase1.iloc[ind].values, \n",
    "# #           phase2.iloc[ind].values, \n",
    "# #           phase3.iloc[ind].values])*np.array([0.15, 0.15, 0.35, 0.35])).sum(axis=1))*np.array([0.3, 0.3, 0.4])).sum()\n",
    "# #     x_in = np.array([phase1.iloc[ind].values, phase2.iloc[ind].values, phase3.iloc[ind].values])\n",
    "    \n",
    "# #     stt.append(x_in)\n",
    "    \n",
    "# #     loss_fr.append(loss)\n",
    "# # loss_fr    \n",
    "# concat_df = pd.DataFrame([stt]).T\n",
    "# concat_df.columns = ['x_train']\n",
    "# concat_df['y_train'] = np.array(loss_fr)\n",
    "# concat_df"
   ]
  },
  {
   "cell_type": "code",
   "execution_count": 50,
   "id": "b0f9079a",
   "metadata": {
    "ExecuteTime": {
     "end_time": "2023-06-19T23:56:38.628306Z",
     "start_time": "2023-06-19T23:56:38.620193Z"
    }
   },
   "outputs": [],
   "source": [
    "# # concat_df.x_train.values\n",
    "# np.array([[[1, 1, 1, 1], [1, 1, 1, 1], [1, 1, 1, 1]],\n",
    "# [[1, 1, 1, 1], [1, 1, 1, 1], [1, 1, 1, 1]]]).shape"
   ]
  },
  {
   "cell_type": "code",
   "execution_count": 51,
   "id": "ead24d31",
   "metadata": {
    "ExecuteTime": {
     "end_time": "2023-06-19T23:56:40.047541Z",
     "start_time": "2023-06-19T23:56:40.043650Z"
    }
   },
   "outputs": [],
   "source": [
    "# concat_regressor = RandomForestRegressor(n_estimators=100, random_state=0)\n",
    "# concat_regressor.fit(concat_df['x_train'].values, concat_df['y_train'].values)"
   ]
  },
  {
   "cell_type": "code",
   "execution_count": 52,
   "id": "0898d2d0",
   "metadata": {
    "ExecuteTime": {
     "end_time": "2023-06-19T23:56:41.002415Z",
     "start_time": "2023-06-19T23:56:40.998523Z"
    }
   },
   "outputs": [],
   "source": [
    "# concat_df['x_train'].values, concat_df['y_train'].values"
   ]
  },
  {
   "cell_type": "code",
   "execution_count": 53,
   "id": "a8c1c091",
   "metadata": {
    "ExecuteTime": {
     "end_time": "2023-06-19T23:56:41.852842Z",
     "start_time": "2023-06-19T23:56:41.820499Z"
    }
   },
   "outputs": [],
   "source": [
    "# # hum_sim = sep_h.values.tolist()\n",
    "# # temp_sim = sep.values.tolist()\n",
    "# # rain_sim = rain_test.values.tolist()\n",
    "# # wind_sim = wind_test.values.tolist()\n",
    "\n",
    "# # sensor_data_combo = []\n",
    "\n",
    "# # for rain in rain_sim:\n",
    "# #     for temp in temp_sim:\n",
    "# #         for hum in hum_sim:\n",
    "# #             for win in wind_sim:\n",
    "# #                 sensor_data_combo.append([rain, temp, hum, win])\n",
    "                \n",
    "# # train_x = list(zip(phase1.values.tolist(), phase2.values.tolist(), phase3.values.tolist()))\n",
    "\n",
    "# # full_sim = np.array(sensor_data_combo + train_x)\n",
    "\n",
    "# # overall_loss = (((full_sim*np.array([0.15, 0.15, 0.35, 0.35])).sum(axis=2))*(np.array([0.3, 0.3, 0.4]))).sum(axis=1)\n",
    "\n",
    "# # train_x = full_sim.reshape((len(full_sim), 3, 4, 1))\n",
    "# # train_y = overall_loss\n",
    "# from tensorflow.keras.models import Sequential\n",
    "# from tensorflow.keras.layers import Dense, Conv2D, Flatten\n",
    "\n",
    "# model = Sequential()\n",
    "# model.add(Conv2D(64, kernel_size=(3, 3), activation='relu', input_shape=(3, 4, 1)))  # Input layer\n",
    "# model.add(Flatten())\n",
    "# model.add(Dense(128, activation='relu'))\n",
    "# model.add(Dense(1, activation='linear'))\n",
    "# model.compile(loss='mean_absolute_error', optimizer='adam')\n",
    "\n",
    "# model.fit(train_x, train_y, epochs=10, batch_size=100000)"
   ]
  },
  {
   "cell_type": "code",
   "execution_count": 54,
   "id": "eeae51ae",
   "metadata": {
    "ExecuteTime": {
     "end_time": "2023-06-19T23:56:51.169695Z",
     "start_time": "2023-06-19T23:56:51.164700Z"
    }
   },
   "outputs": [],
   "source": [
    "# test_x = np.array(list(zip(phase1.values.tolist(), phase2.values.tolist(), phase3.values.tolist())))\n",
    "# test_y = (((test_x*np.array([0.15, 0.15, 0.35, 0.35])).sum(axis=2))*(np.array([0.3, 0.3, 0.4]))).sum(axis=1)\n",
    "# test_x = test_x.reshape((len(test_x), 3, 4, 1))"
   ]
  },
  {
   "cell_type": "code",
   "execution_count": 55,
   "id": "3aaeeadb",
   "metadata": {
    "ExecuteTime": {
     "end_time": "2023-06-19T23:56:54.059574Z",
     "start_time": "2023-06-19T23:56:53.172867Z"
    }
   },
   "outputs": [],
   "source": [
    "# np.round(model.predict(test_x).flatten()-test_y, 3)"
   ]
  },
  {
   "cell_type": "code",
   "execution_count": 56,
   "id": "98287ac6",
   "metadata": {
    "ExecuteTime": {
     "end_time": "2023-06-19T23:56:55.853647Z",
     "start_time": "2023-06-19T23:56:55.844331Z"
    }
   },
   "outputs": [],
   "source": [
    "def windspeed_condtion(df, col):\n",
    "    condition = [(df[col] < 9.6),((df[col] >= 9.6) & (df[col] < 14.5)),\n",
    "                 (df[col] >= 14.5) ]\n",
    "\n",
    "    choices = [1, 0.8, 0.5]\n",
    "\n",
    "    test = np.select(condition, choices)\n",
    "    return test\n",
    "\n",
    "def phases_condtion(ndvi_df):\n",
    "    conditions_ndvi = [ndvi_df.days<10, \n",
    "             ((ndvi_df.days >= 10) & (ndvi_df.days < 30)),\n",
    "             ((ndvi_df.days >= 30) & (ndvi_df.days < 90)),\n",
    "             ((ndvi_df.days >= 90))]\n",
    "\n",
    "    choices = ['Phase-1','Phase-2','Phase-3', 'Phase-4']\n",
    "    weights = [0.15, 0.15, 0.35, 0.35]\n",
    "    ndvi_df['Phase'] = np.select(conditions_ndvi, choices)\n",
    "    ndvi_df['Phase_weight'] = np.select(conditions_ndvi, weights)\n",
    "    \n",
    "    return ndvi_df\n",
    "\n",
    "\n",
    "def windspeed_prediction(data, fid, condtion = None):\n",
    "\n",
    "    data = data.loc[data['Wind Speed (kmh)']!='-']\n",
    "\n",
    "    sow = client.loc[client.fid == int(fid), 'sowingdt'].values[0]\n",
    "    data['date'] = pd.to_datetime(data['Date time (time zone: Asia/Kolkata)'])\n",
    "    if condtion:\n",
    "        data = data.loc[data.date <pd.to_datetime(condition)]\n",
    "\n",
    "    data = data.loc[data['date']>= pd.to_datetime(sow)]\n",
    "    data['hours'] = data.date.apply(lambda x: x.strftime(\"%H\")).astype(int)\n",
    "    data['days'] = data.date.apply(lambda x: (x-pd.to_datetime(sow)).days)\n",
    "    data['Wind Speed (kmh)'] = data['Wind Speed (kmh)'].astype(float)\n",
    "    data['wind_loss'] = windspeed_condtion(data, 'Wind Speed (kmh)')\n",
    "    data = phases_condtion(data)[['Phase', 'wind_loss']]\n",
    "    data = data.groupby('Phase').min()\n",
    "\n",
    "    try:\n",
    "        phase_1 = data.loc['Phase-1'].values[0]\n",
    "    except:\n",
    "        phase_1 = 1.0\n",
    "\n",
    "    try:\n",
    "        phase_2 = data.loc['Phase-2'].values[0]\n",
    "    except:\n",
    "        phase_2 = 1.0\n",
    "\n",
    "    try:\n",
    "        phase_3 = data.loc['Phase-3'].values[0]\n",
    "    except:\n",
    "        phase_3 = 1.0\n",
    "\n",
    "    try:\n",
    "        phase_4 = data.loc['Phase-4'].values[0]\n",
    "    except:\n",
    "        phase_4 = 1.0\n",
    "    \n",
    "    return [phase_1, phase_2, phase_3, phase_4]"
   ]
  },
  {
   "cell_type": "code",
   "execution_count": 57,
   "id": "b5770fe6",
   "metadata": {
    "ExecuteTime": {
     "end_time": "2023-06-20T00:47:58.738354Z",
     "start_time": "2023-06-20T00:47:45.278237Z"
    }
   },
   "outputs": [],
   "source": [
    "wind_loss = []\n",
    "fids = []\n",
    "for fil in files:\n",
    "    \n",
    "    fid = fil.split('/')[-2]\n",
    "    if fid in chilli_fids:\n",
    "        fids.append(fid)\n",
    "    \n",
    "        data = pd.read_csv(fil)\n",
    "        condtion = '2023-04-25'\n",
    "        dat = windspeed_prediction(data, fid,condtion)\n",
    "        wind_loss.append(dat)"
   ]
  },
  {
   "cell_type": "code",
   "execution_count": 58,
   "id": "73bc9d05",
   "metadata": {
    "ExecuteTime": {
     "end_time": "2023-06-19T23:57:14.729663Z",
     "start_time": "2023-06-19T23:57:14.716658Z"
    }
   },
   "outputs": [
    {
     "data": {
      "text/html": [
       "<div>\n",
       "<style scoped>\n",
       "    .dataframe tbody tr th:only-of-type {\n",
       "        vertical-align: middle;\n",
       "    }\n",
       "\n",
       "    .dataframe tbody tr th {\n",
       "        vertical-align: top;\n",
       "    }\n",
       "\n",
       "    .dataframe thead th {\n",
       "        text-align: right;\n",
       "    }\n",
       "</style>\n",
       "<table border=\"1\" class=\"dataframe\">\n",
       "  <thead>\n",
       "    <tr style=\"text-align: right;\">\n",
       "      <th></th>\n",
       "      <th>Phase-1</th>\n",
       "      <th>Phase-2</th>\n",
       "      <th>Phase-3</th>\n",
       "      <th>Phase-4</th>\n",
       "    </tr>\n",
       "  </thead>\n",
       "  <tbody>\n",
       "    <tr>\n",
       "      <th>0</th>\n",
       "      <td>1.0</td>\n",
       "      <td>1.0</td>\n",
       "      <td>0.5</td>\n",
       "      <td>0.5</td>\n",
       "    </tr>\n",
       "    <tr>\n",
       "      <th>1</th>\n",
       "      <td>1.0</td>\n",
       "      <td>0.8</td>\n",
       "      <td>0.5</td>\n",
       "      <td>0.5</td>\n",
       "    </tr>\n",
       "    <tr>\n",
       "      <th>2</th>\n",
       "      <td>1.0</td>\n",
       "      <td>1.0</td>\n",
       "      <td>0.5</td>\n",
       "      <td>0.5</td>\n",
       "    </tr>\n",
       "    <tr>\n",
       "      <th>3</th>\n",
       "      <td>1.0</td>\n",
       "      <td>1.0</td>\n",
       "      <td>0.5</td>\n",
       "      <td>0.8</td>\n",
       "    </tr>\n",
       "    <tr>\n",
       "      <th>4</th>\n",
       "      <td>1.0</td>\n",
       "      <td>1.0</td>\n",
       "      <td>0.5</td>\n",
       "      <td>0.5</td>\n",
       "    </tr>\n",
       "  </tbody>\n",
       "</table>\n",
       "</div>"
      ],
      "text/plain": [
       "   Phase-1  Phase-2  Phase-3  Phase-4\n",
       "0      1.0      1.0      0.5      0.5\n",
       "1      1.0      0.8      0.5      0.5\n",
       "2      1.0      1.0      0.5      0.5\n",
       "3      1.0      1.0      0.5      0.8\n",
       "4      1.0      1.0      0.5      0.5"
      ]
     },
     "execution_count": 58,
     "metadata": {},
     "output_type": "execute_result"
    }
   ],
   "source": [
    "phase4 = pd.DataFrame(wind_loss, columns = ['Phase-1', 'Phase-2', 'Phase-3', 'Phase-4'],)\n",
    "phase4.head()"
   ]
  },
  {
   "cell_type": "code",
   "execution_count": 59,
   "id": "4793cadd",
   "metadata": {
    "ExecuteTime": {
     "end_time": "2023-06-19T23:57:15.868174Z",
     "start_time": "2023-06-19T23:57:15.829375Z"
    }
   },
   "outputs": [],
   "source": [
    "optimal_windspeed = pd.read_csv('../data/optimal_sensor/windspeed_training_data.csv')"
   ]
  },
  {
   "cell_type": "code",
   "execution_count": 60,
   "id": "6ee1211c",
   "metadata": {
    "ExecuteTime": {
     "end_time": "2023-06-19T23:57:17.721783Z",
     "start_time": "2023-06-19T23:57:17.525303Z"
    }
   },
   "outputs": [],
   "source": [
    "new_wind = pd.DataFrame()\n",
    "for i in optimal_windspeed.columns[1:].values:\n",
    "    new_wind[i] = windspeed_condtion(optimal_windspeed,i)\n",
    "    \n",
    "new_wind['days'] = optimal_windspeed.Day.values\n",
    "new_wind = phases_condtion(new_wind)\n",
    "new_wind = new_wind.drop(columns =['days'])\n",
    "test = new_wind.groupby(['Phase']).min()\n",
    "wind_test = test.drop(columns = ['Phase_weight']).T"
   ]
  },
  {
   "cell_type": "code",
   "execution_count": 61,
   "id": "086cabc4",
   "metadata": {
    "ExecuteTime": {
     "end_time": "2023-06-19T23:57:18.970524Z",
     "start_time": "2023-06-19T23:57:18.924732Z"
    }
   },
   "outputs": [],
   "source": [
    "test = new_wind.groupby(['Phase']).min()\n",
    "y_train = test.iloc[:, :-1].multiply(test[\"Phase_weight\"], axis=\"index\").sum().values"
   ]
  },
  {
   "cell_type": "code",
   "execution_count": 62,
   "id": "719734e7",
   "metadata": {
    "ExecuteTime": {
     "end_time": "2023-06-19T23:57:20.520469Z",
     "start_time": "2023-06-19T23:57:20.508312Z"
    }
   },
   "outputs": [],
   "source": [
    "final_wind = pd.concat([test.iloc[:, :-1].T, phase4]).reset_index(drop = True)"
   ]
  },
  {
   "cell_type": "code",
   "execution_count": 63,
   "id": "44145489",
   "metadata": {
    "ExecuteTime": {
     "end_time": "2023-06-19T23:57:21.529978Z",
     "start_time": "2023-06-19T23:57:21.524509Z"
    }
   },
   "outputs": [],
   "source": [
    "x_train = final_wind.values\n",
    "y_train = (x_train*np.array([0.15, 0.15, 0.35, 0.35])).sum(axis=1)"
   ]
  },
  {
   "cell_type": "code",
   "execution_count": 64,
   "id": "fe764635",
   "metadata": {},
   "outputs": [],
   "source": [
    "x_train = phase4.values\n",
    "y_train = (x_train*np.array([0.15, 0.15, 0.35, 0.35])).sum(axis=1)"
   ]
  },
  {
   "cell_type": "code",
   "execution_count": 65,
   "id": "cadf2f5d",
   "metadata": {
    "ExecuteTime": {
     "end_time": "2023-06-19T23:57:26.678880Z",
     "start_time": "2023-06-19T23:57:26.485124Z"
    }
   },
   "outputs": [
    {
     "data": {
      "text/html": [
       "<style>#sk-container-id-4 {color: black;background-color: white;}#sk-container-id-4 pre{padding: 0;}#sk-container-id-4 div.sk-toggleable {background-color: white;}#sk-container-id-4 label.sk-toggleable__label {cursor: pointer;display: block;width: 100%;margin-bottom: 0;padding: 0.3em;box-sizing: border-box;text-align: center;}#sk-container-id-4 label.sk-toggleable__label-arrow:before {content: \"▸\";float: left;margin-right: 0.25em;color: #696969;}#sk-container-id-4 label.sk-toggleable__label-arrow:hover:before {color: black;}#sk-container-id-4 div.sk-estimator:hover label.sk-toggleable__label-arrow:before {color: black;}#sk-container-id-4 div.sk-toggleable__content {max-height: 0;max-width: 0;overflow: hidden;text-align: left;background-color: #f0f8ff;}#sk-container-id-4 div.sk-toggleable__content pre {margin: 0.2em;color: black;border-radius: 0.25em;background-color: #f0f8ff;}#sk-container-id-4 input.sk-toggleable__control:checked~div.sk-toggleable__content {max-height: 200px;max-width: 100%;overflow: auto;}#sk-container-id-4 input.sk-toggleable__control:checked~label.sk-toggleable__label-arrow:before {content: \"▾\";}#sk-container-id-4 div.sk-estimator input.sk-toggleable__control:checked~label.sk-toggleable__label {background-color: #d4ebff;}#sk-container-id-4 div.sk-label input.sk-toggleable__control:checked~label.sk-toggleable__label {background-color: #d4ebff;}#sk-container-id-4 input.sk-hidden--visually {border: 0;clip: rect(1px 1px 1px 1px);clip: rect(1px, 1px, 1px, 1px);height: 1px;margin: -1px;overflow: hidden;padding: 0;position: absolute;width: 1px;}#sk-container-id-4 div.sk-estimator {font-family: monospace;background-color: #f0f8ff;border: 1px dotted black;border-radius: 0.25em;box-sizing: border-box;margin-bottom: 0.5em;}#sk-container-id-4 div.sk-estimator:hover {background-color: #d4ebff;}#sk-container-id-4 div.sk-parallel-item::after {content: \"\";width: 100%;border-bottom: 1px solid gray;flex-grow: 1;}#sk-container-id-4 div.sk-label:hover label.sk-toggleable__label {background-color: #d4ebff;}#sk-container-id-4 div.sk-serial::before {content: \"\";position: absolute;border-left: 1px solid gray;box-sizing: border-box;top: 0;bottom: 0;left: 50%;z-index: 0;}#sk-container-id-4 div.sk-serial {display: flex;flex-direction: column;align-items: center;background-color: white;padding-right: 0.2em;padding-left: 0.2em;position: relative;}#sk-container-id-4 div.sk-item {position: relative;z-index: 1;}#sk-container-id-4 div.sk-parallel {display: flex;align-items: stretch;justify-content: center;background-color: white;position: relative;}#sk-container-id-4 div.sk-item::before, #sk-container-id-4 div.sk-parallel-item::before {content: \"\";position: absolute;border-left: 1px solid gray;box-sizing: border-box;top: 0;bottom: 0;left: 50%;z-index: -1;}#sk-container-id-4 div.sk-parallel-item {display: flex;flex-direction: column;z-index: 1;position: relative;background-color: white;}#sk-container-id-4 div.sk-parallel-item:first-child::after {align-self: flex-end;width: 50%;}#sk-container-id-4 div.sk-parallel-item:last-child::after {align-self: flex-start;width: 50%;}#sk-container-id-4 div.sk-parallel-item:only-child::after {width: 0;}#sk-container-id-4 div.sk-dashed-wrapped {border: 1px dashed gray;margin: 0 0.4em 0.5em 0.4em;box-sizing: border-box;padding-bottom: 0.4em;background-color: white;}#sk-container-id-4 div.sk-label label {font-family: monospace;font-weight: bold;display: inline-block;line-height: 1.2em;}#sk-container-id-4 div.sk-label-container {text-align: center;}#sk-container-id-4 div.sk-container {/* jupyter's `normalize.less` sets `[hidden] { display: none; }` but bootstrap.min.css set `[hidden] { display: none !important; }` so we also need the `!important` here to be able to override the default hidden behavior on the sphinx rendered scikit-learn.org. See: https://github.com/scikit-learn/scikit-learn/issues/21755 */display: inline-block !important;position: relative;}#sk-container-id-4 div.sk-text-repr-fallback {display: none;}</style><div id=\"sk-container-id-4\" class=\"sk-top-container\"><div class=\"sk-text-repr-fallback\"><pre>RandomForestRegressor(random_state=0)</pre><b>In a Jupyter environment, please rerun this cell to show the HTML representation or trust the notebook. <br />On GitHub, the HTML representation is unable to render, please try loading this page with nbviewer.org.</b></div><div class=\"sk-container\" hidden><div class=\"sk-item\"><div class=\"sk-estimator sk-toggleable\"><input class=\"sk-toggleable__control sk-hidden--visually\" id=\"sk-estimator-id-4\" type=\"checkbox\" checked><label for=\"sk-estimator-id-4\" class=\"sk-toggleable__label sk-toggleable__label-arrow\">RandomForestRegressor</label><div class=\"sk-toggleable__content\"><pre>RandomForestRegressor(random_state=0)</pre></div></div></div></div></div>"
      ],
      "text/plain": [
       "RandomForestRegressor(random_state=0)"
      ]
     },
     "execution_count": 65,
     "metadata": {},
     "output_type": "execute_result"
    }
   ],
   "source": [
    "wind_regressor = RandomForestRegressor(n_estimators=100, random_state=0)\n",
    "wind_regressor.fit(x_train, y_train)"
   ]
  },
  {
   "cell_type": "code",
   "execution_count": 66,
   "id": "c53464ef",
   "metadata": {
    "ExecuteTime": {
     "end_time": "2023-06-19T23:57:28.815908Z",
     "start_time": "2023-06-19T23:57:28.788665Z"
    }
   },
   "outputs": [
    {
     "data": {
      "text/plain": [
       "array([-0.   ,  0.011, -0.   , -0.024, -0.   , -0.   ,  0.002, -0.   ])"
      ]
     },
     "execution_count": 66,
     "metadata": {},
     "output_type": "execute_result"
    }
   ],
   "source": [
    "np.round(wind_regressor.predict(phase4.values)-(phase4.values*np.array([0.15, 0.15, 0.35, 0.35])).sum(axis=1), 3)"
   ]
  },
  {
   "cell_type": "code",
   "execution_count": 67,
   "id": "95f18289",
   "metadata": {},
   "outputs": [
    {
     "data": {
      "text/html": [
       "<div>\n",
       "<style scoped>\n",
       "    .dataframe tbody tr th:only-of-type {\n",
       "        vertical-align: middle;\n",
       "    }\n",
       "\n",
       "    .dataframe tbody tr th {\n",
       "        vertical-align: top;\n",
       "    }\n",
       "\n",
       "    .dataframe thead th {\n",
       "        text-align: right;\n",
       "    }\n",
       "</style>\n",
       "<table border=\"1\" class=\"dataframe\">\n",
       "  <thead>\n",
       "    <tr style=\"text-align: right;\">\n",
       "      <th></th>\n",
       "      <th>fid</th>\n",
       "      <th>windspeed_loss</th>\n",
       "    </tr>\n",
       "  </thead>\n",
       "  <tbody>\n",
       "    <tr>\n",
       "      <th>0</th>\n",
       "      <td>68764</td>\n",
       "      <td>0.65</td>\n",
       "    </tr>\n",
       "    <tr>\n",
       "      <th>1</th>\n",
       "      <td>68731</td>\n",
       "      <td>0.6306</td>\n",
       "    </tr>\n",
       "    <tr>\n",
       "      <th>2</th>\n",
       "      <td>68752</td>\n",
       "      <td>0.65</td>\n",
       "    </tr>\n",
       "    <tr>\n",
       "      <th>6</th>\n",
       "      <td>68376</td>\n",
       "      <td>0.722</td>\n",
       "    </tr>\n",
       "  </tbody>\n",
       "</table>\n",
       "</div>"
      ],
      "text/plain": [
       "     fid windspeed_loss\n",
       "0  68764           0.65\n",
       "1  68731         0.6306\n",
       "2  68752           0.65\n",
       "6  68376          0.722"
      ]
     },
     "execution_count": 67,
     "metadata": {},
     "output_type": "execute_result"
    }
   ],
   "source": [
    "pred = wind_regressor.predict(phase4.values)\n",
    "dd = pd.DataFrame([fids, pred]).T\n",
    "dd.columns =  ['fid', 'windspeed_loss']\n",
    "df2 = dd.loc[dd['fid'].isin(['68764','68376','68731','68752'])]\n",
    "df2\n"
   ]
  },
  {
   "cell_type": "code",
   "execution_count": 68,
   "id": "3761e8c5",
   "metadata": {
    "ExecuteTime": {
     "end_time": "2023-06-19T23:59:08.233230Z",
     "start_time": "2023-06-19T23:58:56.310657Z"
    }
   },
   "outputs": [],
   "source": [
    "hum_sim = sep_h.values.tolist()\n",
    "temp_sim = sep.values.tolist()\n",
    "rain_sim = rain_test.values.tolist()\n",
    "wind_sim = wind_test.values.tolist()\n",
    "\n",
    "sensor_data_combo = []\n",
    "\n",
    "for rain in rain_sim[:60]:\n",
    "    for temp in temp_sim[:60]:\n",
    "        for hum in hum_sim[:60]:\n",
    "            for win in wind_sim[:60]:\n",
    "                sensor_data_combo.append([rain, temp, hum, win])\n",
    "                \n",
    "                \n",
    "                "
   ]
  },
  {
   "cell_type": "code",
   "execution_count": 69,
   "id": "81dbc8f4",
   "metadata": {
    "ExecuteTime": {
     "end_time": "2023-06-20T00:00:09.711127Z",
     "start_time": "2023-06-20T00:00:09.705599Z"
    }
   },
   "outputs": [],
   "source": [
    "train_x = list(zip(phase1.values.tolist(), phase2.values.tolist(), phase3.values.tolist(), phase4.values.tolist()))"
   ]
  },
  {
   "cell_type": "code",
   "execution_count": 71,
   "id": "b1e8811e",
   "metadata": {
    "ExecuteTime": {
     "end_time": "2023-06-20T00:01:17.717514Z",
     "start_time": "2023-06-20T00:00:46.127904Z"
    }
   },
   "outputs": [],
   "source": [
    "full_sim = np.array(sensor_data_combo + train_x)"
   ]
  },
  {
   "cell_type": "code",
   "execution_count": 72,
   "id": "6bade339",
   "metadata": {
    "ExecuteTime": {
     "end_time": "2023-06-20T00:01:23.058992Z",
     "start_time": "2023-06-20T00:01:20.031766Z"
    }
   },
   "outputs": [],
   "source": [
    "overall_loss = (((full_sim*np.array([0.15, 0.15, 0.35, 0.35])).sum(axis=2))*(np.array([0.40, 0.2, 0.2,0.2]))).sum(axis=1)"
   ]
  },
  {
   "cell_type": "code",
   "execution_count": 73,
   "id": "bf3ed483",
   "metadata": {
    "ExecuteTime": {
     "end_time": "2023-06-20T00:01:55.476259Z",
     "start_time": "2023-06-20T00:01:55.472321Z"
    }
   },
   "outputs": [],
   "source": [
    "train_x = full_sim.reshape((len(full_sim), 4, 4, 1))\n",
    "train_y = overall_loss"
   ]
  },
  {
   "cell_type": "code",
   "execution_count": 74,
   "id": "f9af40d3",
   "metadata": {
    "ExecuteTime": {
     "end_time": "2023-06-20T00:05:39.227663Z",
     "start_time": "2023-06-20T00:02:03.295480Z"
    }
   },
   "outputs": [
    {
     "name": "stderr",
     "output_type": "stream",
     "text": [
      "2023-07-12 15:19:53.397989: I tensorflow/compiler/xla/stream_executor/cuda/cuda_gpu_executor.cc:996] successful NUMA node read from SysFS had negative value (-1), but there must be at least one NUMA node, so returning NUMA node zero. See more at https://github.com/torvalds/linux/blob/v6.0/Documentation/ABI/testing/sysfs-bus-pci#L344-L355\n",
      "2023-07-12 15:19:53.398501: W tensorflow/core/common_runtime/gpu/gpu_device.cc:1956] Cannot dlopen some GPU libraries. Please make sure the missing libraries mentioned above are installed properly if you would like to use GPU. Follow the guide at https://www.tensorflow.org/install/gpu for how to download and setup the required libraries for your platform.\n",
      "Skipping registering GPU devices...\n",
      "2023-07-12 15:19:53.601528: W tensorflow/tsl/framework/cpu_allocator_impl.cc:83] Allocation of 829440512 exceeds 10% of free system memory.\n"
     ]
    },
    {
     "name": "stdout",
     "output_type": "stream",
     "text": [
      "Epoch 1/10\n",
      "130/130 [==============================] - 14s 105ms/step - loss: 0.0552\n",
      "Epoch 2/10\n",
      "130/130 [==============================] - 14s 105ms/step - loss: 0.0111\n",
      "Epoch 3/10\n",
      "130/130 [==============================] - 14s 110ms/step - loss: 0.0098\n",
      "Epoch 4/10\n",
      "130/130 [==============================] - 15s 112ms/step - loss: 0.0114\n",
      "Epoch 5/10\n",
      "130/130 [==============================] - 16s 120ms/step - loss: 0.0099\n",
      "Epoch 6/10\n",
      "130/130 [==============================] - 16s 122ms/step - loss: 0.0066\n",
      "Epoch 7/10\n",
      "130/130 [==============================] - 17s 127ms/step - loss: 0.0094\n",
      "Epoch 8/10\n",
      "130/130 [==============================] - 17s 127ms/step - loss: 0.0107\n",
      "Epoch 9/10\n",
      "130/130 [==============================] - 17s 129ms/step - loss: 0.0082\n",
      "Epoch 10/10\n",
      "130/130 [==============================] - 17s 128ms/step - loss: 0.0071\n"
     ]
    },
    {
     "data": {
      "text/plain": [
       "<keras.callbacks.History at 0x7f3e7b14ac80>"
      ]
     },
     "execution_count": 74,
     "metadata": {},
     "output_type": "execute_result"
    }
   ],
   "source": [
    "from tensorflow.keras.models import Sequential\n",
    "from tensorflow.keras.layers import Dense, Conv2D, Flatten\n",
    "\n",
    "model = Sequential()\n",
    "model.add(Conv2D(64, kernel_size=(3, 3), activation='relu', input_shape=(4, 4, 1)))  # Input layer\n",
    "model.add(Flatten())\n",
    "model.add(Dense(128, activation='relu'))\n",
    "model.add(Dense(1, activation='linear'))\n",
    "model.compile(loss='mean_absolute_error', optimizer='adam')\n",
    "\n",
    "model.fit(train_x, train_y, epochs=10, batch_size=100000)\n",
    "# pickle.dump(model, open('../model/sensor_model.pkl', 'wb'))"
   ]
  },
  {
   "cell_type": "code",
   "execution_count": 75,
   "id": "0bc2e0fe",
   "metadata": {
    "ExecuteTime": {
     "end_time": "2023-06-20T00:46:43.350147Z",
     "start_time": "2023-06-20T00:46:43.344321Z"
    }
   },
   "outputs": [],
   "source": [
    "test_x = np.array(list(zip(phase1.values.tolist(), phase2.values.tolist(), phase3.values.tolist(), phase4.values.tolist())))\n",
    "test_y = (((test_x*np.array([0.15, 0.15, 0.35, 0.35])).sum(axis=2))*(np.array([0.40, 0.2, 0.2,0.2]))).sum(axis=1)\n",
    "test_x = test_x.reshape((len(test_x), 4, 4, 1))"
   ]
  },
  {
   "cell_type": "code",
   "execution_count": 76,
   "id": "89dfb8bc",
   "metadata": {
    "ExecuteTime": {
     "end_time": "2023-06-20T00:07:58.222946Z",
     "start_time": "2023-06-20T00:07:58.083546Z"
    }
   },
   "outputs": [
    {
     "name": "stdout",
     "output_type": "stream",
     "text": [
      "1/1 [==============================] - 0s 57ms/step\n"
     ]
    },
    {
     "data": {
      "text/plain": [
       "-0.012375"
      ]
     },
     "execution_count": 76,
     "metadata": {},
     "output_type": "execute_result"
    }
   ],
   "source": [
    "np.round(model.predict(test_x).flatten()-test_y, 3).mean()"
   ]
  },
  {
   "cell_type": "code",
   "execution_count": 77,
   "id": "78e71e53",
   "metadata": {
    "ExecuteTime": {
     "end_time": "2023-06-20T00:11:05.616989Z",
     "start_time": "2023-06-20T00:11:05.522608Z"
    }
   },
   "outputs": [],
   "source": [
    "pickle.dump(model, open('../model/sensor_model_chilli.pkl', 'wb'))\n"
   ]
  },
  {
   "cell_type": "code",
   "execution_count": 78,
   "id": "43d268e0",
   "metadata": {
    "ExecuteTime": {
     "end_time": "2023-06-20T00:48:25.342368Z",
     "start_time": "2023-06-20T00:48:25.240389Z"
    }
   },
   "outputs": [
    {
     "name": "stdout",
     "output_type": "stream",
     "text": [
      "1/1 [==============================] - 0s 14ms/step\n"
     ]
    }
   ],
   "source": [
    "pred = model.predict(test_x).flatten()"
   ]
  },
  {
   "cell_type": "code",
   "execution_count": 79,
   "id": "70e282b4",
   "metadata": {},
   "outputs": [],
   "source": [
    "df = pd.DataFrame(list(zip(fids_list, pred)), columns = ['fid', 'losses'])"
   ]
  },
  {
   "cell_type": "code",
   "execution_count": 80,
   "id": "bb965bf7",
   "metadata": {},
   "outputs": [],
   "source": [
    "df['new'] = [x for x in range(len(df))]"
   ]
  },
  {
   "cell_type": "code",
   "execution_count": 81,
   "id": "9ef3749a",
   "metadata": {},
   "outputs": [
    {
     "data": {
      "text/html": [
       "<div>\n",
       "<style scoped>\n",
       "    .dataframe tbody tr th:only-of-type {\n",
       "        vertical-align: middle;\n",
       "    }\n",
       "\n",
       "    .dataframe tbody tr th {\n",
       "        vertical-align: top;\n",
       "    }\n",
       "\n",
       "    .dataframe thead th {\n",
       "        text-align: right;\n",
       "    }\n",
       "</style>\n",
       "<table border=\"1\" class=\"dataframe\">\n",
       "  <thead>\n",
       "    <tr style=\"text-align: right;\">\n",
       "      <th></th>\n",
       "      <th>fid</th>\n",
       "      <th>losses</th>\n",
       "      <th>new</th>\n",
       "    </tr>\n",
       "  </thead>\n",
       "  <tbody>\n",
       "    <tr>\n",
       "      <th>0</th>\n",
       "      <td>68764</td>\n",
       "      <td>0.859776</td>\n",
       "      <td>0</td>\n",
       "    </tr>\n",
       "    <tr>\n",
       "      <th>1</th>\n",
       "      <td>68731</td>\n",
       "      <td>0.859062</td>\n",
       "      <td>1</td>\n",
       "    </tr>\n",
       "    <tr>\n",
       "      <th>2</th>\n",
       "      <td>68752</td>\n",
       "      <td>0.856916</td>\n",
       "      <td>2</td>\n",
       "    </tr>\n",
       "    <tr>\n",
       "      <th>6</th>\n",
       "      <td>68376</td>\n",
       "      <td>0.882113</td>\n",
       "      <td>6</td>\n",
       "    </tr>\n",
       "  </tbody>\n",
       "</table>\n",
       "</div>"
      ],
      "text/plain": [
       "     fid    losses  new\n",
       "0  68764  0.859776    0\n",
       "1  68731  0.859062    1\n",
       "2  68752  0.856916    2\n",
       "6  68376  0.882113    6"
      ]
     },
     "execution_count": 81,
     "metadata": {},
     "output_type": "execute_result"
    }
   ],
   "source": [
    "df2 = df.loc[df['fid'].isin(['68764','68376','68731','68752'])]\n",
    "df2"
   ]
  },
  {
   "cell_type": "code",
   "execution_count": 82,
   "id": "2d887aa2",
   "metadata": {
    "ExecuteTime": {
     "end_time": "2023-06-20T00:53:46.339309Z",
     "start_time": "2023-06-20T00:53:46.315472Z"
    }
   },
   "outputs": [
    {
     "name": "stdout",
     "output_type": "stream",
     "text": [
      "68764 == expected = 15 predicated = 12.896642088890076\n",
      "68731 == expected = 2.5 predicated = 2.147654891014099\n",
      "68752 == expected = 10 predicated = 8.569164276123047\n",
      "68765 == expected = 2.5 predicated = 2.188718616962433\n",
      "68719 == expected = 1.5 predicated = 1.3039594888687134\n",
      "68373 == expected = 4.5 predicated = 3.872247487306595\n",
      "68376 yield not there\n",
      "68727 == expected = 6.5 predicated = 5.690952003002167\n"
     ]
    }
   ],
   "source": [
    "for ind, fi in enumerate(fids_list):\n",
    "    \n",
    "    yie = client.loc[client.fid == int(fi), 'Yield'].values[0]\n",
    "    if yie != 'None':\n",
    "        print(f'{fi} == expected = {yie} predicated = {float(yie) * pred[ind]}')\n",
    "        \n",
    "    else:\n",
    "        print(f'{fi} yield not there')"
   ]
  },
  {
   "cell_type": "code",
   "execution_count": 83,
   "id": "0edb29c2",
   "metadata": {
    "ExecuteTime": {
     "end_time": "2023-06-20T00:51:44.060301Z",
     "start_time": "2023-06-20T00:51:44.048018Z"
    }
   },
   "outputs": [],
   "source": [
    "# 68764 == expected = 15 predicated = 11.875164806842804\n",
    "# 68731 == expected = 2.5 predicated = 2.117215543985367\n",
    "# 68752 == expected = 10 predicated = 8.326057195663452\n",
    "# 68765 == expected = 2.5 predicated = 1.9736267626285553\n",
    "# 68719 == expected = 1.5 predicated = 1.2215710580348969\n",
    "# 68373 == expected = 4.5 predicated = 3.6889021396636963\n",
    "# 68376 yield not there\n",
    "# 68727 == expected = 6.5 predicated = 5.212023586034775\n",
    "\n"
   ]
  },
  {
   "cell_type": "code",
   "execution_count": 2,
   "id": "2a81a105",
   "metadata": {},
   "outputs": [],
   "source": [
    "df = pd.read_csv('/home/satyukt/Desktop/myfiles/mywork/power consumption/train.csv')"
   ]
  },
  {
   "cell_type": "code",
   "execution_count": 3,
   "id": "57f04850",
   "metadata": {},
   "outputs": [
    {
     "data": {
      "text/html": [
       "<div>\n",
       "<style scoped>\n",
       "    .dataframe tbody tr th:only-of-type {\n",
       "        vertical-align: middle;\n",
       "    }\n",
       "\n",
       "    .dataframe tbody tr th {\n",
       "        vertical-align: top;\n",
       "    }\n",
       "\n",
       "    .dataframe thead th {\n",
       "        text-align: right;\n",
       "    }\n",
       "</style>\n",
       "<table border=\"1\" class=\"dataframe\">\n",
       "  <thead>\n",
       "    <tr style=\"text-align: right;\">\n",
       "      <th></th>\n",
       "      <th>ID</th>\n",
       "      <th>datetime</th>\n",
       "      <th>temperature</th>\n",
       "      <th>var1</th>\n",
       "      <th>pressure</th>\n",
       "      <th>windspeed</th>\n",
       "      <th>var2</th>\n",
       "      <th>electricity_consumption</th>\n",
       "    </tr>\n",
       "  </thead>\n",
       "  <tbody>\n",
       "    <tr>\n",
       "      <th>0</th>\n",
       "      <td>0</td>\n",
       "      <td>2013-07-01 00:00:00</td>\n",
       "      <td>-11.4</td>\n",
       "      <td>-17.1</td>\n",
       "      <td>1003.0</td>\n",
       "      <td>571.910</td>\n",
       "      <td>A</td>\n",
       "      <td>216.0</td>\n",
       "    </tr>\n",
       "    <tr>\n",
       "      <th>1</th>\n",
       "      <td>1</td>\n",
       "      <td>2013-07-01 01:00:00</td>\n",
       "      <td>-12.1</td>\n",
       "      <td>-19.3</td>\n",
       "      <td>996.0</td>\n",
       "      <td>575.040</td>\n",
       "      <td>A</td>\n",
       "      <td>210.0</td>\n",
       "    </tr>\n",
       "    <tr>\n",
       "      <th>2</th>\n",
       "      <td>2</td>\n",
       "      <td>2013-07-01 02:00:00</td>\n",
       "      <td>-12.9</td>\n",
       "      <td>-20.0</td>\n",
       "      <td>1000.0</td>\n",
       "      <td>578.435</td>\n",
       "      <td>A</td>\n",
       "      <td>225.0</td>\n",
       "    </tr>\n",
       "    <tr>\n",
       "      <th>3</th>\n",
       "      <td>3</td>\n",
       "      <td>2013-07-01 03:00:00</td>\n",
       "      <td>-11.4</td>\n",
       "      <td>-17.1</td>\n",
       "      <td>995.0</td>\n",
       "      <td>582.580</td>\n",
       "      <td>A</td>\n",
       "      <td>216.0</td>\n",
       "    </tr>\n",
       "    <tr>\n",
       "      <th>4</th>\n",
       "      <td>4</td>\n",
       "      <td>2013-07-01 04:00:00</td>\n",
       "      <td>-11.4</td>\n",
       "      <td>-19.3</td>\n",
       "      <td>1005.0</td>\n",
       "      <td>586.600</td>\n",
       "      <td>A</td>\n",
       "      <td>222.0</td>\n",
       "    </tr>\n",
       "    <tr>\n",
       "      <th>...</th>\n",
       "      <td>...</td>\n",
       "      <td>...</td>\n",
       "      <td>...</td>\n",
       "      <td>...</td>\n",
       "      <td>...</td>\n",
       "      <td>...</td>\n",
       "      <td>...</td>\n",
       "      <td>...</td>\n",
       "    </tr>\n",
       "    <tr>\n",
       "      <th>26491</th>\n",
       "      <td>34891</td>\n",
       "      <td>2017-06-23 19:00:00</td>\n",
       "      <td>-0.7</td>\n",
       "      <td>-15.0</td>\n",
       "      <td>1009.0</td>\n",
       "      <td>51.685</td>\n",
       "      <td>A</td>\n",
       "      <td>225.0</td>\n",
       "    </tr>\n",
       "    <tr>\n",
       "      <th>26492</th>\n",
       "      <td>34892</td>\n",
       "      <td>2017-06-23 20:00:00</td>\n",
       "      <td>-2.9</td>\n",
       "      <td>-11.4</td>\n",
       "      <td>1005.0</td>\n",
       "      <td>56.105</td>\n",
       "      <td>A</td>\n",
       "      <td>213.0</td>\n",
       "    </tr>\n",
       "    <tr>\n",
       "      <th>26493</th>\n",
       "      <td>34893</td>\n",
       "      <td>2017-06-23 21:00:00</td>\n",
       "      <td>-1.4</td>\n",
       "      <td>-12.9</td>\n",
       "      <td>995.0</td>\n",
       "      <td>61.275</td>\n",
       "      <td>A</td>\n",
       "      <td>213.0</td>\n",
       "    </tr>\n",
       "    <tr>\n",
       "      <th>26494</th>\n",
       "      <td>34894</td>\n",
       "      <td>2017-06-23 22:00:00</td>\n",
       "      <td>-2.9</td>\n",
       "      <td>-11.4</td>\n",
       "      <td>996.0</td>\n",
       "      <td>67.210</td>\n",
       "      <td>A</td>\n",
       "      <td>210.0</td>\n",
       "    </tr>\n",
       "    <tr>\n",
       "      <th>26495</th>\n",
       "      <td>34895</td>\n",
       "      <td>2017-06-23 23:00:00</td>\n",
       "      <td>-2.1</td>\n",
       "      <td>-11.4</td>\n",
       "      <td>1009.0</td>\n",
       "      <td>71.880</td>\n",
       "      <td>A</td>\n",
       "      <td>210.0</td>\n",
       "    </tr>\n",
       "  </tbody>\n",
       "</table>\n",
       "<p>26496 rows × 8 columns</p>\n",
       "</div>"
      ],
      "text/plain": [
       "          ID             datetime  temperature  var1  pressure  windspeed  \\\n",
       "0          0  2013-07-01 00:00:00        -11.4 -17.1    1003.0    571.910   \n",
       "1          1  2013-07-01 01:00:00        -12.1 -19.3     996.0    575.040   \n",
       "2          2  2013-07-01 02:00:00        -12.9 -20.0    1000.0    578.435   \n",
       "3          3  2013-07-01 03:00:00        -11.4 -17.1     995.0    582.580   \n",
       "4          4  2013-07-01 04:00:00        -11.4 -19.3    1005.0    586.600   \n",
       "...      ...                  ...          ...   ...       ...        ...   \n",
       "26491  34891  2017-06-23 19:00:00         -0.7 -15.0    1009.0     51.685   \n",
       "26492  34892  2017-06-23 20:00:00         -2.9 -11.4    1005.0     56.105   \n",
       "26493  34893  2017-06-23 21:00:00         -1.4 -12.9     995.0     61.275   \n",
       "26494  34894  2017-06-23 22:00:00         -2.9 -11.4     996.0     67.210   \n",
       "26495  34895  2017-06-23 23:00:00         -2.1 -11.4    1009.0     71.880   \n",
       "\n",
       "      var2  electricity_consumption  \n",
       "0        A                    216.0  \n",
       "1        A                    210.0  \n",
       "2        A                    225.0  \n",
       "3        A                    216.0  \n",
       "4        A                    222.0  \n",
       "...    ...                      ...  \n",
       "26491    A                    225.0  \n",
       "26492    A                    213.0  \n",
       "26493    A                    213.0  \n",
       "26494    A                    210.0  \n",
       "26495    A                    210.0  \n",
       "\n",
       "[26496 rows x 8 columns]"
      ]
     },
     "execution_count": 3,
     "metadata": {},
     "output_type": "execute_result"
    }
   ],
   "source": [
    "df"
   ]
  },
  {
   "cell_type": "code",
   "execution_count": 5,
   "id": "f0c976ea",
   "metadata": {},
   "outputs": [
    {
     "data": {
      "text/plain": [
       "array(['A', 'B', 'C'], dtype=object)"
      ]
     },
     "execution_count": 5,
     "metadata": {},
     "output_type": "execute_result"
    }
   ],
   "source": [
    "df['var2'].uniqueue()"
   ]
  },
  {
   "cell_type": "code",
   "execution_count": null,
   "id": "b0b2f1ab",
   "metadata": {},
   "outputs": [],
   "source": []
  }
 ],
 "metadata": {
  "kernelspec": {
   "display_name": "ml",
   "language": "python",
   "name": "myenv"
  },
  "language_info": {
   "codemirror_mode": {
    "name": "ipython",
    "version": 3
   },
   "file_extension": ".py",
   "mimetype": "text/x-python",
   "name": "python",
   "nbconvert_exporter": "python",
   "pygments_lexer": "ipython3",
   "version": "3.10.12"
  },
  "varInspector": {
   "cols": {
    "lenName": 16,
    "lenType": 16,
    "lenVar": 40
   },
   "kernels_config": {
    "python": {
     "delete_cmd_postfix": "",
     "delete_cmd_prefix": "del ",
     "library": "var_list.py",
     "varRefreshCmd": "print(var_dic_list())"
    },
    "r": {
     "delete_cmd_postfix": ") ",
     "delete_cmd_prefix": "rm(",
     "library": "var_list.r",
     "varRefreshCmd": "cat(var_dic_list()) "
    }
   },
   "types_to_exclude": [
    "module",
    "function",
    "builtin_function_or_method",
    "instance",
    "_Feature"
   ],
   "window_display": false
  }
 },
 "nbformat": 4,
 "nbformat_minor": 5
}
